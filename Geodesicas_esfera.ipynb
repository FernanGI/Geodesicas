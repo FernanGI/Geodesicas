{
 "cells": [
  {
   "cell_type": "code",
   "execution_count": 93,
   "id": "0a10f6d9",
   "metadata": {},
   "outputs": [],
   "source": [
    "import sympy  as sp\n",
    "from sympy import *\n",
    "import numpy as np\n",
    "#Para resolver sistemas de ecuaciones diferencials \n",
    "from sympy.solvers.ode.systems import dsolve_system\n",
    "from IPython.display import display, Math\n"
   ]
  },
  {
   "cell_type": "code",
   "execution_count": 52,
   "id": "fe9798dc",
   "metadata": {},
   "outputs": [],
   "source": [
    "sp.interactive.printing.init_printing(use_latex=True)"
   ]
  },
  {
   "cell_type": "code",
   "execution_count": 176,
   "id": "031337be",
   "metadata": {},
   "outputs": [],
   "source": [
    "#Declaración de las variables que vamos a usar\n",
    "phi, theta= sp.symbols('phi theta')\n",
    "r = 2\n",
    "#Vector con las variables que vamos a usar \n",
    "variables = [theta,phi]\n",
    "\n",
    "\n"
   ]
  },
  {
   "cell_type": "code",
   "execution_count": 177,
   "id": "777b6190",
   "metadata": {},
   "outputs": [
    {
     "data": {
      "image/png": "[encoded data removed]",
      "text/latex": [
       "$\\displaystyle \\left[\\begin{matrix}2 & 0\\\\0 & 2 \\cos^{2}{\\left(\\theta \\right)}\\end{matrix}\\right]$"
      ],
      "text/plain": [
       "⎡2      0    ⎤\n",
       "⎢            ⎥\n",
       "⎢        2   ⎥\n",
       "⎣0  2⋅cos (θ)⎦"
      ]
     },
     "execution_count": 177,
     "metadata": {},
     "output_type": "execute_result"
    }
   ],
   "source": [
    "#Expreso la métrica en forma matricial \n",
    "g = sp.Matrix([[r,0],[0,r*cos(theta)**2]])\n",
    "g"
   ]
  },
  {
   "cell_type": "code",
   "execution_count": 178,
   "id": "72cd9581",
   "metadata": {},
   "outputs": [
    {
     "data": {
      "image/png": "[encoded data removed]",
      "text/latex": [
       "$\\displaystyle \\left[\\begin{matrix}0.5 & 0\\\\0 & \\frac{1}{2 \\cos^{2}{\\left(\\theta \\right)}}\\end{matrix}\\right]$"
      ],
      "text/plain": [
       "⎡0.5      0    ⎤\n",
       "⎢              ⎥\n",
       "⎢         1    ⎥\n",
       "⎢ 0   ─────────⎥\n",
       "⎢          2   ⎥\n",
       "⎣     2⋅cos (θ)⎦"
      ]
     },
     "execution_count": 178,
     "metadata": {},
     "output_type": "execute_result"
    }
   ],
   "source": [
    "#Esto es para poder hacerlo en python y no en sympy que es horrible\n",
    "g = [[r,0],[0,r*cos(theta)**2]]\n",
    "\n",
    "#SOLO SIRVE PARA MATRICES DIAGONALES \n",
    "g_inv = [[i for i in v] for v in g]\n",
    "for i in range(len(g_inv)):\n",
    "    for j in range(len(g_inv)):\n",
    "        if g_inv[i][j]!= 0:\n",
    "            g_inv[i][i]= g_inv[i][i]**-1\n",
    "#Para ver bonita la matriz inversa \n",
    "g_inv_sp  = Matrix(g_inv)\n",
    "g_inv_sp\n",
    "        "
   ]
  },
  {
   "cell_type": "code",
   "execution_count": 179,
   "id": "c1ea5bf6",
   "metadata": {},
   "outputs": [
    {
     "data": {
      "image/png": "[encoded data removed]",
      "text/latex": [
       "$\\displaystyle \\left[ \\left[ \\left[ 0, \\  0\\right], \\  \\left[ 0, \\  - 2 \\sin{\\left(2 \\theta \\right)}\\right]\\right], \\  \\left[ \\left[ 0, \\  0\\right], \\  \\left[ 0, \\  0\\right]\\right]\\right]$"
      ],
      "text/plain": [
       "[[[0, 0], [0, -2⋅sin(2⋅θ)]], [[0, 0], [0, 0]]]"
      ]
     },
     "execution_count": 179,
     "metadata": {},
     "output_type": "execute_result"
    }
   ],
   "source": [
    "#Este vector va a contener la matriz g derivada respecto de cada la variable\n",
    "#Por ejemplo derivadas_variable[0] es la derivada de toda la matriz respecto de t\n",
    "#            derivadas_variable[1] es la derivada de toda la matriz respecto de x\n",
    "#Y derivadas_variable[1][0][0] es la derivad parcial de g_{0,0} respecto x\n",
    "# y así sucesivamente \n",
    "derivadas_variable = []\n",
    "\n",
    "for variable in variables: \n",
    "    derivada_variable = [[0 for i in variables] for j in variables]\n",
    "    for i in range(len(variables)):\n",
    "        for j in range(len(variables)): \n",
    "            funcion = g[i][j]\n",
    "            #Para no hacer la derivada de un número \n",
    "            if type(funcion) == sp.core.mul.Mul or type(funcion) == sp.core.power.Pow: \n",
    "                derivada_variable[i][j] = simplify(funcion.diff(variable))\n",
    "                \n",
    "    derivadas_variable.append(derivada_variable)\n",
    "derivadas_variable"
   ]
  },
  {
   "cell_type": "code",
   "execution_count": 180,
   "id": "2669cc9d",
   "metadata": {},
   "outputs": [],
   "source": [
    "\n",
    "\n",
    "#Esta matriz va a tener los simbolos de chistoffle \n",
    "#Por ejemplo, simbolo_chirtoffle[2][0][1] sería \\gamma^y_{t,x}\n",
    "simbolos_chistoffle = [[[0 for j in variables] for i in variables] for m in variables]\n",
    "\n",
    "\n",
    "for m in range(len(variables)):\n",
    "    for i in range(len(variables)):\n",
    "        for j in range(len(variables)):\n",
    "            simbolo = 0\n",
    "            #El sumatorio respecto del indice libre l \n",
    "            for l in range(len(variables)):\n",
    "                #Para evitar hacer una multiplicación por 0 \n",
    "                if  g_inv[m][l] != 0: \n",
    "                    simbolo =simbolo + g_inv[m][l]*(derivadas_variable[j][i][l]+derivadas_variable[i][j][l]-derivadas_variable[l][i][j])\n",
    "            #Aquí multiplico  por el 1/2 que hemos sacado de factor común \n",
    "            simbolo =1/2*simbolo\n",
    "            simbolos_chistoffle[m][i][j] = simplify(simbolo)"
   ]
  },
  {
   "cell_type": "code",
   "execution_count": 181,
   "id": "39bf8e92",
   "metadata": {},
   "outputs": [
    {
     "data": {
      "text/latex": [
       "$\\displaystyle \\Gamma^{theta}_{phi,phi} = 0.5 \\sin{\\left(2 \\theta \\right)}$"
      ],
      "text/plain": [
       "<IPython.core.display.Math object>"
      ]
     },
     "metadata": {},
     "output_type": "display_data"
    },
    {
     "data": {
      "text/latex": [
       "$\\displaystyle \\Gamma^{phi}_{theta,phi} = - 1.0 \\tan{\\left(\\theta \\right)}$"
      ],
      "text/plain": [
       "<IPython.core.display.Math object>"
      ]
     },
     "metadata": {},
     "output_type": "display_data"
    },
    {
     "data": {
      "text/latex": [
       "$\\displaystyle \\Gamma^{phi}_{phi,theta} = - 1.0 \\tan{\\left(\\theta \\right)}$"
      ],
      "text/plain": [
       "<IPython.core.display.Math object>"
      ]
     },
     "metadata": {},
     "output_type": "display_data"
    }
   ],
   "source": [
    "\n",
    "for i in range(len(simbolos_chistoffle)):\n",
    "    for j in range(len(simbolos_chistoffle)):\n",
    "        for k in range(len(simbolos_chistoffle)):\n",
    "             if simbolos_chistoffle[i][j][k] != 0:\n",
    "                display(Math(f'\\Gamma^{{{variables[i]}}}_{{{variables[j]},{variables[k]}}} = ' +latex(simbolos_chistoffle[i][j][k])))"
   ]
  },
  {
   "cell_type": "code",
   "execution_count": 182,
   "id": "71133660",
   "metadata": {},
   "outputs": [],
   "source": [
    "#Variable para poder derivar \n",
    "tau = sp.symbols(\"tau\")\n",
    "\n",
    "#Defino las derivadas, esto para poder resolverlo \n",
    "dr = sp.Function(\"dr\")(tau)\n",
    "dphi = sp.Function('dphi')(tau) \n",
    "dtheta = sp.Function(\"dtheta\")(tau)\n",
    "#Quitamos dz\n",
    "variables_derivadas = [dphi,dtheta]\n"
   ]
  },
  {
   "cell_type": "code",
   "execution_count": 183,
   "id": "7cc925a2",
   "metadata": {},
   "outputs": [],
   "source": [
    "#Esto va a con\n",
    "geodesicas = [i.diff(tau) for i in variables_derivadas]\n",
    "\n",
    "for variable in range(len(variables)): \n",
    "    for i in range(len(variables)):\n",
    "        for j in range(len(variables)):\n",
    "            geodesicas[variable] = geodesicas[variable] +simplify( simbolos_chistoffle[variable][i][j]*variables_derivadas[i]*variables_derivadas[j])\n",
    "    geodesicas[variable] = sp.Eq(geodesicas[variable],0)\n",
    "    \n"
   ]
  },
  {
   "cell_type": "code",
   "execution_count": 184,
   "id": "20d8a4f9",
   "metadata": {},
   "outputs": [
    {
     "data": {
      "image/png": "[encoded data removed]",
      "text/latex": [
       "$\\displaystyle 0.5 \\operatorname{dtheta}^{2}{\\left(\\tau \\right)} \\sin{\\left(2 \\theta \\right)} + \\frac{d}{d \\tau} \\operatorname{dphi}{\\left(\\tau \\right)} = 0$"
      ],
      "text/plain": [
       "          2               d              \n",
       "0.5⋅dtheta (τ)⋅sin(2⋅θ) + ──(dphi(τ)) = 0\n",
       "                          dτ             "
      ]
     },
     "metadata": {},
     "output_type": "display_data"
    },
    {
     "data": {
      "image/png": "[encoded data removed]",
      "text/latex": [
       "$\\displaystyle - 2.0 \\operatorname{dphi}{\\left(\\tau \\right)} \\operatorname{dtheta}{\\left(\\tau \\right)} \\tan{\\left(\\theta \\right)} + \\frac{d}{d \\tau} \\operatorname{dtheta}{\\left(\\tau \\right)} = 0$"
      ],
      "text/plain": [
       "                                d                \n",
       "-2.0⋅dphi(τ)⋅dtheta(τ)⋅tan(θ) + ──(dtheta(τ)) = 0\n",
       "                                dτ               "
      ]
     },
     "metadata": {},
     "output_type": "display_data"
    }
   ],
   "source": [
    "for v in geodesicas: \n",
    "    display(v)"
   ]
  },
  {
   "cell_type": "code",
   "execution_count": 156,
   "id": "d45e5a4e",
   "metadata": {},
   "outputs": [],
   "source": [
    "r = sp.Function('r')(tau)\n",
    "phi = sp.Function('phi')(tau)\n",
    "theta = sp.Function('theta')(tau)\n"
   ]
  },
  {
   "cell_type": "code",
   "execution_count": 157,
   "id": "3518b9f9",
   "metadata": {},
   "outputs": [],
   "source": [
    "u_0 =  sp.Function('u_0')(tau)\n",
    "u_1 = sp.Function(\"u_1\")(tau)\n",
    "u_2 = sp.Function(\"u_2\")(tau)"
   ]
  },
  {
   "cell_type": "code",
   "execution_count": 160,
   "id": "86667ba2",
   "metadata": {},
   "outputs": [
    {
     "data": {
      "image/png": "[encoded data removed]",
      "text/latex": [
       "$\\displaystyle \\frac{d}{d \\tau} \\theta{\\left(\\tau \\right)} = \\operatorname{u_{0}}{\\left(\\tau \\right)}$"
      ],
      "text/plain": [
       "d               \n",
       "──(θ(τ)) = u₀(τ)\n",
       "dτ              "
      ]
     },
     "execution_count": 160,
     "metadata": {},
     "output_type": "execute_result"
    }
   ],
   "source": [
    "dtheta = sp.Eq(theta.diff(),u_0)\n",
    "dtheta"
   ]
  },
  {
   "cell_type": "code",
   "execution_count": 161,
   "id": "4fdcb131",
   "metadata": {},
   "outputs": [
    {
     "data": {
      "image/png": "[encoded data removed]",
      "text/latex": [
       "$\\displaystyle \\frac{d}{d \\tau} \\phi{\\left(\\tau \\right)} = \\operatorname{u_{1}}{\\left(\\tau \\right)}$"
      ],
      "text/plain": [
       "d               \n",
       "──(φ(τ)) = u₁(τ)\n",
       "dτ              "
      ]
     },
     "execution_count": 161,
     "metadata": {},
     "output_type": "execute_result"
    }
   ],
   "source": [
    "dphi = sp.Eq(phi.diff(),u_1)\n",
    "dphi"
   ]
  },
  {
   "cell_type": "code",
   "execution_count": 38,
   "id": "9db0e538",
   "metadata": {},
   "outputs": [
    {
     "data": {
      "image/png": "[encoded data removed]",
      "text/latex": [
       "$\\displaystyle \\frac{d}{d \\tau} \\operatorname{u_{0}}{\\left(\\tau \\right)} = \\frac{\\operatorname{dphi}^{2}{\\left(\\tau \\right)} \\sin^{2}{\\left(\\phi{\\left(\\tau \\right)} \\right)}}{r{\\left(\\tau \\right)}} - \\frac{\\operatorname{dr}^{2}{\\left(\\tau \\right)}}{r{\\left(\\tau \\right)}}$"
      ],
      "text/plain": [
       "                2       2           2   \n",
       "d           dphi (τ)⋅sin (φ(τ))   dr (τ)\n",
       "──(u₀(τ)) = ─────────────────── - ──────\n",
       "dτ                  r(τ)           r(τ) "
      ]
     },
     "execution_count": 38,
     "metadata": {},
     "output_type": "execute_result"
    }
   ],
   "source": [
    "du_0 = sp.Eq(u_0.diff(),-dr**2/r+(dphi**2*sin(phi)**2)/r)\n",
    "du_0"
   ]
  },
  {
   "cell_type": "code",
   "execution_count": 39,
   "id": "946950bc",
   "metadata": {},
   "outputs": [
    {
     "data": {
      "image/png": "[encoded data removed]",
      "text/latex": [
       "$\\displaystyle \\frac{d}{d \\tau} \\operatorname{u_{1}}{\\left(\\tau \\right)} = - \\frac{\\operatorname{dphi}^{2}{\\left(\\tau \\right)}}{\\tan{\\left(\\phi{\\left(\\tau \\right)} \\right)}} - \\frac{2 \\operatorname{dphi}{\\left(\\tau \\right)} \\operatorname{dr}{\\left(\\tau \\right)}}{r{\\left(\\tau \\right)}}$"
      ],
      "text/plain": [
       "                   2                     \n",
       "d              dphi (τ)   2⋅dphi(τ)⋅dr(τ)\n",
       "──(u₁(τ)) = - ───────── - ───────────────\n",
       "dτ            tan(φ(τ))         r(τ)     "
      ]
     },
     "execution_count": 39,
     "metadata": {},
     "output_type": "execute_result"
    }
   ],
   "source": [
    "du_1 = sp.Eq(u_1.diff(tau),-(dphi**2/tan(phi)+2*dphi*dr/r) )\n",
    "du_1"
   ]
  },
  {
   "cell_type": "code",
   "execution_count": 162,
   "id": "132f3623",
   "metadata": {},
   "outputs": [
    {
     "ename": "NotImplementedError",
     "evalue": "\nThe system of ODEs passed cannot be solved by dsolve_system.",
     "output_type": "error",
     "traceback": [
      "\u001b[0;31m---------------------------------------------------------------------------\u001b[0m",
      "\u001b[0;31mNotImplementedError\u001b[0m                       Traceback (most recent call last)",
      "\u001b[0;32m<ipython-input-162-60fa67b447ca>\u001b[0m in \u001b[0;36m<module>\u001b[0;34m\u001b[0m\n\u001b[0;32m----> 1\u001b[0;31m \u001b[0mdsolve_system\u001b[0m\u001b[0;34m(\u001b[0m\u001b[0;34m[\u001b[0m\u001b[0mdtheta\u001b[0m\u001b[0;34m,\u001b[0m\u001b[0mdphi\u001b[0m\u001b[0;34m,\u001b[0m\u001b[0mgeodesicas\u001b[0m\u001b[0;34m[\u001b[0m\u001b[0;36m0\u001b[0m\u001b[0;34m]\u001b[0m\u001b[0;34m,\u001b[0m\u001b[0mgeodesicas\u001b[0m\u001b[0;34m[\u001b[0m\u001b[0;36m1\u001b[0m\u001b[0;34m]\u001b[0m\u001b[0;34m]\u001b[0m\u001b[0;34m)\u001b[0m\u001b[0;34m\u001b[0m\u001b[0;34m\u001b[0m\u001b[0m\n\u001b[0m",
      "\u001b[0;32m/usr/local/lib/python3.8/dist-packages/sympy/solvers/ode/systems.py\u001b[0m in \u001b[0;36mdsolve_system\u001b[0;34m(eqs, funcs, t, ics, doit, simplify)\u001b[0m\n\u001b[1;32m   2119\u001b[0m \u001b[0;34m\u001b[0m\u001b[0m\n\u001b[1;32m   2120\u001b[0m         \u001b[0;32mif\u001b[0m \u001b[0msol\u001b[0m \u001b[0;32mis\u001b[0m \u001b[0;32mNone\u001b[0m\u001b[0;34m:\u001b[0m\u001b[0;34m\u001b[0m\u001b[0;34m\u001b[0m\u001b[0m\n\u001b[0;32m-> 2121\u001b[0;31m             \u001b[0msol\u001b[0m \u001b[0;34m=\u001b[0m \u001b[0m_component_solver\u001b[0m\u001b[0;34m(\u001b[0m\u001b[0mcanon_eq\u001b[0m\u001b[0;34m,\u001b[0m \u001b[0mfuncs\u001b[0m\u001b[0;34m,\u001b[0m \u001b[0mt\u001b[0m\u001b[0;34m)\u001b[0m\u001b[0;34m\u001b[0m\u001b[0;34m\u001b[0m\u001b[0m\n\u001b[0m\u001b[1;32m   2122\u001b[0m \u001b[0;34m\u001b[0m\u001b[0m\n\u001b[1;32m   2123\u001b[0m         \u001b[0msols\u001b[0m\u001b[0;34m.\u001b[0m\u001b[0mappend\u001b[0m\u001b[0;34m(\u001b[0m\u001b[0msol\u001b[0m\u001b[0;34m)\u001b[0m\u001b[0;34m\u001b[0m\u001b[0;34m\u001b[0m\u001b[0m\n",
      "\u001b[0;32m/usr/local/lib/python3.8/dist-packages/sympy/solvers/ode/systems.py\u001b[0m in \u001b[0;36m_component_solver\u001b[0;34m(eqs, funcs, t)\u001b[0m\n\u001b[1;32m   1788\u001b[0m \u001b[0;34m\u001b[0m\u001b[0m\n\u001b[1;32m   1789\u001b[0m         \u001b[0;31m# wcc_sol: List of Equations\u001b[0m\u001b[0;34m\u001b[0m\u001b[0;34m\u001b[0m\u001b[0;34m\u001b[0m\u001b[0m\n\u001b[0;32m-> 1790\u001b[0;31m         \u001b[0msol\u001b[0m \u001b[0;34m+=\u001b[0m \u001b[0m_weak_component_solver\u001b[0m\u001b[0;34m(\u001b[0m\u001b[0mwcc\u001b[0m\u001b[0;34m,\u001b[0m \u001b[0mt\u001b[0m\u001b[0;34m)\u001b[0m\u001b[0;34m\u001b[0m\u001b[0;34m\u001b[0m\u001b[0m\n\u001b[0m\u001b[1;32m   1791\u001b[0m \u001b[0;34m\u001b[0m\u001b[0m\n\u001b[1;32m   1792\u001b[0m     \u001b[0;31m# sol: List of Equations\u001b[0m\u001b[0;34m\u001b[0m\u001b[0;34m\u001b[0m\u001b[0;34m\u001b[0m\u001b[0m\n",
      "\u001b[0;32m/usr/local/lib/python3.8/dist-packages/sympy/solvers/ode/systems.py\u001b[0m in \u001b[0;36m_weak_component_solver\u001b[0;34m(wcc, t)\u001b[0m\n\u001b[1;32m   1769\u001b[0m \u001b[0;34m\u001b[0m\u001b[0m\n\u001b[1;32m   1770\u001b[0m         \u001b[0;32mif\u001b[0m \u001b[0mscc_sol\u001b[0m \u001b[0;32mis\u001b[0m \u001b[0;32mNone\u001b[0m\u001b[0;34m:\u001b[0m\u001b[0;34m\u001b[0m\u001b[0;34m\u001b[0m\u001b[0m\n\u001b[0;32m-> 1771\u001b[0;31m             raise NotImplementedError(filldedent('''\n\u001b[0m\u001b[1;32m   1772\u001b[0m                 \u001b[0mThe\u001b[0m \u001b[0msystem\u001b[0m \u001b[0mof\u001b[0m \u001b[0mODEs\u001b[0m \u001b[0mpassed\u001b[0m \u001b[0mcannot\u001b[0m \u001b[0mbe\u001b[0m \u001b[0msolved\u001b[0m \u001b[0mby\u001b[0m \u001b[0mdsolve_system\u001b[0m\u001b[0;34m.\u001b[0m\u001b[0;34m\u001b[0m\u001b[0;34m\u001b[0m\u001b[0m\n\u001b[1;32m   1773\u001b[0m             '''))\n",
      "\u001b[0;31mNotImplementedError\u001b[0m: \nThe system of ODEs passed cannot be solved by dsolve_system."
     ]
    }
   ],
   "source": [
    "dsolve_system([dtheta,dphi,geodesicas[0],geodesicas[1]])"
   ]
  },
  {
   "cell_type": "code",
   "execution_count": 23,
   "id": "812ba529",
   "metadata": {},
   "outputs": [
    {
     "data": {
      "image/png": "[encoded data removed]",
      "text/latex": [
       "$\\displaystyle \\frac{d}{d \\tau} x{\\left(\\tau \\right)} = \\operatorname{u_{0}}{\\left(\\tau \\right)}$"
      ],
      "text/plain": [
       "d               \n",
       "──(x(τ)) = u₀(τ)\n",
       "dτ              "
      ]
     },
     "metadata": {},
     "output_type": "display_data"
    },
    {
     "data": {
      "image/png": "[encoded data removed]",
      "text/latex": [
       "$\\displaystyle \\frac{d}{d \\tau} y{\\left(\\tau \\right)} = \\operatorname{u_{1}}{\\left(\\tau \\right)}$"
      ],
      "text/plain": [
       "d               \n",
       "──(y(τ)) = u₁(τ)\n",
       "dτ              "
      ]
     },
     "metadata": {},
     "output_type": "display_data"
    },
    {
     "data": {
      "image/png": "[encoded data removed]",
      "text/latex": [
       "$\\displaystyle \\frac{d}{d \\tau} \\operatorname{u_{0}}{\\left(\\tau \\right)} = \\frac{2 \\operatorname{u_{0}}{\\left(\\tau \\right)} \\operatorname{u_{1}}{\\left(\\tau \\right)}}{y{\\left(\\tau \\right)}}$"
      ],
      "text/plain": [
       "d           2⋅u₀(τ)⋅u₁(τ)\n",
       "──(u₀(τ)) = ─────────────\n",
       "dτ               y(τ)    "
      ]
     },
     "metadata": {},
     "output_type": "display_data"
    },
    {
     "data": {
      "image/png": "[encoded data removed]",
      "text/latex": [
       "$\\displaystyle \\frac{d}{d \\tau} \\operatorname{u_{1}}{\\left(\\tau \\right)} = \\frac{- \\operatorname{u_{0}}^{2}{\\left(\\tau \\right)} + \\operatorname{u_{1}}^{2}{\\left(\\tau \\right)}}{y{\\left(\\tau \\right)}}$"
      ],
      "text/plain": [
       "                2        2   \n",
       "d           - u₀ (τ) + u₁ (τ)\n",
       "──(u₁(τ)) = ─────────────────\n",
       "dτ                 y(τ)      "
      ]
     },
     "metadata": {},
     "output_type": "display_data"
    }
   ],
   "source": [
    "display(dx)\n",
    "display(dy)\n",
    "display(du_0)\n",
    "display(du_1)"
   ]
  },
  {
   "cell_type": "code",
   "execution_count": null,
   "id": "cfed7ff2",
   "metadata": {},
   "outputs": [],
   "source": []
  }
 ],
 "metadata": {
  "kernelspec": {
   "display_name": "Python 3",
   "language": "python",
   "name": "python3"
  },
  "language_info": {
   "codemirror_mode": {
    "name": "ipython",
    "version": 3
   },
   "file_extension": ".py",
   "mimetype": "text/x-python",
   "name": "python",
   "nbconvert_exporter": "python",
   "pygments_lexer": "ipython3",
   "version": "3.8.5"
  }
 },
 "nbformat": 4,
 "nbformat_minor": 5
}
