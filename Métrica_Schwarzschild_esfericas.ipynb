{
 "cells": [
  {
   "cell_type": "code",
   "execution_count": 1,
   "id": "0a10f6d9",
   "metadata": {},
   "outputs": [],
   "source": [
    "import sympy  as sp\n",
    "from sympy import *\n",
    "import numpy as np\n",
    "#Para resolver sistemas de ecuaciones diferencials \n",
    "from sympy.solvers.ode.systems import dsolve_system\n",
    "from IPython.display import display, Math\n",
    "from libreria_geometria import componentes_tensor_riemann, componentes_tensor_curvatura, componentes_tensor_ricci, curvatura_escalar"
   ]
  },
  {
   "cell_type": "code",
   "execution_count": 2,
   "id": "34628192",
   "metadata": {},
   "outputs": [],
   "source": [
    "sp.interactive.printing.init_printing(use_latex=True)"
   ]
  },
  {
   "cell_type": "code",
   "execution_count": 3,
   "id": "031337be",
   "metadata": {},
   "outputs": [],
   "source": [
    "#Declaración de las variables que vamos a usar\n",
    "t, r, theta, phi, M= sp.symbols('t r theta phi  M')\n",
    "#Esto aunque son variables vamos a ponerlas como variables para que sea mas elegante\n",
    "G, c = sp.symbols(\"G c\")\n",
    "r_s = sp.symbols(\"r_s\")\n",
    "#Vector con las variables que vamos a usar \n",
    "variables = [t,r,theta,phi]"
   ]
  },
  {
   "cell_type": "code",
   "execution_count": 4,
   "id": "777b6190",
   "metadata": {},
   "outputs": [
    {
     "data": {
      "image/png": "[encoded data removed]",
      "text/latex": [
       "$\\displaystyle \\left[\\begin{matrix}- c^{2} \\left(1 - \\frac{r_{s}}{r}\\right) & 0 & 0 & 0\\\\0 & \\frac{1}{1 - \\frac{r_{s}}{r}} & 0 & 0\\\\0 & 0 & r^{2} & 0\\\\0 & 0 & 0 & r^{2} \\sin^{2}{\\left(\\theta \\right)}\\end{matrix}\\right]$"
      ],
      "text/plain": [
       "⎡  2 ⎛    rₛ⎞                        ⎤\n",
       "⎢-c ⋅⎜1 - ──⎟    0     0       0     ⎥\n",
       "⎢    ⎝    r ⎠                        ⎥\n",
       "⎢                                    ⎥\n",
       "⎢                1                   ⎥\n",
       "⎢     0        ──────  0       0     ⎥\n",
       "⎢                  rₛ                ⎥\n",
       "⎢              1 - ──                ⎥\n",
       "⎢                  r                 ⎥\n",
       "⎢                                    ⎥\n",
       "⎢                       2            ⎥\n",
       "⎢     0          0     r       0     ⎥\n",
       "⎢                                    ⎥\n",
       "⎢                           2    2   ⎥\n",
       "⎣     0          0     0   r ⋅sin (θ)⎦"
      ]
     },
     "execution_count": 4,
     "metadata": {},
     "output_type": "execute_result"
    }
   ],
   "source": [
    "#Expreso la métrica en forma matricial \n",
    "g = sp.Matrix([[-c**2*((1-r_s/r)),0,0,0],\n",
    "    [0,((1-r_s/r))**-1,0,0],\n",
    "     [0,0,r**2,0],\n",
    "     [0,0,0,r**2*sp.sin(theta)**2]])\n",
    "g"
   ]
  },
  {
   "cell_type": "code",
   "execution_count": 5,
   "id": "72cd9581",
   "metadata": {},
   "outputs": [
    {
     "data": {
      "image/png": "[encoded data removed]",
      "text/latex": [
       "$\\displaystyle \\left[\\begin{matrix}- \\frac{1}{c^{2} \\left(1 - \\frac{r_{s}}{r}\\right)} & 0 & 0 & 0\\\\0 & 1 - \\frac{r_{s}}{r} & 0 & 0\\\\0 & 0 & \\frac{1}{r^{2}} & 0\\\\0 & 0 & 0 & \\frac{1}{r^{2} \\sin^{2}{\\left(\\theta \\right)}}\\end{matrix}\\right]$"
      ],
      "text/plain": [
       "⎡    -1                             ⎤\n",
       "⎢───────────    0     0       0     ⎥\n",
       "⎢ 2 ⎛    rₛ⎞                        ⎥\n",
       "⎢c ⋅⎜1 - ──⎟                        ⎥\n",
       "⎢   ⎝    r ⎠                        ⎥\n",
       "⎢                                   ⎥\n",
       "⎢                 rₛ                ⎥\n",
       "⎢     0       1 - ──  0       0     ⎥\n",
       "⎢                 r                 ⎥\n",
       "⎢                                   ⎥\n",
       "⎢                     1             ⎥\n",
       "⎢     0         0     ──      0     ⎥\n",
       "⎢                      2            ⎥\n",
       "⎢                     r             ⎥\n",
       "⎢                                   ⎥\n",
       "⎢                             1     ⎥\n",
       "⎢     0         0     0   ──────────⎥\n",
       "⎢                          2    2   ⎥\n",
       "⎣                         r ⋅sin (θ)⎦"
      ]
     },
     "execution_count": 5,
     "metadata": {},
     "output_type": "execute_result"
    }
   ],
   "source": [
    "#Esto es para poder hacerlo en python y no en sympy que es horrible\n",
    "g =[[-c**2*((1-r_s/r)),0,0,0],\n",
    "    [0,((1-r_s/r))**-1,0,0],\n",
    "     [0,0,r**2,0],\n",
    "     [0,0,0,r**2*sp.sin(theta)**2]]\n",
    "#SOLO SIRVE PARA MATRICES DIAGONALES \n",
    "g_inv = [[i for i in v] for v in g]\n",
    "for i in range(len(g_inv)):\n",
    "    for j in range(len(g_inv)):\n",
    "        if g_inv[i][j]!= 0:\n",
    "            g_inv[i][i]= g_inv[i][i]**-1\n",
    "#Para ver bonita la matriz inversa \n",
    "g_inv_sp  = Matrix(g_inv)\n",
    "g_inv_sp\n",
    "#g= sp.Matrix(g) "
   ]
  },
  {
   "cell_type": "code",
   "execution_count": 6,
   "id": "c1ea5bf6",
   "metadata": {},
   "outputs": [
    {
     "data": {
      "image/png": "[encoded data removed]",
      "text/latex": [
       "$\\displaystyle \\left[ \\left[ \\left[ 0, \\  0, \\  0, \\  0\\right], \\  \\left[ 0, \\  0, \\  0, \\  0\\right], \\  \\left[ 0, \\  0, \\  0, \\  0\\right], \\  \\left[ 0, \\  0, \\  0, \\  0\\right]\\right], \\  \\left[ \\left[ - \\frac{c^{2} r_{s}}{r^{2}}, \\  0, \\  0, \\  0\\right], \\  \\left[ 0, \\  - \\frac{r_{s}}{\\left(r - r_{s}\\right)^{2}}, \\  0, \\  0\\right], \\  \\left[ 0, \\  0, \\  2 r, \\  0\\right], \\  \\left[ 0, \\  0, \\  0, \\  2 r \\sin^{2}{\\left(\\theta \\right)}\\right]\\right], \\  \\left[ \\left[ 0, \\  0, \\  0, \\  0\\right], \\  \\left[ 0, \\  0, \\  0, \\  0\\right], \\  \\left[ 0, \\  0, \\  0, \\  0\\right], \\  \\left[ 0, \\  0, \\  0, \\  r^{2} \\sin{\\left(2 \\theta \\right)}\\right]\\right], \\  \\left[ \\left[ 0, \\  0, \\  0, \\  0\\right], \\  \\left[ 0, \\  0, \\  0, \\  0\\right], \\  \\left[ 0, \\  0, \\  0, \\  0\\right], \\  \\left[ 0, \\  0, \\  0, \\  0\\right]\\right]\\right]$"
      ],
      "text/plain": [
       "⎡                                                          ⎡⎡  2             ⎤\n",
       "⎢                                                          ⎢⎢-c ⋅rₛ          ⎥\n",
       "⎢[[0, 0, 0, 0], [0, 0, 0, 0], [0, 0, 0, 0], [0, 0, 0, 0]], ⎢⎢───────, 0, 0, 0⎥\n",
       "⎢                                                          ⎢⎢    2           ⎥\n",
       "⎣                                                          ⎣⎣   r            ⎦\n",
       "\n",
       "                                                              ⎤               \n",
       "  ⎡      -rₛ         ⎤                  ⎡                2   ⎤⎥  ⎡            \n",
       ", ⎢0, ─────────, 0, 0⎥, [0, 0, 2⋅r, 0], ⎣0, 0, 0, 2⋅r⋅sin (θ)⎦⎥, ⎣[0, 0, 0, 0]\n",
       "  ⎢           2      ⎥                                        ⎥               \n",
       "  ⎣   (r - rₛ)       ⎦                                        ⎦               \n",
       "\n",
       "                                                                              \n",
       "                              ⎡          2         ⎤⎤                         \n",
       ", [0, 0, 0, 0], [0, 0, 0, 0], ⎣0, 0, 0, r ⋅sin(2⋅θ)⎦⎦, [[0, 0, 0, 0], [0, 0, 0\n",
       "                                                                              \n",
       "                                                                              \n",
       "\n",
       "                                 ⎤\n",
       "                                 ⎥\n",
       ", 0], [0, 0, 0, 0], [0, 0, 0, 0]]⎥\n",
       "                                 ⎥\n",
       "                                 ⎦"
      ]
     },
     "execution_count": 6,
     "metadata": {},
     "output_type": "execute_result"
    }
   ],
   "source": [
    "#Este vector va a contener la matriz g derivada respecto de cada la variable\n",
    "#Por ejemplo derivadas_variable[0] es la derivada de toda la matriz respecto de t\n",
    "#            derivadas_variable[1] es la derivada de toda la matriz respecto de x\n",
    "#Y derivadas_variable[1][0][0] es la derivad parcial de g_{0,0} respecto x\n",
    "# y así sucesivamente \n",
    "derivadas_variable = []\n",
    "\n",
    "for variable in variables: \n",
    "    derivada_variable = [[0 for i in variables] for j in variables]\n",
    "    for i in range(len(variables)):\n",
    "        for j in range(len(variables)): \n",
    "            funcion = g[i][j]\n",
    "            #Para no hacer la derivada de un número \n",
    "            if type(funcion) == sp.core.mul.Mul or type(funcion) == sp.core.power.Pow: \n",
    "                derivada_variable[i][j] = simplify(funcion.diff(variable))\n",
    "                \n",
    "    derivadas_variable.append(derivada_variable)\n",
    "derivadas_variable"
   ]
  },
  {
   "cell_type": "code",
   "execution_count": 7,
   "id": "2669cc9d",
   "metadata": {},
   "outputs": [
    {
     "data": {
      "text/latex": [
       "$\\displaystyle \\Gamma^{t}_{t,r} = \\frac{0.5 r_{s}}{r \\left(r - r_{s}\\right)}$"
      ],
      "text/plain": [
       "<IPython.core.display.Math object>"
      ]
     },
     "metadata": {},
     "output_type": "display_data"
    },
    {
     "data": {
      "text/latex": [
       "$\\displaystyle \\Gamma^{t}_{r,t} = \\frac{0.5 r_{s}}{r \\left(r - r_{s}\\right)}$"
      ],
      "text/plain": [
       "<IPython.core.display.Math object>"
      ]
     },
     "metadata": {},
     "output_type": "display_data"
    },
    {
     "data": {
      "text/latex": [
       "$\\displaystyle \\Gamma^{r}_{t,t} = \\frac{0.5 c^{2} r_{s} \\left(r - r_{s}\\right)}{r^{3}}$"
      ],
      "text/plain": [
       "<IPython.core.display.Math object>"
      ]
     },
     "metadata": {},
     "output_type": "display_data"
    },
    {
     "data": {
      "text/latex": [
       "$\\displaystyle \\Gamma^{r}_{r,r} = - \\frac{0.5 r_{s}}{r \\left(r - r_{s}\\right)}$"
      ],
      "text/plain": [
       "<IPython.core.display.Math object>"
      ]
     },
     "metadata": {},
     "output_type": "display_data"
    },
    {
     "data": {
      "text/latex": [
       "$\\displaystyle \\Gamma^{r}_{theta,theta} = - 1.0 r + 1.0 r_{s}$"
      ],
      "text/plain": [
       "<IPython.core.display.Math object>"
      ]
     },
     "metadata": {},
     "output_type": "display_data"
    },
    {
     "data": {
      "text/latex": [
       "$\\displaystyle \\Gamma^{r}_{phi,phi} = 1.0 \\left(- r + r_{s}\\right) \\sin^{2}{\\left(\\theta \\right)}$"
      ],
      "text/plain": [
       "<IPython.core.display.Math object>"
      ]
     },
     "metadata": {},
     "output_type": "display_data"
    },
    {
     "data": {
      "text/latex": [
       "$\\displaystyle \\Gamma^{theta}_{r,theta} = \\frac{1.0}{r}$"
      ],
      "text/plain": [
       "<IPython.core.display.Math object>"
      ]
     },
     "metadata": {},
     "output_type": "display_data"
    },
    {
     "data": {
      "text/latex": [
       "$\\displaystyle \\Gamma^{theta}_{theta,r} = \\frac{1.0}{r}$"
      ],
      "text/plain": [
       "<IPython.core.display.Math object>"
      ]
     },
     "metadata": {},
     "output_type": "display_data"
    },
    {
     "data": {
      "text/latex": [
       "$\\displaystyle \\Gamma^{theta}_{phi,phi} = - 0.5 \\sin{\\left(2 \\theta \\right)}$"
      ],
      "text/plain": [
       "<IPython.core.display.Math object>"
      ]
     },
     "metadata": {},
     "output_type": "display_data"
    },
    {
     "data": {
      "text/latex": [
       "$\\displaystyle \\Gamma^{phi}_{r,phi} = \\frac{1.0}{r}$"
      ],
      "text/plain": [
       "<IPython.core.display.Math object>"
      ]
     },
     "metadata": {},
     "output_type": "display_data"
    },
    {
     "data": {
      "text/latex": [
       "$\\displaystyle \\Gamma^{phi}_{theta,phi} = \\frac{1.0}{\\tan{\\left(\\theta \\right)}}$"
      ],
      "text/plain": [
       "<IPython.core.display.Math object>"
      ]
     },
     "metadata": {},
     "output_type": "display_data"
    },
    {
     "data": {
      "text/latex": [
       "$\\displaystyle \\Gamma^{phi}_{phi,r} = \\frac{1.0}{r}$"
      ],
      "text/plain": [
       "<IPython.core.display.Math object>"
      ]
     },
     "metadata": {},
     "output_type": "display_data"
    },
    {
     "data": {
      "text/latex": [
       "$\\displaystyle \\Gamma^{phi}_{phi,theta} = \\frac{1.0}{\\tan{\\left(\\theta \\right)}}$"
      ],
      "text/plain": [
       "<IPython.core.display.Math object>"
      ]
     },
     "metadata": {},
     "output_type": "display_data"
    }
   ],
   "source": [
    "\n",
    "\n",
    "#Esta matriz va a tener los simbolos de chistoffle \n",
    "#Por ejemplo, simbolo_chirtoffle[2][0][1] sería \\gamma^y_{t,x}\n",
    "simbolos_chistoffle = [[[0 for j in variables] for i in variables] for m in variables]\n",
    "\n",
    "\n",
    "for m in range(len(variables)):\n",
    "    for i in range(len(variables)):\n",
    "        for j in range(len(variables)):\n",
    "            simbolo = 0\n",
    "            #El sumatorio respecto del indice libre l \n",
    "            for l in range(len(variables)):\n",
    "                #Para evitar hacer una multiplicación por 0 \n",
    "                if  g_inv[m][l] != 0: \n",
    "                    simbolo =simbolo + g_inv[m][l]*(derivadas_variable[j][i][l]+derivadas_variable[i][j][l]-derivadas_variable[l][i][j])\n",
    "            #Aquí multiplico  por el 1/2 que hemos sacado de factor común \n",
    "            simbolo =1/2*simbolo\n",
    "            simbolos_chistoffle[m][i][j] = simplify(simbolo)\n",
    "for i in range(len(simbolos_chistoffle)):\n",
    "    for j in range(len(simbolos_chistoffle)):\n",
    "        for k in range(len(simbolos_chistoffle)):\n",
    "            if simbolos_chistoffle[i][j][k] != 0:\n",
    "                \n",
    "                display(Math(f'\\Gamma^{{{variables[i]}}}_{{{variables[j]},{variables[k]}}} = ' +latex(simbolos_chistoffle[i][j][k])))"
   ]
  },
  {
   "cell_type": "code",
   "execution_count": 8,
   "id": "71133660",
   "metadata": {},
   "outputs": [],
   "source": [
    "#Variable para poder derivar \n",
    "tau = sp.symbols(\"tau\")\n",
    "\n",
    "#Defino las derivadas, esto para poder resolverlo \n",
    "dt = sp.Function('dt')(tau)\n",
    "dr = sp.Function(\"dr\")(tau)\n",
    "dtheta = sp.Function('dtheta')(tau) \n",
    "dphi =  sp.Function('dphi')(tau)\n",
    "\n",
    "\n",
    "#Quitamos dz\n",
    "variables_derivadas = [dt,dr,dtheta,dphi]\n"
   ]
  },
  {
   "cell_type": "code",
   "execution_count": 9,
   "id": "7cc925a2",
   "metadata": {},
   "outputs": [],
   "source": [
    "#Esto va a con\n",
    "geodesicas = [i.diff(tau) for i in variables_derivadas]\n",
    "\n",
    "for variable in range(len(variables)): \n",
    "    for i in range(len(variables)):\n",
    "        for j in range(len(variables)):\n",
    "            geodesicas[variable] = geodesicas[variable] +simplify( simbolos_chistoffle[variable][i][j]*variables_derivadas[i]*variables_derivadas[j])\n",
    "    geodesicas[variable] = sp.Eq(geodesicas[variable],0)\n"
   ]
  },
  {
   "cell_type": "code",
   "execution_count": 10,
   "id": "20d8a4f9",
   "metadata": {},
   "outputs": [
    {
     "data": {
      "image/png": "[encoded data removed]",
      "text/latex": [
       "$\\displaystyle \\frac{d}{d \\tau} \\operatorname{dt}{\\left(\\tau \\right)} + \\frac{1.0 r_{s} \\operatorname{dr}{\\left(\\tau \\right)} \\operatorname{dt}{\\left(\\tau \\right)}}{r \\left(r - r_{s}\\right)} = 0$"
      ],
      "text/plain": [
       "d           1.0⋅rₛ⋅dr(τ)⋅dt(τ)    \n",
       "──(dt(τ)) + ────────────────── = 0\n",
       "dτ              r⋅(r - rₛ)        "
      ]
     },
     "metadata": {},
     "output_type": "display_data"
    },
    {
     "data": {
      "image/png": "[encoded data removed]",
      "text/latex": [
       "$\\displaystyle \\frac{0.5 c^{2} r_{s} \\left(r - r_{s}\\right) \\operatorname{dt}^{2}{\\left(\\tau \\right)}}{r^{3}} + 1.0 \\left(- r + r_{s}\\right) \\operatorname{dphi}^{2}{\\left(\\tau \\right)} \\sin^{2}{\\left(\\theta \\right)} + 1.0 \\left(- r + r_{s}\\right) \\operatorname{dtheta}^{2}{\\left(\\tau \\right)} + \\frac{d}{d \\tau} \\operatorname{dr}{\\left(\\tau \\right)} - \\frac{0.5 r_{s} \\operatorname{dr}^{2}{\\left(\\tau \\right)}}{r \\left(r - r_{s}\\right)} = 0$"
      ],
      "text/plain": [
       "     2               2                                                        \n",
       "0.5⋅c ⋅rₛ⋅(r - rₛ)⋅dt (τ)                     2       2                       \n",
       "───────────────────────── + 1.0⋅(-r + rₛ)⋅dphi (τ)⋅sin (θ) + 1.0⋅(-r + rₛ)⋅dth\n",
       "             3                                                                \n",
       "            r                                                                 \n",
       "\n",
       "                               2       \n",
       "   2      d           0.5⋅rₛ⋅dr (τ)    \n",
       "eta (τ) + ──(dr(τ)) - ───────────── = 0\n",
       "          dτ            r⋅(r - rₛ)     \n",
       "                                       "
      ]
     },
     "metadata": {},
     "output_type": "display_data"
    },
    {
     "data": {
      "image/png": "[encoded data removed]",
      "text/latex": [
       "$\\displaystyle - 0.5 \\operatorname{dphi}^{2}{\\left(\\tau \\right)} \\sin{\\left(2 \\theta \\right)} + \\frac{d}{d \\tau} \\operatorname{dtheta}{\\left(\\tau \\right)} + \\frac{2.0 \\operatorname{dr}{\\left(\\tau \\right)} \\operatorname{dtheta}{\\left(\\tau \\right)}}{r} = 0$"
      ],
      "text/plain": [
       "          2               d               2.0⋅dr(τ)⋅dtheta(τ)    \n",
       "- 0.5⋅dphi (τ)⋅sin(2⋅θ) + ──(dtheta(τ)) + ─────────────────── = 0\n",
       "                          dτ                       r             "
      ]
     },
     "metadata": {},
     "output_type": "display_data"
    },
    {
     "data": {
      "image/png": "[encoded data removed]",
      "text/latex": [
       "$\\displaystyle \\frac{2.0 \\operatorname{dphi}{\\left(\\tau \\right)} \\operatorname{dtheta}{\\left(\\tau \\right)}}{\\tan{\\left(\\theta \\right)}} + \\frac{d}{d \\tau} \\operatorname{dphi}{\\left(\\tau \\right)} + \\frac{2.0 \\operatorname{dphi}{\\left(\\tau \\right)} \\operatorname{dr}{\\left(\\tau \\right)}}{r} = 0$"
      ],
      "text/plain": [
       "2.0⋅dphi(τ)⋅dtheta(τ)   d             2.0⋅dphi(τ)⋅dr(τ)    \n",
       "───────────────────── + ──(dphi(τ)) + ───────────────── = 0\n",
       "        tan(θ)          dτ                    r            "
      ]
     },
     "metadata": {},
     "output_type": "display_data"
    }
   ],
   "source": [
    "for v in geodesicas: \n",
    "    display(v)"
   ]
  },
  {
   "cell_type": "code",
   "execution_count": 12,
   "id": "d45e5a4e",
   "metadata": {},
   "outputs": [],
   "source": [
    "\n",
    "\n",
    "\n",
    "\n",
    "t = sp.Function('t')(tau)\n",
    "x = sp.Function('x')(tau)\n",
    "y = sp.Function('y')(tau)"
   ]
  },
  {
   "cell_type": "code",
   "execution_count": 13,
   "id": "3518b9f9",
   "metadata": {},
   "outputs": [],
   "source": [
    "u_0 =  sp.Function('u_0')(tau)\n",
    "u_1 = sp.Function(\"u_1\")(tau)\n",
    "u_2 = sp.Function(\"u_2\")(tau)"
   ]
  },
  {
   "cell_type": "code",
   "execution_count": 14,
   "id": "970a5002",
   "metadata": {},
   "outputs": [
    {
     "data": {
      "text/latex": [
       "$\\displaystyle \\rho_{s}{\\left(M \\right)}$"
      ],
      "text/plain": [
       "rho_s(M)"
      ]
     },
     "execution_count": 14,
     "metadata": {},
     "output_type": "execute_result"
    }
   ],
   "source": [
    "M,c = sp.symbols(\"M, c\")\n",
    "rho_s =  sp.Function('rho_s')(M)\n",
    "rho_s"
   ]
  },
  {
   "cell_type": "code",
   "execution_count": 15,
   "id": "4a7c4e18",
   "metadata": {},
   "outputs": [
    {
     "data": {
      "text/latex": [
       "$\\displaystyle \\sqrt{x^{2}{\\left(\\tau \\right)} + y^{2}{\\left(\\tau \\right)}}$"
      ],
      "text/plain": [
       "sqrt(x(tau)**2 + y(tau)**2)"
      ]
     },
     "execution_count": 15,
     "metadata": {},
     "output_type": "execute_result"
    }
   ],
   "source": [
    "rho=sp.sqrt(x**2+y**2)\n",
    "rho"
   ]
  },
  {
   "cell_type": "code",
   "execution_count": 16,
   "id": "86667ba2",
   "metadata": {},
   "outputs": [
    {
     "data": {
      "text/latex": [
       "$\\displaystyle \\frac{d}{d \\tau} t{\\left(\\tau \\right)} = \\operatorname{u_{0}}{\\left(\\tau \\right)}$"
      ],
      "text/plain": [
       "Eq(Derivative(t(tau), tau), u_0(tau))"
      ]
     },
     "execution_count": 16,
     "metadata": {},
     "output_type": "execute_result"
    }
   ],
   "source": [
    "dt = sp.Eq(t.diff(),u_0)\n",
    "dt"
   ]
  },
  {
   "cell_type": "code",
   "execution_count": 17,
   "id": "4fdcb131",
   "metadata": {},
   "outputs": [
    {
     "data": {
      "text/latex": [
       "$\\displaystyle \\frac{d}{d \\tau} x{\\left(\\tau \\right)} = \\operatorname{u_{1}}{\\left(\\tau \\right)}$"
      ],
      "text/plain": [
       "Eq(Derivative(x(tau), tau), u_1(tau))"
      ]
     },
     "execution_count": 17,
     "metadata": {},
     "output_type": "execute_result"
    }
   ],
   "source": [
    "dx = sp.Eq(x.diff(),u_1)\n",
    "dx"
   ]
  },
  {
   "cell_type": "code",
   "execution_count": 18,
   "id": "76059756",
   "metadata": {},
   "outputs": [
    {
     "data": {
      "text/latex": [
       "$\\displaystyle \\frac{d}{d \\tau} y{\\left(\\tau \\right)} = \\operatorname{u_{2}}{\\left(\\tau \\right)}$"
      ],
      "text/plain": [
       "Eq(Derivative(y(tau), tau), u_2(tau))"
      ]
     },
     "execution_count": 18,
     "metadata": {},
     "output_type": "execute_result"
    }
   ],
   "source": [
    "dy = sp.Eq(y.diff(),u_2)\n",
    "dy"
   ]
  },
  {
   "cell_type": "code",
   "execution_count": 19,
   "id": "9db0e538",
   "metadata": {},
   "outputs": [
    {
     "data": {
      "text/latex": [
       "$\\displaystyle \\frac{d}{d \\tau} \\operatorname{u_{0}}{\\left(\\tau \\right)} = - \\frac{4 \\left(\\operatorname{u_{1}}{\\left(\\tau \\right)} x{\\left(\\tau \\right)} + \\operatorname{u_{2}}{\\left(\\tau \\right)} y{\\left(\\tau \\right)}\\right) \\rho_{s}{\\left(M \\right)} \\operatorname{u_{0}}{\\left(\\tau \\right)}}{\\sqrt{x^{2}{\\left(\\tau \\right)} + y^{2}{\\left(\\tau \\right)}} \\left(- \\rho_{s}^{2}{\\left(M \\right)} + x^{2}{\\left(\\tau \\right)} + y^{2}{\\left(\\tau \\right)}\\right)}$"
      ],
      "text/plain": [
       "Eq(Derivative(u_0(tau), tau), -4*(u_1(tau)*x(tau) + u_2(tau)*y(tau))*rho_s(M)*u_0(tau)/(sqrt(x(tau)**2 + y(tau)**2)*(-rho_s(M)**2 + x(tau)**2 + y(tau)**2)))"
      ]
     },
     "execution_count": 19,
     "metadata": {},
     "output_type": "execute_result"
    }
   ],
   "source": [
    "du_0 = sp.Eq(u_0.diff(),-4*rho_s*u_0/(rho*(rho**2-rho_s**2))*(u_1*x+y*u_2))\n",
    "du_0"
   ]
  },
  {
   "cell_type": "code",
   "execution_count": 20,
   "id": "946950bc",
   "metadata": {},
   "outputs": [
    {
     "data": {
      "text/latex": [
       "$\\displaystyle \\frac{d}{d \\tau} \\operatorname{u_{1}}{\\left(\\tau \\right)} = - \\frac{2 c^{2} \\left(\\sqrt{x^{2}{\\left(\\tau \\right)} + y^{2}{\\left(\\tau \\right)}} - \\rho_{s}{\\left(M \\right)}\\right) \\left(x^{2}{\\left(\\tau \\right)} + y^{2}{\\left(\\tau \\right)}\\right)^{0.75} \\rho_{s}{\\left(M \\right)} \\operatorname{u_{0}}^{2}{\\left(\\tau \\right)} x{\\left(\\tau \\right)}}{\\left(\\sqrt{x^{2}{\\left(\\tau \\right)} + y^{2}{\\left(\\tau \\right)}} + \\rho_{s}{\\left(M \\right)}\\right)^{7}} - \\frac{2 \\left(\\left(- \\operatorname{u_{1}}^{2}{\\left(\\tau \\right)} + \\operatorname{u_{2}}^{2}{\\left(\\tau \\right)}\\right) x{\\left(\\tau \\right)} - 2 \\operatorname{u_{1}}{\\left(\\tau \\right)} \\operatorname{u_{2}}{\\left(\\tau \\right)} y{\\left(\\tau \\right)}\\right) \\rho_{s}{\\left(M \\right)}}{\\left(\\sqrt{x^{2}{\\left(\\tau \\right)} + y^{2}{\\left(\\tau \\right)}} + \\rho_{s}{\\left(M \\right)}\\right) \\left(x^{2}{\\left(\\tau \\right)} + y^{2}{\\left(\\tau \\right)}\\right)}$"
      ],
      "text/plain": [
       "Eq(Derivative(u_1(tau), tau), -2*c**2*(sqrt(x(tau)**2 + y(tau)**2) - rho_s(M))*(x(tau)**2 + y(tau)**2)**0.75*rho_s(M)*u_0(tau)**2*x(tau)/(sqrt(x(tau)**2 + y(tau)**2) + rho_s(M))**7 - 2*((-u_1(tau)**2 + u_2(tau)**2)*x(tau) - 2*u_1(tau)*u_2(tau)*y(tau))*rho_s(M)/((sqrt(x(tau)**2 + y(tau)**2) + rho_s(M))*(x(tau)**2 + y(tau)**2)))"
      ]
     },
     "execution_count": 20,
     "metadata": {},
     "output_type": "execute_result"
    }
   ],
   "source": [
    "du_1 = sp.Eq(u_1.diff(tau),-2*c**2*(rho-rho_s)*rho**(3/2)*rho_s*x*u_0**2/(rho_s+rho)**7-2*rho_s/((rho_s+rho)*rho**2)*(x*(u_2**2-u_1**2)-2*y*u_1*u_2) )\n",
    "du_1"
   ]
  },
  {
   "cell_type": "code",
   "execution_count": 21,
   "id": "f73ec28a",
   "metadata": {},
   "outputs": [
    {
     "data": {
      "text/latex": [
       "$\\displaystyle \\frac{d}{d \\tau} \\operatorname{u_{2}}{\\left(\\tau \\right)} = - \\frac{2 c^{2} \\left(\\sqrt{x^{2}{\\left(\\tau \\right)} + y^{2}{\\left(\\tau \\right)}} - \\rho_{s}{\\left(M \\right)}\\right) \\left(x^{2}{\\left(\\tau \\right)} + y^{2}{\\left(\\tau \\right)}\\right)^{0.75} \\rho_{s}{\\left(M \\right)} \\operatorname{u_{0}}^{2}{\\left(\\tau \\right)} y{\\left(\\tau \\right)}}{\\left(\\sqrt{x^{2}{\\left(\\tau \\right)} + y^{2}{\\left(\\tau \\right)}} + \\rho_{s}{\\left(M \\right)}\\right)^{7}} - \\frac{2 \\left(\\left(\\operatorname{u_{1}}^{2}{\\left(\\tau \\right)} - \\operatorname{u_{2}}^{2}{\\left(\\tau \\right)}\\right) y{\\left(\\tau \\right)} - 2 \\operatorname{u_{1}}{\\left(\\tau \\right)} \\operatorname{u_{2}}{\\left(\\tau \\right)} x{\\left(\\tau \\right)}\\right) \\rho_{s}{\\left(M \\right)}}{\\left(\\sqrt{x^{2}{\\left(\\tau \\right)} + y^{2}{\\left(\\tau \\right)}} + \\rho_{s}{\\left(M \\right)}\\right) \\left(x^{2}{\\left(\\tau \\right)} + y^{2}{\\left(\\tau \\right)}\\right)}$"
      ],
      "text/plain": [
       "Eq(Derivative(u_2(tau), tau), -2*c**2*(sqrt(x(tau)**2 + y(tau)**2) - rho_s(M))*(x(tau)**2 + y(tau)**2)**0.75*rho_s(M)*u_0(tau)**2*y(tau)/(sqrt(x(tau)**2 + y(tau)**2) + rho_s(M))**7 - 2*((u_1(tau)**2 - u_2(tau)**2)*y(tau) - 2*u_1(tau)*u_2(tau)*x(tau))*rho_s(M)/((sqrt(x(tau)**2 + y(tau)**2) + rho_s(M))*(x(tau)**2 + y(tau)**2)))"
      ]
     },
     "execution_count": 21,
     "metadata": {},
     "output_type": "execute_result"
    }
   ],
   "source": [
    "du_2 = sp.Eq(u_2.diff(tau),-2*c**2*(rho-rho_s)*rho**(3/2)*rho_s*y*u_0**2/(rho_s+rho)**7-2*rho_s/((rho_s+rho)*rho**2)*(y*(-u_2**2+u_1**2)-2*x*u_1*u_2) )\n",
    "du_2"
   ]
  },
  {
   "cell_type": "code",
   "execution_count": 36,
   "id": "132f3623",
   "metadata": {},
   "outputs": [],
   "source": [
    "!export PATH=/Library/TeX/texbin:$PATH"
   ]
  },
  {
   "cell_type": "code",
   "execution_count": 25,
   "id": "dd457007",
   "metadata": {},
   "outputs": [
    {
     "ename": "NotImplementedError",
     "evalue": "\nThe system of ODEs passed cannot be solved by dsolve_system.",
     "output_type": "error",
     "traceback": [
      "\u001b[0;31m---------------------------------------------------------------------------\u001b[0m",
      "\u001b[0;31mNotImplementedError\u001b[0m                       Traceback (most recent call last)",
      "\u001b[0;32m<ipython-input-25-2059474670fc>\u001b[0m in \u001b[0;36m<module>\u001b[0;34m\u001b[0m\n\u001b[0;32m----> 1\u001b[0;31m \u001b[0mdsolve_system\u001b[0m\u001b[0;34m(\u001b[0m\u001b[0;34m[\u001b[0m\u001b[0mdt\u001b[0m\u001b[0;34m,\u001b[0m\u001b[0mdx\u001b[0m\u001b[0;34m,\u001b[0m\u001b[0mdy\u001b[0m\u001b[0;34m,\u001b[0m\u001b[0mdu_0\u001b[0m\u001b[0;34m,\u001b[0m\u001b[0mdu_1\u001b[0m\u001b[0;34m,\u001b[0m\u001b[0mdu_2\u001b[0m\u001b[0;34m]\u001b[0m\u001b[0;34m)\u001b[0m\u001b[0;34m\u001b[0m\u001b[0;34m\u001b[0m\u001b[0m\n\u001b[0m",
      "\u001b[0;32m/usr/local/lib/python3.8/dist-packages/sympy/solvers/ode/systems.py\u001b[0m in \u001b[0;36mdsolve_system\u001b[0;34m(eqs, funcs, t, ics, doit, simplify)\u001b[0m\n\u001b[1;32m   2119\u001b[0m \u001b[0;34m\u001b[0m\u001b[0m\n\u001b[1;32m   2120\u001b[0m         \u001b[0;32mif\u001b[0m \u001b[0msol\u001b[0m \u001b[0;32mis\u001b[0m \u001b[0;32mNone\u001b[0m\u001b[0;34m:\u001b[0m\u001b[0;34m\u001b[0m\u001b[0;34m\u001b[0m\u001b[0m\n\u001b[0;32m-> 2121\u001b[0;31m             \u001b[0msol\u001b[0m \u001b[0;34m=\u001b[0m \u001b[0m_component_solver\u001b[0m\u001b[0;34m(\u001b[0m\u001b[0mcanon_eq\u001b[0m\u001b[0;34m,\u001b[0m \u001b[0mfuncs\u001b[0m\u001b[0;34m,\u001b[0m \u001b[0mt\u001b[0m\u001b[0;34m)\u001b[0m\u001b[0;34m\u001b[0m\u001b[0;34m\u001b[0m\u001b[0m\n\u001b[0m\u001b[1;32m   2122\u001b[0m \u001b[0;34m\u001b[0m\u001b[0m\n\u001b[1;32m   2123\u001b[0m         \u001b[0msols\u001b[0m\u001b[0;34m.\u001b[0m\u001b[0mappend\u001b[0m\u001b[0;34m(\u001b[0m\u001b[0msol\u001b[0m\u001b[0;34m)\u001b[0m\u001b[0;34m\u001b[0m\u001b[0;34m\u001b[0m\u001b[0m\n",
      "\u001b[0;32m/usr/local/lib/python3.8/dist-packages/sympy/solvers/ode/systems.py\u001b[0m in \u001b[0;36m_component_solver\u001b[0;34m(eqs, funcs, t)\u001b[0m\n\u001b[1;32m   1788\u001b[0m \u001b[0;34m\u001b[0m\u001b[0m\n\u001b[1;32m   1789\u001b[0m         \u001b[0;31m# wcc_sol: List of Equations\u001b[0m\u001b[0;34m\u001b[0m\u001b[0;34m\u001b[0m\u001b[0;34m\u001b[0m\u001b[0m\n\u001b[0;32m-> 1790\u001b[0;31m         \u001b[0msol\u001b[0m \u001b[0;34m+=\u001b[0m \u001b[0m_weak_component_solver\u001b[0m\u001b[0;34m(\u001b[0m\u001b[0mwcc\u001b[0m\u001b[0;34m,\u001b[0m \u001b[0mt\u001b[0m\u001b[0;34m)\u001b[0m\u001b[0;34m\u001b[0m\u001b[0;34m\u001b[0m\u001b[0m\n\u001b[0m\u001b[1;32m   1791\u001b[0m \u001b[0;34m\u001b[0m\u001b[0m\n\u001b[1;32m   1792\u001b[0m     \u001b[0;31m# sol: List of Equations\u001b[0m\u001b[0;34m\u001b[0m\u001b[0;34m\u001b[0m\u001b[0;34m\u001b[0m\u001b[0m\n",
      "\u001b[0;32m/usr/local/lib/python3.8/dist-packages/sympy/solvers/ode/systems.py\u001b[0m in \u001b[0;36m_weak_component_solver\u001b[0;34m(wcc, t)\u001b[0m\n\u001b[1;32m   1769\u001b[0m \u001b[0;34m\u001b[0m\u001b[0m\n\u001b[1;32m   1770\u001b[0m         \u001b[0;32mif\u001b[0m \u001b[0mscc_sol\u001b[0m \u001b[0;32mis\u001b[0m \u001b[0;32mNone\u001b[0m\u001b[0;34m:\u001b[0m\u001b[0;34m\u001b[0m\u001b[0;34m\u001b[0m\u001b[0m\n\u001b[0;32m-> 1771\u001b[0;31m             raise NotImplementedError(filldedent('''\n\u001b[0m\u001b[1;32m   1772\u001b[0m                 \u001b[0mThe\u001b[0m \u001b[0msystem\u001b[0m \u001b[0mof\u001b[0m \u001b[0mODEs\u001b[0m \u001b[0mpassed\u001b[0m \u001b[0mcannot\u001b[0m \u001b[0mbe\u001b[0m \u001b[0msolved\u001b[0m \u001b[0mby\u001b[0m \u001b[0mdsolve_system\u001b[0m\u001b[0;34m.\u001b[0m\u001b[0;34m\u001b[0m\u001b[0;34m\u001b[0m\u001b[0m\n\u001b[1;32m   1773\u001b[0m             '''))\n",
      "\u001b[0;31mNotImplementedError\u001b[0m: \nThe system of ODEs passed cannot be solved by dsolve_system."
     ]
    }
   ],
   "source": [
    "dsolve_system([dt,dx,dy,du_0,du_1,du_2])"
   ]
  },
  {
   "cell_type": "markdown",
   "id": "6fd96f9d",
   "metadata": {},
   "source": [
    "### Tensor curvatura de Riemann"
   ]
  },
  {
   "cell_type": "code",
   "execution_count": 10,
   "id": "d637654a",
   "metadata": {},
   "outputs": [],
   "source": [
    "R = componentes_tensor_riemann(g, variables)"
   ]
  },
  {
   "cell_type": "code",
   "execution_count": 11,
   "id": "ebeec4d4",
   "metadata": {},
   "outputs": [
    {
     "data": {
      "text/latex": [
       "$\\displaystyle R^{t}_{{t,r,r}} = \\frac{2.0 G M}{r^{2} \\left(- 2.0 G M + 1.0 c^{2} r\\right)}$"
      ],
      "text/plain": [
       "<IPython.core.display.Math object>"
      ]
     },
     "metadata": {},
     "output_type": "display_data"
    },
    {
     "data": {
      "text/latex": [
       "$\\displaystyle R^{t}_{{t,theta,theta}} = - \\frac{1.0 G M}{c^{2} r}$"
      ],
      "text/plain": [
       "<IPython.core.display.Math object>"
      ]
     },
     "metadata": {},
     "output_type": "display_data"
    },
    {
     "data": {
      "text/latex": [
       "$\\displaystyle R^{t}_{{t,phi,phi}} = - \\frac{1.0 G M \\sin^{2}{\\left(\\theta \\right)}}{c^{2} r}$"
      ],
      "text/plain": [
       "<IPython.core.display.Math object>"
      ]
     },
     "metadata": {},
     "output_type": "display_data"
    },
    {
     "data": {
      "text/latex": [
       "$\\displaystyle R^{t}_{{r,t,r}} = \\frac{2.0 G M}{r^{2} \\left(2.0 G M - 1.0 c^{2} r\\right)}$"
      ],
      "text/plain": [
       "<IPython.core.display.Math object>"
      ]
     },
     "metadata": {},
     "output_type": "display_data"
    },
    {
     "data": {
      "text/latex": [
       "$\\displaystyle R^{t}_{{theta,t,theta}} = \\frac{1.0 G M}{c^{2} r}$"
      ],
      "text/plain": [
       "<IPython.core.display.Math object>"
      ]
     },
     "metadata": {},
     "output_type": "display_data"
    },
    {
     "data": {
      "text/latex": [
       "$\\displaystyle R^{t}_{{phi,t,phi}} = \\frac{1.0 G M \\sin^{2}{\\left(\\theta \\right)}}{c^{2} r}$"
      ],
      "text/plain": [
       "<IPython.core.display.Math object>"
      ]
     },
     "metadata": {},
     "output_type": "display_data"
    },
    {
     "data": {
      "text/latex": [
       "$\\displaystyle R^{r}_{{t,r,t}} = - \\frac{G M \\left(4.0 G M - 2.0 c^{2} r\\right)}{c^{2} r^{4}}$"
      ],
      "text/plain": [
       "<IPython.core.display.Math object>"
      ]
     },
     "metadata": {},
     "output_type": "display_data"
    },
    {
     "data": {
      "text/latex": [
       "$\\displaystyle R^{r}_{{r,t,t}} = \\frac{G M \\left(4.0 G M - 2.0 c^{2} r\\right)}{c^{2} r^{4}}$"
      ],
      "text/plain": [
       "<IPython.core.display.Math object>"
      ]
     },
     "metadata": {},
     "output_type": "display_data"
    },
    {
     "data": {
      "text/latex": [
       "$\\displaystyle R^{r}_{{r,theta,theta}} = - \\frac{1.0 G M}{c^{2} r}$"
      ],
      "text/plain": [
       "<IPython.core.display.Math object>"
      ]
     },
     "metadata": {},
     "output_type": "display_data"
    },
    {
     "data": {
      "text/latex": [
       "$\\displaystyle R^{r}_{{r,phi,phi}} = - \\frac{1.0 G M \\sin^{2}{\\left(\\theta \\right)}}{c^{2} r}$"
      ],
      "text/plain": [
       "<IPython.core.display.Math object>"
      ]
     },
     "metadata": {},
     "output_type": "display_data"
    },
    {
     "data": {
      "text/latex": [
       "$\\displaystyle R^{r}_{{theta,r,theta}} = \\frac{1.0 G M}{c^{2} r}$"
      ],
      "text/plain": [
       "<IPython.core.display.Math object>"
      ]
     },
     "metadata": {},
     "output_type": "display_data"
    },
    {
     "data": {
      "text/latex": [
       "$\\displaystyle R^{r}_{{phi,r,phi}} = \\frac{1.0 G M \\sin^{2}{\\left(\\theta \\right)}}{c^{2} r}$"
      ],
      "text/plain": [
       "<IPython.core.display.Math object>"
      ]
     },
     "metadata": {},
     "output_type": "display_data"
    },
    {
     "data": {
      "text/latex": [
       "$\\displaystyle R^{theta}_{{t,theta,t}} = \\frac{1.0 G M \\left(2 G M - c^{2} r\\right)}{c^{2} r^{4}}$"
      ],
      "text/plain": [
       "<IPython.core.display.Math object>"
      ]
     },
     "metadata": {},
     "output_type": "display_data"
    },
    {
     "data": {
      "text/latex": [
       "$\\displaystyle R^{theta}_{{r,theta,r}} = - \\frac{1.0 G M}{r^{2} \\left(2 G M - c^{2} r\\right)}$"
      ],
      "text/plain": [
       "<IPython.core.display.Math object>"
      ]
     },
     "metadata": {},
     "output_type": "display_data"
    },
    {
     "data": {
      "text/latex": [
       "$\\displaystyle R^{theta}_{{theta,t,t}} = - \\frac{1.0 G M \\left(2 G M - c^{2} r\\right)}{c^{2} r^{4}}$"
      ],
      "text/plain": [
       "<IPython.core.display.Math object>"
      ]
     },
     "metadata": {},
     "output_type": "display_data"
    },
    {
     "data": {
      "text/latex": [
       "$\\displaystyle R^{theta}_{{theta,r,r}} = \\frac{1.0 G M}{r^{2} \\left(2 G M - c^{2} r\\right)}$"
      ],
      "text/plain": [
       "<IPython.core.display.Math object>"
      ]
     },
     "metadata": {},
     "output_type": "display_data"
    },
    {
     "data": {
      "text/latex": [
       "$\\displaystyle R^{theta}_{{theta,phi,phi}} = \\frac{2.0 G M \\sin^{2}{\\left(\\theta \\right)}}{c^{2} r}$"
      ],
      "text/plain": [
       "<IPython.core.display.Math object>"
      ]
     },
     "metadata": {},
     "output_type": "display_data"
    },
    {
     "data": {
      "text/latex": [
       "$\\displaystyle R^{theta}_{{phi,theta,phi}} = - \\frac{2.0 G M \\sin^{2}{\\left(\\theta \\right)}}{c^{2} r}$"
      ],
      "text/plain": [
       "<IPython.core.display.Math object>"
      ]
     },
     "metadata": {},
     "output_type": "display_data"
    },
    {
     "data": {
      "text/latex": [
       "$\\displaystyle R^{phi}_{{t,phi,t}} = \\frac{1.0 G M \\left(2 G M - c^{2} r\\right)}{c^{2} r^{4}}$"
      ],
      "text/plain": [
       "<IPython.core.display.Math object>"
      ]
     },
     "metadata": {},
     "output_type": "display_data"
    },
    {
     "data": {
      "text/latex": [
       "$\\displaystyle R^{phi}_{{r,phi,r}} = - \\frac{1.0 G M}{r^{2} \\left(2 G M - c^{2} r\\right)}$"
      ],
      "text/plain": [
       "<IPython.core.display.Math object>"
      ]
     },
     "metadata": {},
     "output_type": "display_data"
    },
    {
     "data": {
      "text/latex": [
       "$\\displaystyle R^{phi}_{{theta,phi,theta}} = - \\frac{2.0 G M}{c^{2} r}$"
      ],
      "text/plain": [
       "<IPython.core.display.Math object>"
      ]
     },
     "metadata": {},
     "output_type": "display_data"
    },
    {
     "data": {
      "text/latex": [
       "$\\displaystyle R^{phi}_{{phi,t,t}} = - \\frac{1.0 G M \\left(2 G M - c^{2} r\\right)}{c^{2} r^{4}}$"
      ],
      "text/plain": [
       "<IPython.core.display.Math object>"
      ]
     },
     "metadata": {},
     "output_type": "display_data"
    },
    {
     "data": {
      "text/latex": [
       "$\\displaystyle R^{phi}_{{phi,r,r}} = \\frac{1.0 G M}{r^{2} \\left(2 G M - c^{2} r\\right)}$"
      ],
      "text/plain": [
       "<IPython.core.display.Math object>"
      ]
     },
     "metadata": {},
     "output_type": "display_data"
    },
    {
     "data": {
      "text/latex": [
       "$\\displaystyle R^{phi}_{{phi,theta,theta}} = \\frac{2.0 G M}{c^{2} r}$"
      ],
      "text/plain": [
       "<IPython.core.display.Math object>"
      ]
     },
     "metadata": {},
     "output_type": "display_data"
    }
   ],
   "source": [
    "for l in range(len(variables)):\n",
    "    for i in range(len(variables)):\n",
    "        for j in range(len(variables)):\n",
    "            for k in range(len(variables)):\n",
    "                if R[l][i][j][k] != 0:        \n",
    "                    display(Math(f'R^{{{variables[l]}}}_{{{{{variables[i]},{variables[j]},{variables[k]}}}}} = ' +latex(sp.simplify(R[l][i][j][k]))))"
   ]
  },
  {
   "cell_type": "markdown",
   "id": "01bb24f8",
   "metadata": {},
   "source": [
    "### Tensor Curvatura"
   ]
  },
  {
   "cell_type": "code",
   "execution_count": 12,
   "id": "c179090a",
   "metadata": {},
   "outputs": [
    {
     "data": {
      "text/latex": [
       "$\\displaystyle R_{{t,r,t,r}} = \\frac{2.0 G M}{r^{3}}$"
      ],
      "text/plain": [
       "<IPython.core.display.Math object>"
      ]
     },
     "metadata": {},
     "output_type": "display_data"
    },
    {
     "data": {
      "text/latex": [
       "$\\displaystyle R_{{t,r,r,t}} = - \\frac{2.0 G M}{r^{3}}$"
      ],
      "text/plain": [
       "<IPython.core.display.Math object>"
      ]
     },
     "metadata": {},
     "output_type": "display_data"
    },
    {
     "data": {
      "text/latex": [
       "$\\displaystyle R_{{t,theta,t,theta}} = \\frac{1.0 G M \\left(2 G M - c^{2} r\\right)}{c^{2} r^{2}}$"
      ],
      "text/plain": [
       "<IPython.core.display.Math object>"
      ]
     },
     "metadata": {},
     "output_type": "display_data"
    },
    {
     "data": {
      "text/latex": [
       "$\\displaystyle R_{{t,theta,theta,t}} = - \\frac{2.0 G^{2} M^{2}}{c^{2} r^{2}} + \\frac{1.0 G M}{r}$"
      ],
      "text/plain": [
       "<IPython.core.display.Math object>"
      ]
     },
     "metadata": {},
     "output_type": "display_data"
    },
    {
     "data": {
      "text/latex": [
       "$\\displaystyle R_{{t,phi,t,phi}} = \\frac{1.0 G M \\left(2 G M - c^{2} r\\right) \\sin^{2}{\\left(\\theta \\right)}}{c^{2} r^{2}}$"
      ],
      "text/plain": [
       "<IPython.core.display.Math object>"
      ]
     },
     "metadata": {},
     "output_type": "display_data"
    },
    {
     "data": {
      "text/latex": [
       "$\\displaystyle R_{{t,phi,phi,t}} = - \\frac{1.0 G M \\left(2 G M - c^{2} r\\right) \\sin^{2}{\\left(\\theta \\right)}}{c^{2} r^{2}}$"
      ],
      "text/plain": [
       "<IPython.core.display.Math object>"
      ]
     },
     "metadata": {},
     "output_type": "display_data"
    },
    {
     "data": {
      "text/latex": [
       "$\\displaystyle R_{{r,t,t,r}} = - \\frac{2.0 G M}{r^{3}}$"
      ],
      "text/plain": [
       "<IPython.core.display.Math object>"
      ]
     },
     "metadata": {},
     "output_type": "display_data"
    },
    {
     "data": {
      "text/latex": [
       "$\\displaystyle R_{{r,t,r,t}} = \\frac{2.0 G M}{r^{3}}$"
      ],
      "text/plain": [
       "<IPython.core.display.Math object>"
      ]
     },
     "metadata": {},
     "output_type": "display_data"
    },
    {
     "data": {
      "text/latex": [
       "$\\displaystyle R_{{r,theta,r,theta}} = - \\frac{1.0 G M}{2 G M - c^{2} r}$"
      ],
      "text/plain": [
       "<IPython.core.display.Math object>"
      ]
     },
     "metadata": {},
     "output_type": "display_data"
    },
    {
     "data": {
      "text/latex": [
       "$\\displaystyle R_{{r,theta,theta,r}} = \\frac{1.0 G M}{2 G M - c^{2} r}$"
      ],
      "text/plain": [
       "<IPython.core.display.Math object>"
      ]
     },
     "metadata": {},
     "output_type": "display_data"
    },
    {
     "data": {
      "text/latex": [
       "$\\displaystyle R_{{r,phi,r,phi}} = - \\frac{1.0 G M \\sin^{2}{\\left(\\theta \\right)}}{2 G M - c^{2} r}$"
      ],
      "text/plain": [
       "<IPython.core.display.Math object>"
      ]
     },
     "metadata": {},
     "output_type": "display_data"
    },
    {
     "data": {
      "text/latex": [
       "$\\displaystyle R_{{r,phi,phi,r}} = \\frac{1.0 G M \\sin^{2}{\\left(\\theta \\right)}}{2 G M - c^{2} r}$"
      ],
      "text/plain": [
       "<IPython.core.display.Math object>"
      ]
     },
     "metadata": {},
     "output_type": "display_data"
    },
    {
     "data": {
      "text/latex": [
       "$\\displaystyle R_{{theta,t,t,theta}} = - \\frac{2.0 G^{2} M^{2}}{c^{2} r^{2}} + \\frac{1.0 G M}{r}$"
      ],
      "text/plain": [
       "<IPython.core.display.Math object>"
      ]
     },
     "metadata": {},
     "output_type": "display_data"
    },
    {
     "data": {
      "text/latex": [
       "$\\displaystyle R_{{theta,t,theta,t}} = \\frac{1.0 G M \\left(2 G M - c^{2} r\\right)}{c^{2} r^{2}}$"
      ],
      "text/plain": [
       "<IPython.core.display.Math object>"
      ]
     },
     "metadata": {},
     "output_type": "display_data"
    },
    {
     "data": {
      "text/latex": [
       "$\\displaystyle R_{{theta,r,r,theta}} = \\frac{1.0 G M}{2 G M - c^{2} r}$"
      ],
      "text/plain": [
       "<IPython.core.display.Math object>"
      ]
     },
     "metadata": {},
     "output_type": "display_data"
    },
    {
     "data": {
      "text/latex": [
       "$\\displaystyle R_{{theta,r,theta,r}} = - \\frac{1.0 G M}{2 G M - c^{2} r}$"
      ],
      "text/plain": [
       "<IPython.core.display.Math object>"
      ]
     },
     "metadata": {},
     "output_type": "display_data"
    },
    {
     "data": {
      "text/latex": [
       "$\\displaystyle R_{{theta,phi,theta,phi}} = - \\frac{2.0 G M r \\sin^{2}{\\left(\\theta \\right)}}{c^{2}}$"
      ],
      "text/plain": [
       "<IPython.core.display.Math object>"
      ]
     },
     "metadata": {},
     "output_type": "display_data"
    },
    {
     "data": {
      "text/latex": [
       "$\\displaystyle R_{{theta,phi,phi,theta}} = \\frac{2.0 G M r \\sin^{2}{\\left(\\theta \\right)}}{c^{2}}$"
      ],
      "text/plain": [
       "<IPython.core.display.Math object>"
      ]
     },
     "metadata": {},
     "output_type": "display_data"
    },
    {
     "data": {
      "text/latex": [
       "$\\displaystyle R_{{phi,t,t,phi}} = - \\frac{1.0 G M \\left(2 G M - c^{2} r\\right) \\sin^{2}{\\left(\\theta \\right)}}{c^{2} r^{2}}$"
      ],
      "text/plain": [
       "<IPython.core.display.Math object>"
      ]
     },
     "metadata": {},
     "output_type": "display_data"
    },
    {
     "data": {
      "text/latex": [
       "$\\displaystyle R_{{phi,t,phi,t}} = \\frac{1.0 G M \\left(2 G M - c^{2} r\\right) \\sin^{2}{\\left(\\theta \\right)}}{c^{2} r^{2}}$"
      ],
      "text/plain": [
       "<IPython.core.display.Math object>"
      ]
     },
     "metadata": {},
     "output_type": "display_data"
    },
    {
     "data": {
      "text/latex": [
       "$\\displaystyle R_{{phi,r,r,phi}} = \\frac{1.0 G M \\sin^{2}{\\left(\\theta \\right)}}{2 G M - c^{2} r}$"
      ],
      "text/plain": [
       "<IPython.core.display.Math object>"
      ]
     },
     "metadata": {},
     "output_type": "display_data"
    },
    {
     "data": {
      "text/latex": [
       "$\\displaystyle R_{{phi,r,phi,r}} = - \\frac{1.0 G M \\sin^{2}{\\left(\\theta \\right)}}{2 G M - c^{2} r}$"
      ],
      "text/plain": [
       "<IPython.core.display.Math object>"
      ]
     },
     "metadata": {},
     "output_type": "display_data"
    },
    {
     "data": {
      "text/latex": [
       "$\\displaystyle R_{{phi,theta,theta,phi}} = \\frac{2.0 G M r \\sin^{2}{\\left(\\theta \\right)}}{c^{2}}$"
      ],
      "text/plain": [
       "<IPython.core.display.Math object>"
      ]
     },
     "metadata": {},
     "output_type": "display_data"
    },
    {
     "data": {
      "text/latex": [
       "$\\displaystyle R_{{phi,theta,phi,theta}} = - \\frac{2.0 G M r \\sin^{2}{\\left(\\theta \\right)}}{c^{2}}$"
      ],
      "text/plain": [
       "<IPython.core.display.Math object>"
      ]
     },
     "metadata": {},
     "output_type": "display_data"
    }
   ],
   "source": [
    "R = componentes_tensor_curvatura(g,variables)\n",
    "for l in range(len(variables)):\n",
    "    for i in range(len(variables)):\n",
    "        for j in range(len(variables)):\n",
    "            for k in range(len(variables)):\n",
    "                if R[l][i][j][k] != 0:        \n",
    "                    display(Math(f'R_{{{{{variables[l]},{variables[i]},{variables[j]},{variables[k]}}}}} = ' +latex(R[l][i][j][k])))"
   ]
  },
  {
   "cell_type": "markdown",
   "id": "61d256ed",
   "metadata": {},
   "source": [
    "### Tensor curvatura de Ricci"
   ]
  },
  {
   "cell_type": "code",
   "execution_count": 7,
   "id": "a242e31a",
   "metadata": {},
   "outputs": [
    {
     "data": {
      "text/latex": [
       "$\\displaystyle R_{{t,t}} = 0$"
      ],
      "text/plain": [
       "<IPython.core.display.Math object>"
      ]
     },
     "metadata": {},
     "output_type": "display_data"
    },
    {
     "data": {
      "text/latex": [
       "$\\displaystyle R_{{t,r}} = 0$"
      ],
      "text/plain": [
       "<IPython.core.display.Math object>"
      ]
     },
     "metadata": {},
     "output_type": "display_data"
    },
    {
     "data": {
      "text/latex": [
       "$\\displaystyle R_{{t,theta}} = 0$"
      ],
      "text/plain": [
       "<IPython.core.display.Math object>"
      ]
     },
     "metadata": {},
     "output_type": "display_data"
    },
    {
     "data": {
      "text/latex": [
       "$\\displaystyle R_{{t,phi}} = 0$"
      ],
      "text/plain": [
       "<IPython.core.display.Math object>"
      ]
     },
     "metadata": {},
     "output_type": "display_data"
    },
    {
     "data": {
      "text/latex": [
       "$\\displaystyle R_{{r,t}} = 0$"
      ],
      "text/plain": [
       "<IPython.core.display.Math object>"
      ]
     },
     "metadata": {},
     "output_type": "display_data"
    },
    {
     "data": {
      "text/latex": [
       "$\\displaystyle R_{{r,r}} = 0$"
      ],
      "text/plain": [
       "<IPython.core.display.Math object>"
      ]
     },
     "metadata": {},
     "output_type": "display_data"
    },
    {
     "data": {
      "text/latex": [
       "$\\displaystyle R_{{r,theta}} = 0$"
      ],
      "text/plain": [
       "<IPython.core.display.Math object>"
      ]
     },
     "metadata": {},
     "output_type": "display_data"
    },
    {
     "data": {
      "text/latex": [
       "$\\displaystyle R_{{r,phi}} = 0$"
      ],
      "text/plain": [
       "<IPython.core.display.Math object>"
      ]
     },
     "metadata": {},
     "output_type": "display_data"
    },
    {
     "data": {
      "text/latex": [
       "$\\displaystyle R_{{theta,t}} = 0$"
      ],
      "text/plain": [
       "<IPython.core.display.Math object>"
      ]
     },
     "metadata": {},
     "output_type": "display_data"
    },
    {
     "data": {
      "text/latex": [
       "$\\displaystyle R_{{theta,r}} = 0$"
      ],
      "text/plain": [
       "<IPython.core.display.Math object>"
      ]
     },
     "metadata": {},
     "output_type": "display_data"
    },
    {
     "data": {
      "text/latex": [
       "$\\displaystyle R_{{theta,theta}} = 0$"
      ],
      "text/plain": [
       "<IPython.core.display.Math object>"
      ]
     },
     "metadata": {},
     "output_type": "display_data"
    },
    {
     "data": {
      "text/latex": [
       "$\\displaystyle R_{{theta,phi}} = 0$"
      ],
      "text/plain": [
       "<IPython.core.display.Math object>"
      ]
     },
     "metadata": {},
     "output_type": "display_data"
    },
    {
     "data": {
      "text/latex": [
       "$\\displaystyle R_{{phi,t}} = 0$"
      ],
      "text/plain": [
       "<IPython.core.display.Math object>"
      ]
     },
     "metadata": {},
     "output_type": "display_data"
    },
    {
     "data": {
      "text/latex": [
       "$\\displaystyle R_{{phi,r}} = 0$"
      ],
      "text/plain": [
       "<IPython.core.display.Math object>"
      ]
     },
     "metadata": {},
     "output_type": "display_data"
    },
    {
     "data": {
      "text/latex": [
       "$\\displaystyle R_{{phi,theta}} = 0$"
      ],
      "text/plain": [
       "<IPython.core.display.Math object>"
      ]
     },
     "metadata": {},
     "output_type": "display_data"
    },
    {
     "data": {
      "text/latex": [
       "$\\displaystyle R_{{phi,phi}} = 0$"
      ],
      "text/plain": [
       "<IPython.core.display.Math object>"
      ]
     },
     "metadata": {},
     "output_type": "display_data"
    }
   ],
   "source": [
    "Ricci_curv = componentes_tensor_ricci(g,variables)\n",
    "for i in range(len(variables)):\n",
    "    for j in range(len(variables)):\n",
    "        #if Ricci_curv[i][j] != 0:\n",
    "            display(Math(f'R_{{{{{variables[i]},{variables[j]}}}}} = '+latex(sp.simplify(Ricci_curv[i][j]))))"
   ]
  },
  {
   "cell_type": "code",
   "execution_count": 17,
   "id": "d05fcd3d",
   "metadata": {},
   "outputs": [
    {
     "data": {
      "image/png": "[encoded data removed]",
      "text/latex": [
       "$\\displaystyle 0$"
      ],
      "text/plain": [
       "0"
      ]
     },
     "execution_count": 17,
     "metadata": {},
     "output_type": "execute_result"
    }
   ],
   "source": [
    "curvatura_escalar(g,variables)"
   ]
  }
 ],
 "metadata": {
  "kernelspec": {
   "display_name": "Python 3",
   "language": "python",
   "name": "python3"
  },
  "language_info": {
   "codemirror_mode": {
    "name": "ipython",
    "version": 3
   },
   "file_extension": ".py",
   "mimetype": "text/x-python",
   "name": "python",
   "nbconvert_exporter": "python",
   "pygments_lexer": "ipython3",
   "version": "3.8.5"
  }
 },
 "nbformat": 4,
 "nbformat_minor": 5
}
