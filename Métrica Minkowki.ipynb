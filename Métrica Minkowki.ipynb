{
 "cells": [
  {
   "cell_type": "code",
   "execution_count": 2,
   "id": "0a10f6d9",
   "metadata": {},
   "outputs": [],
   "source": [
    "import sympy  as sp\n",
    "from sympy import *\n",
    "import numpy as np\n",
    "#Para resolver sistemas de ecuaciones diferencials \n",
    "from sympy.solvers.ode.systems import dsolve_system\n",
    "from IPython.display import display, Math"
   ]
  },
  {
   "cell_type": "code",
   "execution_count": 3,
   "id": "fe9798dc",
   "metadata": {},
   "outputs": [],
   "source": [
    "sp.interactive.printing.init_printing(use_latex=True)"
   ]
  },
  {
   "cell_type": "code",
   "execution_count": 4,
   "id": "031337be",
   "metadata": {},
   "outputs": [],
   "source": [
    "#Declaración de las variables que vamos a usar\n",
    "t, r, theta, phi = sp.symbols('t r theta phi')\n",
    "c= sp.symbols('c')\n",
    "\n",
    "#Vector con las variables que vamos a usar \n",
    "variables = [t, r, theta, phi]"
   ]
  },
  {
   "cell_type": "code",
   "execution_count": 7,
   "id": "777b6190",
   "metadata": {},
   "outputs": [],
   "source": [
    "#Expreso la métrica en forma matricial \n",
    "g = [[-c**2,0,0,0],\n",
    "    [0,1,0,0],\n",
    "     [0,0,r**2,0],\n",
    "     [0,0,0,r**2*sp.sin(theta)**2]]\n",
    "g = sp.Matrix(g)\n"
   ]
  },
  {
   "cell_type": "code",
   "execution_count": 5,
   "id": "70a4aad8",
   "metadata": {
    "scrolled": true
   },
   "outputs": [
    {
     "data": {
      "image/png": "[encoded data removed]",
      "text/latex": [
       "$\\displaystyle \\left[\\begin{matrix}- \\frac{1}{c^{2}} & 0 & 0 & 0\\\\0 & 1.0 & 0 & 0\\\\0 & 0 & \\frac{1}{r^{2}} & 0\\\\0 & 0 & 0 & \\frac{1}{r^{2} \\sin^{2}{\\left(\\theta \\right)}}\\end{matrix}\\right]$"
      ],
      "text/plain": [
       "⎡-1                      ⎤\n",
       "⎢───   0   0       0     ⎥\n",
       "⎢  2                     ⎥\n",
       "⎢ c                      ⎥\n",
       "⎢                        ⎥\n",
       "⎢ 0   1.0  0       0     ⎥\n",
       "⎢                        ⎥\n",
       "⎢          1             ⎥\n",
       "⎢ 0    0   ──      0     ⎥\n",
       "⎢           2            ⎥\n",
       "⎢          r             ⎥\n",
       "⎢                        ⎥\n",
       "⎢                  1     ⎥\n",
       "⎢ 0    0   0   ──────────⎥\n",
       "⎢               2    2   ⎥\n",
       "⎣              r ⋅sin (θ)⎦"
      ]
     },
     "execution_count": 5,
     "metadata": {},
     "output_type": "execute_result"
    }
   ],
   "source": [
    "g_inv = [[ g[i][j]**-1 if g[i][j] != 0 else g[i][j] for j in range(len(g))] for i in range(len(g))]\n",
    "sp.Matrix(g_inv)"
   ]
  },
  {
   "cell_type": "code",
   "execution_count": 13,
   "id": "c1ea5bf6",
   "metadata": {},
   "outputs": [
    {
     "data": {
      "image/png": "[encoded data removed]",
      "text/latex": [
       "$\\displaystyle \\left[ \\left[ \\left[ 0, \\  0, \\  0, \\  0\\right], \\  \\left[ 0, \\  0, \\  0, \\  0\\right], \\  \\left[ 0, \\  0, \\  0, \\  0\\right], \\  \\left[ 0, \\  0, \\  0, \\  0\\right]\\right], \\  \\left[ \\left[ 0, \\  0, \\  0, \\  0\\right], \\  \\left[ 0, \\  0, \\  0, \\  0\\right], \\  \\left[ 0, \\  0, \\  2 r, \\  0\\right], \\  \\left[ 0, \\  0, \\  0, \\  2 r \\sin^{2}{\\left(\\theta \\right)}\\right]\\right], \\  \\left[ \\left[ 0, \\  0, \\  0, \\  0\\right], \\  \\left[ 0, \\  0, \\  0, \\  0\\right], \\  \\left[ 0, \\  0, \\  0, \\  0\\right], \\  \\left[ 0, \\  0, \\  0, \\  r^{2} \\sin{\\left(2 \\theta \\right)}\\right]\\right], \\  \\left[ \\left[ 0, \\  0, \\  0, \\  0\\right], \\  \\left[ 0, \\  0, \\  0, \\  0\\right], \\  \\left[ 0, \\  0, \\  0, \\  0\\right], \\  \\left[ 0, \\  0, \\  0, \\  0\\right]\\right]\\right]$"
      ],
      "text/plain": [
       "⎡                                                          ⎡                  \n",
       "⎣[[0, 0, 0, 0], [0, 0, 0, 0], [0, 0, 0, 0], [0, 0, 0, 0]], ⎣[0, 0, 0, 0], [0, \n",
       "\n",
       "                          ⎡                2   ⎤⎤  ⎡                          \n",
       "0, 0, 0], [0, 0, 2⋅r, 0], ⎣0, 0, 0, 2⋅r⋅sin (θ)⎦⎦, ⎣[0, 0, 0, 0], [0, 0, 0, 0]\n",
       "\n",
       "                ⎡          2         ⎤⎤                                       \n",
       ", [0, 0, 0, 0], ⎣0, 0, 0, r ⋅sin(2⋅θ)⎦⎦, [[0, 0, 0, 0], [0, 0, 0, 0], [0, 0, 0\n",
       "\n",
       "                   ⎤\n",
       ", 0], [0, 0, 0, 0]]⎦"
      ]
     },
     "execution_count": 13,
     "metadata": {},
     "output_type": "execute_result"
    }
   ],
   "source": [
    "#Este vector va a contener la matriz g derivada respecto de cada la variable\n",
    "#Por ejemplo derivadas_variable[0] es la derivada de toda la matriz respecto de t\n",
    "#            derivadas_variable[1] es la derivada de toda la matriz respecto de x\n",
    "#Y derivadas_variable[1][0][0] es la derivad parcial de g_{0,0} respecto x\n",
    "# y así sucesivamente \n",
    "derivadas_variable = []\n",
    "\n",
    "for variable in variables: \n",
    "    derivada_variable = [[0 for i in variables] for j in variables]\n",
    "    for i in range(len(variables)):\n",
    "        for j in range(len(variables)): \n",
    "            func = g[i][j]\n",
    "            #Para no hacer la derivada de un número \n",
    "            if type(func) == sp.core.mul.Mul or type(func) == sp.core.power.Pow: \n",
    "                derivada_variable[i][j] = simplify(func.diff(variable))\n",
    "                \n",
    "    derivadas_variable.append(derivada_variable)\n",
    "derivadas_variable"
   ]
  },
  {
   "cell_type": "code",
   "execution_count": 14,
   "id": "2669cc9d",
   "metadata": {},
   "outputs": [
    {
     "data": {
      "text/latex": [
       "$\\displaystyle \\Gamma^{r}_{theta,theta} = - 1.0 r$"
      ],
      "text/plain": [
       "<IPython.core.display.Math object>"
      ]
     },
     "metadata": {},
     "output_type": "display_data"
    },
    {
     "data": {
      "text/latex": [
       "$\\displaystyle \\Gamma^{r}_{phi,phi} = - 1.0 r \\sin^{2}{\\left(\\theta \\right)}$"
      ],
      "text/plain": [
       "<IPython.core.display.Math object>"
      ]
     },
     "metadata": {},
     "output_type": "display_data"
    },
    {
     "data": {
      "text/latex": [
       "$\\displaystyle \\Gamma^{theta}_{r,theta} = \\frac{1.0}{r}$"
      ],
      "text/plain": [
       "<IPython.core.display.Math object>"
      ]
     },
     "metadata": {},
     "output_type": "display_data"
    },
    {
     "data": {
      "text/latex": [
       "$\\displaystyle \\Gamma^{theta}_{theta,r} = \\frac{1.0}{r}$"
      ],
      "text/plain": [
       "<IPython.core.display.Math object>"
      ]
     },
     "metadata": {},
     "output_type": "display_data"
    },
    {
     "data": {
      "text/latex": [
       "$\\displaystyle \\Gamma^{theta}_{phi,phi} = - 0.5 \\sin{\\left(2 \\theta \\right)}$"
      ],
      "text/plain": [
       "<IPython.core.display.Math object>"
      ]
     },
     "metadata": {},
     "output_type": "display_data"
    },
    {
     "data": {
      "text/latex": [
       "$\\displaystyle \\Gamma^{phi}_{r,phi} = \\frac{1.0}{r}$"
      ],
      "text/plain": [
       "<IPython.core.display.Math object>"
      ]
     },
     "metadata": {},
     "output_type": "display_data"
    },
    {
     "data": {
      "text/latex": [
       "$\\displaystyle \\Gamma^{phi}_{theta,phi} = \\frac{1.0}{\\tan{\\left(\\theta \\right)}}$"
      ],
      "text/plain": [
       "<IPython.core.display.Math object>"
      ]
     },
     "metadata": {},
     "output_type": "display_data"
    },
    {
     "data": {
      "text/latex": [
       "$\\displaystyle \\Gamma^{phi}_{phi,r} = \\frac{1.0}{r}$"
      ],
      "text/plain": [
       "<IPython.core.display.Math object>"
      ]
     },
     "metadata": {},
     "output_type": "display_data"
    },
    {
     "data": {
      "text/latex": [
       "$\\displaystyle \\Gamma^{phi}_{phi,theta} = \\frac{1.0}{\\tan{\\left(\\theta \\right)}}$"
      ],
      "text/plain": [
       "<IPython.core.display.Math object>"
      ]
     },
     "metadata": {},
     "output_type": "display_data"
    }
   ],
   "source": [
    "simbolos_chistoffle = [[[0 for j in variables] for i in variables] for m in variables]\n",
    "\n",
    "\n",
    "for m in range(len(variables)):\n",
    "    for i in range(len(variables)):\n",
    "        for j in range(len(variables)):\n",
    "            simbolo = 0\n",
    "            #El sumatorio respecto del indice libre l \n",
    "            for l in range(len(variables)):\n",
    "                #Para evitar hacer una multiplicación por 0 \n",
    "                if  g_inv[m][l] != 0: \n",
    "                    simbolo =simbolo + g_inv[m][l]*(derivadas_variable[j][i][l]+derivadas_variable[i][j][l]-derivadas_variable[l][i][j])\n",
    "            simbolo =1/2*simbolo\n",
    "            simbolos_chistoffle[m][i][j] = simplify(simbolo)\n",
    "for i in range(len(simbolos_chistoffle)):\n",
    "    for j in range(len(simbolos_chistoffle)):\n",
    "        for k in range(len(simbolos_chistoffle)):\n",
    "            if simbolos_chistoffle[i][j][k] != 0:\n",
    "                \n",
    "                display(Math(f'\\Gamma^{{{variables[i]}}}_{{{variables[j]},{variables[k]}}} = ' +latex(simbolos_chistoffle[i][j][k])))"
   ]
  },
  {
   "cell_type": "code",
   "execution_count": 15,
   "id": "71133660",
   "metadata": {},
   "outputs": [],
   "source": [
    "#Variable para poder derivar \n",
    "tau = sp.symbols(\"tau\")\n",
    "\n",
    "#Defino las derivadas, esto para poder resolverlo \n",
    "dt = sp.Function('dt')(tau)\n",
    "dr = sp.Function(\"dr\")(tau)\n",
    "dtheta = sp.Function('dtheta')(tau) \n",
    "dphi =  sp.Function('dphi')(tau)\n",
    "\n",
    "variables_derivadas = [dt,dr,dtheta,dphi]\n"
   ]
  },
  {
   "cell_type": "code",
   "execution_count": 16,
   "id": "7cc925a2",
   "metadata": {},
   "outputs": [],
   "source": [
    "#Esto va a con\n",
    "geodesicas = [i.diff(tau) for i in variables_derivadas]\n",
    "\n",
    "for variable in range(len(variables)): \n",
    "    for i in range(len(variables)):\n",
    "        for j in range(len(variables)):\n",
    "            geodesicas[variable] = geodesicas[variable] +simplify( simbolos_chistoffle[variable][i][j]*variables_derivadas[i]*variables_derivadas[j])\n",
    "    geodesicas[variable] = sp.Eq(geodesicas[variable],0)\n",
    "    \n"
   ]
  },
  {
   "cell_type": "code",
   "execution_count": 17,
   "id": "20d8a4f9",
   "metadata": {},
   "outputs": [
    {
     "data": {
      "image/png": "[encoded data removed]",
      "text/latex": [
       "$\\displaystyle \\frac{d}{d \\tau} \\operatorname{dt}{\\left(\\tau \\right)} = 0$"
      ],
      "text/plain": [
       "d            \n",
       "──(dt(τ)) = 0\n",
       "dτ           "
      ]
     },
     "metadata": {},
     "output_type": "display_data"
    },
    {
     "data": {
      "image/png": "[encoded data removed]",
      "text/latex": [
       "$\\displaystyle - 1.0 r \\operatorname{dphi}^{2}{\\left(\\tau \\right)} \\sin^{2}{\\left(\\theta \\right)} - 1.0 r \\operatorname{dtheta}^{2}{\\left(\\tau \\right)} + \\frac{d}{d \\tau} \\operatorname{dr}{\\left(\\tau \\right)} = 0$"
      ],
      "text/plain": [
       "        2       2              2      d            \n",
       "- r⋅dphi (τ)⋅sin (θ) - r⋅dtheta (τ) + ──(dr(τ)) = 0\n",
       "                                      dτ           "
      ]
     },
     "metadata": {},
     "output_type": "display_data"
    },
    {
     "data": {
      "image/png": "[encoded data removed]",
      "text/latex": [
       "$\\displaystyle - 0.5 \\operatorname{dphi}^{2}{\\left(\\tau \\right)} \\sin{\\left(2 \\theta \\right)} + \\frac{d}{d \\tau} \\operatorname{dtheta}{\\left(\\tau \\right)} + \\frac{2.0 \\operatorname{dr}{\\left(\\tau \\right)} \\operatorname{dtheta}{\\left(\\tau \\right)}}{r} = 0$"
      ],
      "text/plain": [
       "          2               d               2.0⋅dr(τ)⋅dtheta(τ)    \n",
       "- 0.5⋅dphi (τ)⋅sin(2⋅θ) + ──(dtheta(τ)) + ─────────────────── = 0\n",
       "                          dτ                       r             "
      ]
     },
     "metadata": {},
     "output_type": "display_data"
    },
    {
     "data": {
      "image/png": "[encoded data removed]",
      "text/latex": [
       "$\\displaystyle \\frac{2.0 \\operatorname{dphi}{\\left(\\tau \\right)} \\operatorname{dtheta}{\\left(\\tau \\right)}}{\\tan{\\left(\\theta \\right)}} + \\frac{d}{d \\tau} \\operatorname{dphi}{\\left(\\tau \\right)} + \\frac{2.0 \\operatorname{dphi}{\\left(\\tau \\right)} \\operatorname{dr}{\\left(\\tau \\right)}}{r} = 0$"
      ],
      "text/plain": [
       "2.0⋅dphi(τ)⋅dtheta(τ)   d             2.0⋅dphi(τ)⋅dr(τ)    \n",
       "───────────────────── + ──(dphi(τ)) + ───────────────── = 0\n",
       "        tan(θ)          dτ                    r            "
      ]
     },
     "metadata": {},
     "output_type": "display_data"
    }
   ],
   "source": [
    "for v in geodesicas: \n",
    "    display(v)\n"
   ]
  },
  {
   "cell_type": "code",
   "execution_count": 18,
   "id": "d45e5a4e",
   "metadata": {},
   "outputs": [],
   "source": [
    "t = sp.Function('t')(tau)\n",
    "r = sp.Function('r')(tau)\n",
    "theta = sp.Function('theta')(tau)\n",
    "phi = sp.Function('phi')(tau)"
   ]
  },
  {
   "cell_type": "code",
   "execution_count": 19,
   "id": "3518b9f9",
   "metadata": {},
   "outputs": [],
   "source": [
    "u_0 =  sp.Function('u_0')(tau)\n",
    "u_1 = sp.Function(\"u_1\")(tau)\n",
    "u_2 = sp.Function(\"u_2\")(tau)\n",
    "u_3 = sp.Function(\"u_3\")(tau)"
   ]
  },
  {
   "cell_type": "code",
   "execution_count": 20,
   "id": "86667ba2",
   "metadata": {},
   "outputs": [
    {
     "data": {
      "image/png": "[encoded data removed]",
      "text/latex": [
       "$\\displaystyle \\frac{d}{d \\tau} t{\\left(\\tau \\right)} = \\operatorname{u_{0}}{\\left(\\tau \\right)}$"
      ],
      "text/plain": [
       "d               \n",
       "──(t(τ)) = u₀(τ)\n",
       "dτ              "
      ]
     },
     "execution_count": 20,
     "metadata": {},
     "output_type": "execute_result"
    }
   ],
   "source": [
    "dt = sp.Eq(t.diff(),u_0)\n",
    "dt"
   ]
  },
  {
   "cell_type": "code",
   "execution_count": 21,
   "id": "4fdcb131",
   "metadata": {},
   "outputs": [
    {
     "data": {
      "image/png": "[encoded data removed]",
      "text/latex": [
       "$\\displaystyle \\frac{d}{d \\tau} r{\\left(\\tau \\right)} = \\operatorname{u_{1}}{\\left(\\tau \\right)}$"
      ],
      "text/plain": [
       "d               \n",
       "──(r(τ)) = u₁(τ)\n",
       "dτ              "
      ]
     },
     "execution_count": 21,
     "metadata": {},
     "output_type": "execute_result"
    }
   ],
   "source": [
    "dr = sp.Eq(r.diff(),u_1)\n",
    "dr"
   ]
  },
  {
   "cell_type": "code",
   "execution_count": 22,
   "id": "76059756",
   "metadata": {},
   "outputs": [
    {
     "data": {
      "image/png": "[encoded data removed]",
      "text/latex": [
       "$\\displaystyle \\frac{d}{d \\tau} \\theta{\\left(\\tau \\right)} = \\operatorname{u_{2}}{\\left(\\tau \\right)}$"
      ],
      "text/plain": [
       "d               \n",
       "──(θ(τ)) = u₂(τ)\n",
       "dτ              "
      ]
     },
     "execution_count": 22,
     "metadata": {},
     "output_type": "execute_result"
    }
   ],
   "source": [
    "dtheta = sp.Eq(theta.diff(),u_2)\n",
    "dtheta"
   ]
  },
  {
   "cell_type": "code",
   "execution_count": 23,
   "id": "528682aa",
   "metadata": {},
   "outputs": [
    {
     "data": {
      "image/png": "[encoded data removed]",
      "text/latex": [
       "$\\displaystyle \\frac{d}{d \\tau} \\phi{\\left(\\tau \\right)} = \\operatorname{u_{3}}{\\left(\\tau \\right)}$"
      ],
      "text/plain": [
       "d               \n",
       "──(φ(τ)) = u₃(τ)\n",
       "dτ              "
      ]
     },
     "execution_count": 23,
     "metadata": {},
     "output_type": "execute_result"
    }
   ],
   "source": [
    "dphi = sp.Eq(phi.diff(),u_3)\n",
    "dphi"
   ]
  },
  {
   "cell_type": "code",
   "execution_count": 24,
   "id": "9db0e538",
   "metadata": {},
   "outputs": [
    {
     "data": {
      "image/png": "[encoded data removed]",
      "text/latex": [
       "$\\displaystyle \\frac{d}{d \\tau} \\operatorname{u_{0}}{\\left(\\tau \\right)} = 0$"
      ],
      "text/plain": [
       "d            \n",
       "──(u₀(τ)) = 0\n",
       "dτ           "
      ]
     },
     "execution_count": 24,
     "metadata": {},
     "output_type": "execute_result"
    }
   ],
   "source": [
    "du_0 = sp.Eq(Derivative(u_0, tau), 0)\n",
    "du_0"
   ]
  },
  {
   "cell_type": "code",
   "execution_count": 25,
   "id": "946950bc",
   "metadata": {},
   "outputs": [
    {
     "data": {
      "image/png": "[encoded data removed]",
      "text/latex": [
       "$\\displaystyle - 1.0 r{\\left(\\tau \\right)} \\operatorname{u_{2}}^{2}{\\left(\\tau \\right)} - 1.0 r{\\left(\\tau \\right)} \\operatorname{u_{3}}^{2}{\\left(\\tau \\right)} \\sin{\\left(2 \\theta{\\left(\\tau \\right)} \\right)} + \\frac{d}{d \\tau} \\operatorname{u_{1}}{\\left(\\tau \\right)} = 0$"
      ],
      "text/plain": [
       "         2             2                  d            \n",
       "- r(τ)⋅u₂ (τ) - r(τ)⋅u₃ (τ)⋅sin(2⋅θ(τ)) + ──(u₁(τ)) = 0\n",
       "                                          dτ           "
      ]
     },
     "execution_count": 25,
     "metadata": {},
     "output_type": "execute_result"
    }
   ],
   "source": [
    "#Eq(-1.0*r*dphi(tau)**2*sin(2*theta) - 1.0*r*dtheta(tau)**2 + Derivative(dr(tau), tau), 0)\n",
    "du_1 = sp.Eq(-1.0*r*u_3**2*sin(2*theta) - 1.0*r*u_2**2 + Derivative(u_1, tau), 0)\n",
    "du_1"
   ]
  },
  {
   "cell_type": "code",
   "execution_count": 26,
   "id": "f73ec28a",
   "metadata": {},
   "outputs": [
    {
     "data": {
      "image/png": "[encoded data removed]",
      "text/latex": [
       "$\\displaystyle - \\operatorname{u_{3}}^{2}{\\left(\\tau \\right)} \\cos{\\left(2 \\theta{\\left(\\tau \\right)} \\right)} + \\frac{d}{d \\tau} \\operatorname{u_{2}}{\\left(\\tau \\right)} + \\frac{2 \\operatorname{u_{1}}{\\left(\\tau \\right)} \\operatorname{u_{2}}{\\left(\\tau \\right)}}{r{\\left(\\tau \\right)}} = 0$"
      ],
      "text/plain": [
       "    2                  d           2⋅u₁(τ)⋅u₂(τ)    \n",
       "- u₃ (τ)⋅cos(2⋅θ(τ)) + ──(u₂(τ)) + ───────────── = 0\n",
       "                       dτ               r(τ)        "
      ]
     },
     "execution_count": 26,
     "metadata": {},
     "output_type": "execute_result"
    }
   ],
   "source": [
    "#Eq(-1.0*dphi(tau)**2*cos(2*theta) + Derivative(dtheta(tau), tau) + 2.0*dr(tau)*dtheta(tau)/r, 0)\n",
    "du_2 = sp.Eq(-1*u_3**2*cos(2*theta)+ Derivative(u_2, tau)+2*u_1*u_2/r,0)\n",
    "du_2"
   ]
  },
  {
   "cell_type": "code",
   "execution_count": 27,
   "id": "940f7f1b",
   "metadata": {},
   "outputs": [
    {
     "data": {
      "image/png": "[encoded data removed]",
      "text/latex": [
       "$\\displaystyle \\frac{2 \\operatorname{u_{2}}{\\left(\\tau \\right)} \\operatorname{u_{3}}{\\left(\\tau \\right)}}{\\tan{\\left(2 \\theta{\\left(\\tau \\right)} \\right)}} + \\frac{d}{d \\tau} \\operatorname{u_{3}}{\\left(\\tau \\right)} + \\frac{2 \\operatorname{u_{1}}{\\left(\\tau \\right)} \\operatorname{u_{3}}{\\left(\\tau \\right)}}{r{\\left(\\tau \\right)}} = 0$"
      ],
      "text/plain": [
       "2⋅u₂(τ)⋅u₃(τ)   d           2⋅u₁(τ)⋅u₃(τ)    \n",
       "───────────── + ──(u₃(τ)) + ───────────── = 0\n",
       " tan(2⋅θ(τ))    dτ               r(τ)        "
      ]
     },
     "execution_count": 27,
     "metadata": {},
     "output_type": "execute_result"
    }
   ],
   "source": [
    "# Eq(2.0*dphi(tau)*dtheta(tau)/tan(2*theta) + Derivative(dphi(tau), tau) + 2.0*dphi(tau)*dr(tau)/r, 0)\n",
    "du_3 = sp.Eq(2*u_3*u_2/tan(2*theta)+ u_3.diff()+2*u_3*u_1/r,0)\n",
    "du_3"
   ]
  },
  {
   "cell_type": "code",
   "execution_count": 45,
   "id": "dd457007",
   "metadata": {},
   "outputs": [
    {
     "ename": "ValueError",
     "evalue": "\nNumber of equations and number of functions don't match",
     "output_type": "error",
     "traceback": [
      "\u001b[0;31m---------------------------------------------------------------------------\u001b[0m",
      "\u001b[0;31mValueError\u001b[0m                                Traceback (most recent call last)",
      "\u001b[0;32m<ipython-input-45-f00261328786>\u001b[0m in \u001b[0;36m<module>\u001b[0;34m\u001b[0m\n\u001b[0;32m----> 1\u001b[0;31m \u001b[0mvv\u001b[0m \u001b[0;34m=\u001b[0m \u001b[0mdsolve_system\u001b[0m\u001b[0;34m(\u001b[0m\u001b[0;34m[\u001b[0m\u001b[0mdt\u001b[0m\u001b[0;34m,\u001b[0m\u001b[0mdr\u001b[0m\u001b[0;34m,\u001b[0m\u001b[0mdtheta\u001b[0m\u001b[0;34m,\u001b[0m\u001b[0mdphi\u001b[0m\u001b[0;34m,\u001b[0m\u001b[0mdu_0\u001b[0m\u001b[0;34m,\u001b[0m\u001b[0mdu_1\u001b[0m\u001b[0;34m,\u001b[0m\u001b[0mdu_2\u001b[0m\u001b[0;34m,\u001b[0m\u001b[0mdu_3\u001b[0m\u001b[0;34m]\u001b[0m\u001b[0;34m)\u001b[0m\u001b[0;34m\u001b[0m\u001b[0;34m\u001b[0m\u001b[0m\n\u001b[0m",
      "\u001b[0;32m/usr/local/lib/python3.8/dist-packages/sympy/solvers/ode/systems.py\u001b[0m in \u001b[0;36mdsolve_system\u001b[0;34m(eqs, funcs, t, ics, doit, simplify)\u001b[0m\n\u001b[1;32m   2097\u001b[0m \u001b[0;34m\u001b[0m\u001b[0m\n\u001b[1;32m   2098\u001b[0m     \u001b[0;32mif\u001b[0m \u001b[0mlen\u001b[0m\u001b[0;34m(\u001b[0m\u001b[0meqs\u001b[0m\u001b[0;34m)\u001b[0m \u001b[0;34m!=\u001b[0m \u001b[0mlen\u001b[0m\u001b[0;34m(\u001b[0m\u001b[0mfuncs\u001b[0m\u001b[0;34m)\u001b[0m\u001b[0;34m:\u001b[0m\u001b[0;34m\u001b[0m\u001b[0;34m\u001b[0m\u001b[0m\n\u001b[0;32m-> 2099\u001b[0;31m         raise ValueError(filldedent('''\n\u001b[0m\u001b[1;32m   2100\u001b[0m             \u001b[0mNumber\u001b[0m \u001b[0mof\u001b[0m \u001b[0mequations\u001b[0m \u001b[0;32mand\u001b[0m \u001b[0mnumber\u001b[0m \u001b[0mof\u001b[0m \u001b[0mfunctions\u001b[0m \u001b[0mdon\u001b[0m\u001b[0;31m'\u001b[0m\u001b[0mt\u001b[0m \u001b[0mmatch\u001b[0m\u001b[0;34m\u001b[0m\u001b[0;34m\u001b[0m\u001b[0m\n\u001b[1;32m   2101\u001b[0m         '''))\n",
      "\u001b[0;31mValueError\u001b[0m: \nNumber of equations and number of functions don't match"
     ]
    }
   ],
   "source": [
    "vv = dsolve_system([dt,dr,dtheta,dphi,du_0,du_1,du_2,du_3])"
   ]
  },
  {
   "cell_type": "code",
   "execution_count": 28,
   "id": "dac9f2d6",
   "metadata": {},
   "outputs": [
    {
     "data": {
      "image/png": "[encoded data removed]",
      "text/latex": [
       "$\\displaystyle \\frac{d}{d \\tau} t{\\left(\\tau \\right)} = \\operatorname{u_{0}}{\\left(\\tau \\right)}$"
      ],
      "text/plain": [
       "d               \n",
       "──(t(τ)) = u₀(τ)\n",
       "dτ              "
      ]
     },
     "metadata": {},
     "output_type": "display_data"
    },
    {
     "data": {
      "image/png": "[encoded data removed]",
      "text/latex": [
       "$\\displaystyle \\frac{d}{d \\tau} r{\\left(\\tau \\right)} = \\operatorname{u_{1}}{\\left(\\tau \\right)}$"
      ],
      "text/plain": [
       "d               \n",
       "──(r(τ)) = u₁(τ)\n",
       "dτ              "
      ]
     },
     "metadata": {},
     "output_type": "display_data"
    },
    {
     "data": {
      "image/png": "[encoded data removed]",
      "text/latex": [
       "$\\displaystyle \\frac{d}{d \\tau} \\theta{\\left(\\tau \\right)} = \\operatorname{u_{2}}{\\left(\\tau \\right)}$"
      ],
      "text/plain": [
       "d               \n",
       "──(θ(τ)) = u₂(τ)\n",
       "dτ              "
      ]
     },
     "metadata": {},
     "output_type": "display_data"
    },
    {
     "data": {
      "image/png": "[encoded data removed]",
      "text/latex": [
       "$\\displaystyle \\frac{d}{d \\tau} \\phi{\\left(\\tau \\right)} = \\operatorname{u_{3}}{\\left(\\tau \\right)}$"
      ],
      "text/plain": [
       "d               \n",
       "──(φ(τ)) = u₃(τ)\n",
       "dτ              "
      ]
     },
     "metadata": {},
     "output_type": "display_data"
    },
    {
     "data": {
      "image/png": "[encoded data removed]",
      "text/latex": [
       "$\\displaystyle \\frac{d}{d \\tau} \\operatorname{u_{0}}{\\left(\\tau \\right)} = 0$"
      ],
      "text/plain": [
       "d            \n",
       "──(u₀(τ)) = 0\n",
       "dτ           "
      ]
     },
     "metadata": {},
     "output_type": "display_data"
    },
    {
     "data": {
      "image/png": "[encoded data removed]",
      "text/latex": [
       "$\\displaystyle - 1.0 r{\\left(\\tau \\right)} \\operatorname{u_{2}}^{2}{\\left(\\tau \\right)} - 1.0 r{\\left(\\tau \\right)} \\operatorname{u_{3}}^{2}{\\left(\\tau \\right)} \\sin{\\left(2 \\theta{\\left(\\tau \\right)} \\right)} + \\frac{d}{d \\tau} \\operatorname{u_{1}}{\\left(\\tau \\right)} = 0$"
      ],
      "text/plain": [
       "         2             2                  d            \n",
       "- r(τ)⋅u₂ (τ) - r(τ)⋅u₃ (τ)⋅sin(2⋅θ(τ)) + ──(u₁(τ)) = 0\n",
       "                                          dτ           "
      ]
     },
     "metadata": {},
     "output_type": "display_data"
    },
    {
     "data": {
      "image/png": "[encoded data removed]",
      "text/latex": [
       "$\\displaystyle - \\operatorname{u_{3}}^{2}{\\left(\\tau \\right)} \\cos{\\left(2 \\theta{\\left(\\tau \\right)} \\right)} + \\frac{d}{d \\tau} \\operatorname{u_{2}}{\\left(\\tau \\right)} + \\frac{2 \\operatorname{u_{1}}{\\left(\\tau \\right)} \\operatorname{u_{2}}{\\left(\\tau \\right)}}{r{\\left(\\tau \\right)}} = 0$"
      ],
      "text/plain": [
       "    2                  d           2⋅u₁(τ)⋅u₂(τ)    \n",
       "- u₃ (τ)⋅cos(2⋅θ(τ)) + ──(u₂(τ)) + ───────────── = 0\n",
       "                       dτ               r(τ)        "
      ]
     },
     "metadata": {},
     "output_type": "display_data"
    },
    {
     "data": {
      "image/png": "[encoded data removed]",
      "text/latex": [
       "$\\displaystyle \\frac{2 \\operatorname{u_{2}}{\\left(\\tau \\right)} \\operatorname{u_{3}}{\\left(\\tau \\right)}}{\\tan{\\left(2 \\theta{\\left(\\tau \\right)} \\right)}} + \\frac{d}{d \\tau} \\operatorname{u_{3}}{\\left(\\tau \\right)} + \\frac{2 \\operatorname{u_{1}}{\\left(\\tau \\right)} \\operatorname{u_{3}}{\\left(\\tau \\right)}}{r{\\left(\\tau \\right)}} = 0$"
      ],
      "text/plain": [
       "2⋅u₂(τ)⋅u₃(τ)   d           2⋅u₁(τ)⋅u₃(τ)    \n",
       "───────────── + ──(u₃(τ)) + ───────────── = 0\n",
       " tan(2⋅θ(τ))    dτ               r(τ)        "
      ]
     },
     "metadata": {},
     "output_type": "display_data"
    }
   ],
   "source": [
    "for f  in [dt,dr,dtheta,dphi,du_0,du_1,du_2,du_3]:\n",
    "    display(f)"
   ]
  },
  {
   "cell_type": "code",
   "execution_count": 21,
   "id": "b73b77b4",
   "metadata": {},
   "outputs": [
    {
     "data": {
      "image/png": "[encoded data removed]",
      "text/latex": [
       "$\\displaystyle t{\\left(\\tau \\right)} = C_{1} + C_{2} \\tau$"
      ],
      "text/plain": [
       "t(τ) = C₁ + C₂⋅τ"
      ]
     },
     "metadata": {},
     "output_type": "display_data"
    },
    {
     "data": {
      "image/png": "[encoded data removed]",
      "text/latex": [
       "$\\displaystyle x{\\left(\\tau \\right)} = C_{3} + C_{4} \\tau$"
      ],
      "text/plain": [
       "x(τ) = C₃ + C₄⋅τ"
      ]
     },
     "metadata": {},
     "output_type": "display_data"
    },
    {
     "data": {
      "image/png": "[encoded data removed]",
      "text/latex": [
       "$\\displaystyle y{\\left(\\tau \\right)} = C_{5} + C_{6} \\tau$"
      ],
      "text/plain": [
       "y(τ) = C₅ + C₆⋅τ"
      ]
     },
     "metadata": {},
     "output_type": "display_data"
    },
    {
     "data": {
      "image/png": "[encoded data removed]",
      "text/latex": [
       "$\\displaystyle \\operatorname{u_{0}}{\\left(\\tau \\right)} = C_{2}$"
      ],
      "text/plain": [
       "u₀(τ) = C₂"
      ]
     },
     "metadata": {},
     "output_type": "display_data"
    },
    {
     "data": {
      "image/png": "[encoded data removed]",
      "text/latex": [
       "$\\displaystyle \\operatorname{u_{1}}{\\left(\\tau \\right)} = C_{4}$"
      ],
      "text/plain": [
       "u₁(τ) = C₄"
      ]
     },
     "metadata": {},
     "output_type": "display_data"
    },
    {
     "data": {
      "image/png": "[encoded data removed]",
      "text/latex": [
       "$\\displaystyle \\operatorname{u_{2}}{\\left(\\tau \\right)} = C_{6}$"
      ],
      "text/plain": [
       "u₂(τ) = C₆"
      ]
     },
     "metadata": {},
     "output_type": "display_data"
    }
   ],
   "source": [
    "for f in vv[0]:\n",
    "    display(f)"
   ]
  },
  {
   "cell_type": "code",
   "execution_count": 1,
   "id": "7f10cf41",
   "metadata": {},
   "outputs": [],
   "source": [
    "from libreria_geometria import componentes_tensor_riemann, componentes_tensor_curvatura, componentes_tensor_ricci, curvatura_escalar"
   ]
  },
  {
   "cell_type": "markdown",
   "id": "ccc33780",
   "metadata": {},
   "source": [
    "### Componentes tensor curvatura de Riemann"
   ]
  },
  {
   "cell_type": "code",
   "execution_count": 12,
   "id": "79a3d6f4",
   "metadata": {},
   "outputs": [
    {
     "data": {
      "text/latex": [
       "$\\displaystyle R^{r}_{{phi,theta,phi}} = \\frac{0.5 r \\left(\\sin{\\left(2 \\theta \\right)} \\tan{\\left(\\theta \\right)} + \\cos{\\left(2 \\theta \\right)} - 1\\right)}{\\tan{\\left(\\theta \\right)}}$"
      ],
      "text/plain": [
       "<IPython.core.display.Math object>"
      ]
     },
     "metadata": {},
     "output_type": "display_data"
    }
   ],
   "source": [
    "R = componentes_tensor_riemann(g, variables)\n",
    "for l in range(len(variables)):\n",
    "    for i in range(len(variables)):\n",
    "        for j in range(len(variables)):\n",
    "            for k in range(len(variables)):\n",
    "                if R[l][i][j][k] != 0:        \n",
    "                    display(Math(f'R^{{{variables[l]}}}_{{{{{variables[i]},{variables[j]},{variables[k]}}}}} = ' +latex(sp.simplify(R[l][i][j][k]))))"
   ]
  },
  {
   "cell_type": "markdown",
   "id": "eaaab82b",
   "metadata": {},
   "source": [
    "## Componentes tensor curvatura "
   ]
  },
  {
   "cell_type": "code",
   "execution_count": 11,
   "id": "46b3673b",
   "metadata": {},
   "outputs": [
    {
     "data": {
      "text/latex": [
       "$\\displaystyle R_{{phi,theta,phi,r}} = \\frac{0.5 r \\left(\\sin{\\left(2 \\theta \\right)} \\tan{\\left(\\theta \\right)} + \\cos{\\left(2 \\theta \\right)} - 1\\right)}{\\tan{\\left(\\theta \\right)}}$"
      ],
      "text/plain": [
       "<IPython.core.display.Math object>"
      ]
     },
     "metadata": {},
     "output_type": "display_data"
    }
   ],
   "source": [
    "R = componentes_tensor_curvatura(g,variables)\n",
    "for l in range(len(variables)):\n",
    "    for i in range(len(variables)):\n",
    "        for j in range(len(variables)):\n",
    "            for k in range(len(variables)):\n",
    "                if R[l][i][j][k] != 0:        \n",
    "                    display(Math(f'R_{{{{{variables[l]},{variables[i]},{variables[j]},{variables[k]}}}}} = ' +latex(R[l][i][j][k])))"
   ]
  },
  {
   "cell_type": "markdown",
   "id": "66e3a24a",
   "metadata": {},
   "source": [
    "### Componentes tensor de Ricci"
   ]
  },
  {
   "cell_type": "code",
   "execution_count": 14,
   "id": "d85a01d4",
   "metadata": {},
   "outputs": [
    {
     "data": {
      "text/latex": [
       "$\\displaystyle R_{{t,t}} = 0$"
      ],
      "text/plain": [
       "<IPython.core.display.Math object>"
      ]
     },
     "metadata": {},
     "output_type": "display_data"
    },
    {
     "data": {
      "text/latex": [
       "$\\displaystyle R_{{t,r}} = 0$"
      ],
      "text/plain": [
       "<IPython.core.display.Math object>"
      ]
     },
     "metadata": {},
     "output_type": "display_data"
    },
    {
     "data": {
      "text/latex": [
       "$\\displaystyle R_{{t,theta}} = 0$"
      ],
      "text/plain": [
       "<IPython.core.display.Math object>"
      ]
     },
     "metadata": {},
     "output_type": "display_data"
    },
    {
     "data": {
      "text/latex": [
       "$\\displaystyle R_{{t,phi}} = 0$"
      ],
      "text/plain": [
       "<IPython.core.display.Math object>"
      ]
     },
     "metadata": {},
     "output_type": "display_data"
    },
    {
     "data": {
      "text/latex": [
       "$\\displaystyle R_{{r,t}} = 0$"
      ],
      "text/plain": [
       "<IPython.core.display.Math object>"
      ]
     },
     "metadata": {},
     "output_type": "display_data"
    },
    {
     "data": {
      "text/latex": [
       "$\\displaystyle R_{{r,r}} = 0$"
      ],
      "text/plain": [
       "<IPython.core.display.Math object>"
      ]
     },
     "metadata": {},
     "output_type": "display_data"
    },
    {
     "data": {
      "text/latex": [
       "$\\displaystyle R_{{r,theta}} = 0$"
      ],
      "text/plain": [
       "<IPython.core.display.Math object>"
      ]
     },
     "metadata": {},
     "output_type": "display_data"
    },
    {
     "data": {
      "text/latex": [
       "$\\displaystyle R_{{r,phi}} = 0$"
      ],
      "text/plain": [
       "<IPython.core.display.Math object>"
      ]
     },
     "metadata": {},
     "output_type": "display_data"
    },
    {
     "data": {
      "text/latex": [
       "$\\displaystyle R_{{theta,t}} = 0$"
      ],
      "text/plain": [
       "<IPython.core.display.Math object>"
      ]
     },
     "metadata": {},
     "output_type": "display_data"
    },
    {
     "data": {
      "text/latex": [
       "$\\displaystyle R_{{theta,r}} = 0$"
      ],
      "text/plain": [
       "<IPython.core.display.Math object>"
      ]
     },
     "metadata": {},
     "output_type": "display_data"
    },
    {
     "data": {
      "text/latex": [
       "$\\displaystyle R_{{theta,theta}} = 0$"
      ],
      "text/plain": [
       "<IPython.core.display.Math object>"
      ]
     },
     "metadata": {},
     "output_type": "display_data"
    },
    {
     "data": {
      "text/latex": [
       "$\\displaystyle R_{{theta,phi}} = 0$"
      ],
      "text/plain": [
       "<IPython.core.display.Math object>"
      ]
     },
     "metadata": {},
     "output_type": "display_data"
    },
    {
     "data": {
      "text/latex": [
       "$\\displaystyle R_{{phi,t}} = 0$"
      ],
      "text/plain": [
       "<IPython.core.display.Math object>"
      ]
     },
     "metadata": {},
     "output_type": "display_data"
    },
    {
     "data": {
      "text/latex": [
       "$\\displaystyle R_{{phi,r}} = 0$"
      ],
      "text/plain": [
       "<IPython.core.display.Math object>"
      ]
     },
     "metadata": {},
     "output_type": "display_data"
    },
    {
     "data": {
      "text/latex": [
       "$\\displaystyle R_{{phi,theta}} = 0$"
      ],
      "text/plain": [
       "<IPython.core.display.Math object>"
      ]
     },
     "metadata": {},
     "output_type": "display_data"
    },
    {
     "data": {
      "text/latex": [
       "$\\displaystyle R_{{phi,phi}} = 0$"
      ],
      "text/plain": [
       "<IPython.core.display.Math object>"
      ]
     },
     "metadata": {},
     "output_type": "display_data"
    }
   ],
   "source": [
    "Ricci_curv = componentes_tensor_ricci(g,variables)\n",
    "for i in range(len(variables)):\n",
    "    for j in range(len(variables)):\n",
    "            display(Math(f'R_{{{{{variables[i]},{variables[j]}}}}} = '+latex(Ricci_curv[i][j])))\n",
    "            "
   ]
  },
  {
   "cell_type": "markdown",
   "id": "562c7065",
   "metadata": {},
   "source": [
    "### Curvatura Escalar"
   ]
  },
  {
   "cell_type": "code",
   "execution_count": 15,
   "id": "e56cebc4",
   "metadata": {},
   "outputs": [
    {
     "data": {
      "image/png": "[encoded data removed]",
      "text/latex": [
       "$\\displaystyle 0$"
      ],
      "text/plain": [
       "0"
      ]
     },
     "execution_count": 15,
     "metadata": {},
     "output_type": "execute_result"
    }
   ],
   "source": [
    "curvatura_escalar(g,variables)"
   ]
  },
  {
   "cell_type": "code",
   "execution_count": null,
   "id": "bb534ffe",
   "metadata": {},
   "outputs": [],
   "source": []
  }
 ],
 "metadata": {
  "kernelspec": {
   "display_name": "Python 3",
   "language": "python",
   "name": "python3"
  },
  "language_info": {
   "codemirror_mode": {
    "name": "ipython",
    "version": 3
   },
   "file_extension": ".py",
   "mimetype": "text/x-python",
   "name": "python",
   "nbconvert_exporter": "python",
   "pygments_lexer": "ipython3",
   "version": "3.8.5"
  }
 },
 "nbformat": 4,
 "nbformat_minor": 5
}
