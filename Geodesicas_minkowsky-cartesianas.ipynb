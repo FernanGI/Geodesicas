{
 "cells": [
  {
   "cell_type": "code",
   "execution_count": 2,
   "id": "0a10f6d9",
   "metadata": {},
   "outputs": [],
   "source": [
    "import sympy  as sp\n",
    "from sympy import *\n",
    "import numpy as np\n",
    "#Para resolver sistemas de ecuaciones diferencials \n",
    "from sympy.solvers.ode.systems import dsolve_system\n",
    "from IPython.display import display, Math"
   ]
  },
  {
   "cell_type": "code",
   "execution_count": 3,
   "id": "fe9798dc",
   "metadata": {},
   "outputs": [],
   "source": [
    "sp.interactive.printing.init_printing(use_latex=True)"
   ]
  },
  {
   "cell_type": "code",
   "execution_count": 6,
   "id": "031337be",
   "metadata": {},
   "outputs": [],
   "source": [
    "#Declaración de las variables que vamos a usar\n",
    "t,x,y,z = sp.symbols('t x y z')\n",
    "c= sp.symbols('c')\n",
    "\n",
    "#Vector con las variables que vamos a usar \n",
    "variables = [t,x,y,z]"
   ]
  },
  {
   "cell_type": "code",
   "execution_count": 7,
   "id": "777b6190",
   "metadata": {},
   "outputs": [
    {
     "data": {
      "image/png": "[encoded data removed]",
      "text/latex": [
       "$\\displaystyle \\left[\\begin{matrix}- c^{2} & 0 & 0 & 0\\\\0 & 1 & 0 & 0\\\\0 & 0 & 1 & 0\\\\0 & 0 & 0 & 1\\end{matrix}\\right]$"
      ],
      "text/plain": [
       "⎡  2         ⎤\n",
       "⎢-c   0  0  0⎥\n",
       "⎢            ⎥\n",
       "⎢ 0   1  0  0⎥\n",
       "⎢            ⎥\n",
       "⎢ 0   0  1  0⎥\n",
       "⎢            ⎥\n",
       "⎣ 0   0  0  1⎦"
      ]
     },
     "execution_count": 7,
     "metadata": {},
     "output_type": "execute_result"
    }
   ],
   "source": [
    "#Expreso la métrica en forma matricial \n",
    "g = [[-c**2,0,0,0],\n",
    "    [0,1,0,0],\n",
    "     [0,0,1,0],\n",
    "     [0,0,0,1]]\n",
    "sp.Matrix(g)\n"
   ]
  },
  {
   "cell_type": "code",
   "execution_count": 8,
   "id": "70a4aad8",
   "metadata": {
    "scrolled": true
   },
   "outputs": [
    {
     "data": {
      "image/png": "[encoded data removed]",
      "text/latex": [
       "$\\displaystyle \\left[\\begin{matrix}- \\frac{1}{c^{2}} & 0 & 0 & 0\\\\0 & 1.0 & 0 & 0\\\\0 & 0 & 1.0 & 0\\\\0 & 0 & 0 & 1.0\\end{matrix}\\right]$"
      ],
      "text/plain": [
       "⎡-1                ⎤\n",
       "⎢───   0    0    0 ⎥\n",
       "⎢  2               ⎥\n",
       "⎢ c                ⎥\n",
       "⎢                  ⎥\n",
       "⎢ 0   1.0   0    0 ⎥\n",
       "⎢                  ⎥\n",
       "⎢ 0    0   1.0   0 ⎥\n",
       "⎢                  ⎥\n",
       "⎣ 0    0    0   1.0⎦"
      ]
     },
     "execution_count": 8,
     "metadata": {},
     "output_type": "execute_result"
    }
   ],
   "source": [
    "g_inv = [[ g[i][j]**-1 if g[i][j] != 0 else g[i][j] for j in range(len(g))] for i in range(len(g))]\n",
    "sp.Matrix(g_inv)"
   ]
  },
  {
   "cell_type": "code",
   "execution_count": 9,
   "id": "c1ea5bf6",
   "metadata": {},
   "outputs": [
    {
     "data": {
      "image/png": "[encoded data removed]",
      "text/latex": [
       "$\\displaystyle \\left[ \\left[ \\left[ 0, \\  0, \\  0, \\  0\\right], \\  \\left[ 0, \\  0, \\  0, \\  0\\right], \\  \\left[ 0, \\  0, \\  0, \\  0\\right], \\  \\left[ 0, \\  0, \\  0, \\  0\\right]\\right], \\  \\left[ \\left[ 0, \\  0, \\  0, \\  0\\right], \\  \\left[ 0, \\  0, \\  0, \\  0\\right], \\  \\left[ 0, \\  0, \\  0, \\  0\\right], \\  \\left[ 0, \\  0, \\  0, \\  0\\right]\\right], \\  \\left[ \\left[ 0, \\  0, \\  0, \\  0\\right], \\  \\left[ 0, \\  0, \\  0, \\  0\\right], \\  \\left[ 0, \\  0, \\  0, \\  0\\right], \\  \\left[ 0, \\  0, \\  0, \\  0\\right]\\right], \\  \\left[ \\left[ 0, \\  0, \\  0, \\  0\\right], \\  \\left[ 0, \\  0, \\  0, \\  0\\right], \\  \\left[ 0, \\  0, \\  0, \\  0\\right], \\  \\left[ 0, \\  0, \\  0, \\  0\\right]\\right]\\right]$"
      ],
      "text/plain": [
       "[[[0, 0, 0, 0], [0, 0, 0, 0], [0, 0, 0, 0], [0, 0, 0, 0]], [[0, 0, 0, 0], [0, \n",
       "0, 0, 0], [0, 0, 0, 0], [0, 0, 0, 0]], [[0, 0, 0, 0], [0, 0, 0, 0], [0, 0, 0, \n",
       "0], [0, 0, 0, 0]], [[0, 0, 0, 0], [0, 0, 0, 0], [0, 0, 0, 0], [0, 0, 0, 0]]]"
      ]
     },
     "execution_count": 9,
     "metadata": {},
     "output_type": "execute_result"
    }
   ],
   "source": [
    "#Este vector va a contener la matriz g derivada respecto de cada la variable\n",
    "#Por ejemplo derivadas_variable[0] es la derivada de toda la matriz respecto de t\n",
    "#            derivadas_variable[1] es la derivada de toda la matriz respecto de x\n",
    "#Y derivadas_variable[1][0][0] es la derivad parcial de g_{0,0} respecto x\n",
    "# y así sucesivamente \n",
    "derivadas_variable = []\n",
    "\n",
    "for variable in variables: \n",
    "    derivada_variable = [[0 for i in variables] for j in variables]\n",
    "    for i in range(len(variables)):\n",
    "        for j in range(len(variables)): \n",
    "            func = g[i][j]\n",
    "            #Para no hacer la derivada de un número \n",
    "            if type(func) == sp.core.mul.Mul or type(func) == sp.core.power.Pow: \n",
    "                derivada_variable[i][j] = simplify(func.diff(variable))\n",
    "                \n",
    "    derivadas_variable.append(derivada_variable)\n",
    "derivadas_variable"
   ]
  },
  {
   "cell_type": "code",
   "execution_count": 10,
   "id": "2669cc9d",
   "metadata": {},
   "outputs": [],
   "source": [
    "simbolos_chistoffle = [[[0 for j in variables] for i in variables] for m in variables]\n",
    "\n",
    "\n",
    "for m in range(len(variables)):\n",
    "    for i in range(len(variables)):\n",
    "        for j in range(len(variables)):\n",
    "            simbolo = 0\n",
    "            #El sumatorio respecto del indice libre l \n",
    "            for l in range(len(variables)):\n",
    "                #Para evitar hacer una multiplicación por 0 \n",
    "                if  g_inv[m][l] != 0: \n",
    "                    simbolo =simbolo + g_inv[m][l]*(derivadas_variable[j][i][l]+derivadas_variable[i][j][l]-derivadas_variable[l][i][j])\n",
    "            simbolo =1/2*simbolo\n",
    "            simbolos_chistoffle[m][i][j] = simplify(simbolo)\n",
    "for i in range(len(simbolos_chistoffle)):\n",
    "    for j in range(len(simbolos_chistoffle)):\n",
    "        for k in range(len(simbolos_chistoffle)):\n",
    "            if simbolos_chistoffle[i][j][k] != 0:\n",
    "                \n",
    "                display(Math(f'\\Gamma^{{{variables[i]}}}_{{{variables[j]},{variables[k]}}} = ' +latex(simbolos_chistoffle[i][j][k])))"
   ]
  },
  {
   "cell_type": "code",
   "execution_count": 11,
   "id": "71133660",
   "metadata": {},
   "outputs": [],
   "source": [
    "#Variable para poder derivar \n",
    "tau = sp.symbols(\"tau\")\n",
    "\n",
    "#Defino las derivadas, esto para poder resolverlo \n",
    "dt = sp.Function('dt')(tau)\n",
    "dx = sp.Function(\"dx\")(tau)\n",
    "dy = sp.Function('dy')(tau) \n",
    "dz =  sp.Function('dz')(tau)\n",
    "\n",
    "variables_derivadas = [dt,dx,dy,dz]\n"
   ]
  },
  {
   "cell_type": "code",
   "execution_count": 12,
   "id": "7cc925a2",
   "metadata": {},
   "outputs": [],
   "source": [
    "#Esto va a con\n",
    "geodesicas = [i.diff(tau) for i in variables_derivadas]\n",
    "\n",
    "for variable in range(len(variables)): \n",
    "    for i in range(len(variables)):\n",
    "        for j in range(len(variables)):\n",
    "            geodesicas[variable] = geodesicas[variable] +simplify( simbolos_chistoffle[variable][i][j]*variables_derivadas[i]*variables_derivadas[j])\n",
    "    geodesicas[variable] = sp.Eq(geodesicas[variable],0)\n",
    "    \n"
   ]
  },
  {
   "cell_type": "code",
   "execution_count": 13,
   "id": "20d8a4f9",
   "metadata": {},
   "outputs": [
    {
     "data": {
      "image/png": "[encoded data removed]",
      "text/latex": [
       "$\\displaystyle \\frac{d}{d \\tau} \\operatorname{dt}{\\left(\\tau \\right)} = 0$"
      ],
      "text/plain": [
       "d            \n",
       "──(dt(τ)) = 0\n",
       "dτ           "
      ]
     },
     "metadata": {},
     "output_type": "display_data"
    },
    {
     "data": {
      "image/png": "[encoded data removed]",
      "text/latex": [
       "$\\displaystyle \\frac{d}{d \\tau} \\operatorname{dx}{\\left(\\tau \\right)} = 0$"
      ],
      "text/plain": [
       "d            \n",
       "──(dx(τ)) = 0\n",
       "dτ           "
      ]
     },
     "metadata": {},
     "output_type": "display_data"
    },
    {
     "data": {
      "image/png": "[encoded data removed]",
      "text/latex": [
       "$\\displaystyle \\frac{d}{d \\tau} \\operatorname{dy}{\\left(\\tau \\right)} = 0$"
      ],
      "text/plain": [
       "d            \n",
       "──(dy(τ)) = 0\n",
       "dτ           "
      ]
     },
     "metadata": {},
     "output_type": "display_data"
    },
    {
     "data": {
      "image/png": "[encoded data removed]",
      "text/latex": [
       "$\\displaystyle \\frac{d}{d \\tau} \\operatorname{dz}{\\left(\\tau \\right)} = 0$"
      ],
      "text/plain": [
       "d            \n",
       "──(dz(τ)) = 0\n",
       "dτ           "
      ]
     },
     "metadata": {},
     "output_type": "display_data"
    }
   ],
   "source": [
    "for v in geodesicas: \n",
    "    display(v)\n"
   ]
  },
  {
   "cell_type": "code",
   "execution_count": 29,
   "id": "d45e5a4e",
   "metadata": {},
   "outputs": [],
   "source": [
    "t = sp.Function('t')(tau)\n",
    "x = sp.Function('x')(tau)\n",
    "y = sp.Function('y')(tau)\n",
    "z = sp.Function('z')(tau)"
   ]
  },
  {
   "cell_type": "code",
   "execution_count": 30,
   "id": "3518b9f9",
   "metadata": {},
   "outputs": [],
   "source": [
    "u_0 =  sp.Function('u_0')(tau)\n",
    "u_1 = sp.Function(\"u_1\")(tau)\n",
    "u_2 = sp.Function(\"u_2\")(tau)\n",
    "u_3 = sp.Function(\"u_3\")(tau)"
   ]
  },
  {
   "cell_type": "code",
   "execution_count": 31,
   "id": "86667ba2",
   "metadata": {},
   "outputs": [
    {
     "data": {
      "image/png": "[encoded data removed]",
      "text/latex": [
       "$\\displaystyle \\frac{d}{d \\tau} t{\\left(\\tau \\right)} = \\operatorname{u_{0}}{\\left(\\tau \\right)}$"
      ],
      "text/plain": [
       "d               \n",
       "──(t(τ)) = u₀(τ)\n",
       "dτ              "
      ]
     },
     "execution_count": 31,
     "metadata": {},
     "output_type": "execute_result"
    }
   ],
   "source": [
    "dt = sp.Eq(t.diff(),u_0)\n",
    "dt"
   ]
  },
  {
   "cell_type": "code",
   "execution_count": 32,
   "id": "4fdcb131",
   "metadata": {},
   "outputs": [
    {
     "data": {
      "image/png": "[encoded data removed]",
      "text/latex": [
       "$\\displaystyle \\frac{d}{d \\tau} x{\\left(\\tau \\right)} = \\operatorname{u_{1}}{\\left(\\tau \\right)}$"
      ],
      "text/plain": [
       "d               \n",
       "──(x(τ)) = u₁(τ)\n",
       "dτ              "
      ]
     },
     "execution_count": 32,
     "metadata": {},
     "output_type": "execute_result"
    }
   ],
   "source": [
    "dx = sp.Eq(x.diff(),u_1)\n",
    "dx"
   ]
  },
  {
   "cell_type": "code",
   "execution_count": 33,
   "id": "76059756",
   "metadata": {},
   "outputs": [
    {
     "data": {
      "image/png": "[encoded data removed]",
      "text/latex": [
       "$\\displaystyle \\frac{d}{d \\tau} y{\\left(\\tau \\right)} = \\operatorname{u_{2}}{\\left(\\tau \\right)}$"
      ],
      "text/plain": [
       "d               \n",
       "──(y(τ)) = u₂(τ)\n",
       "dτ              "
      ]
     },
     "execution_count": 33,
     "metadata": {},
     "output_type": "execute_result"
    }
   ],
   "source": [
    "dy = sp.Eq(y.diff(),u_2)\n",
    "dy"
   ]
  },
  {
   "cell_type": "code",
   "execution_count": 34,
   "id": "528682aa",
   "metadata": {},
   "outputs": [
    {
     "data": {
      "image/png": "[encoded data removed]",
      "text/latex": [
       "$\\displaystyle \\frac{d}{d \\tau} z{\\left(\\tau \\right)} = \\operatorname{u_{3}}{\\left(\\tau \\right)}$"
      ],
      "text/plain": [
       "d               \n",
       "──(z(τ)) = u₃(τ)\n",
       "dτ              "
      ]
     },
     "execution_count": 34,
     "metadata": {},
     "output_type": "execute_result"
    }
   ],
   "source": [
    "dz = sp.Eq(z.diff(),u_3)\n",
    "dz"
   ]
  },
  {
   "cell_type": "code",
   "execution_count": 35,
   "id": "9db0e538",
   "metadata": {},
   "outputs": [
    {
     "data": {
      "image/png": "[encoded data removed]",
      "text/latex": [
       "$\\displaystyle \\frac{d}{d \\tau} \\operatorname{u_{0}}{\\left(\\tau \\right)} = 0$"
      ],
      "text/plain": [
       "d            \n",
       "──(u₀(τ)) = 0\n",
       "dτ           "
      ]
     },
     "execution_count": 35,
     "metadata": {},
     "output_type": "execute_result"
    }
   ],
   "source": [
    "du_0 = sp.Eq(Derivative(u_0, tau), 0)\n",
    "du_0"
   ]
  },
  {
   "cell_type": "code",
   "execution_count": 36,
   "id": "946950bc",
   "metadata": {},
   "outputs": [
    {
     "data": {
      "image/png": "[encoded data removed]",
      "text/latex": [
       "$\\displaystyle \\frac{d}{d \\tau} \\operatorname{u_{1}}{\\left(\\tau \\right)} = 0$"
      ],
      "text/plain": [
       "d            \n",
       "──(u₁(τ)) = 0\n",
       "dτ           "
      ]
     },
     "execution_count": 36,
     "metadata": {},
     "output_type": "execute_result"
    }
   ],
   "source": [
    "#Eq(-1.0*r*dphi(tau)**2*sin(2*theta) - 1.0*r*dtheta(tau)**2 + Derivative(dr(tau), tau), 0)\n",
    "du_1 = sp.Eq( Derivative(u_1, tau), 0)\n",
    "du_1"
   ]
  },
  {
   "cell_type": "code",
   "execution_count": 37,
   "id": "f73ec28a",
   "metadata": {},
   "outputs": [
    {
     "data": {
      "image/png": "[encoded data removed]",
      "text/latex": [
       "$\\displaystyle \\frac{d}{d \\tau} \\operatorname{u_{2}}{\\left(\\tau \\right)} = 0$"
      ],
      "text/plain": [
       "d            \n",
       "──(u₂(τ)) = 0\n",
       "dτ           "
      ]
     },
     "execution_count": 37,
     "metadata": {},
     "output_type": "execute_result"
    }
   ],
   "source": [
    "#Eq(-1.0*dphi(tau)**2*cos(2*theta) + Derivative(dtheta(tau), tau) + 2.0*dr(tau)*dtheta(tau)/r, 0)\n",
    "du_2 = sp.Eq(Derivative(u_2, tau),0)\n",
    "du_2"
   ]
  },
  {
   "cell_type": "code",
   "execution_count": 38,
   "id": "940f7f1b",
   "metadata": {},
   "outputs": [
    {
     "data": {
      "image/png": "[encoded data removed]",
      "text/latex": [
       "$\\displaystyle \\frac{d}{d \\tau} \\operatorname{u_{3}}{\\left(\\tau \\right)} = 0$"
      ],
      "text/plain": [
       "d            \n",
       "──(u₃(τ)) = 0\n",
       "dτ           "
      ]
     },
     "execution_count": 38,
     "metadata": {},
     "output_type": "execute_result"
    }
   ],
   "source": [
    "# Eq(2.0*dphi(tau)*dtheta(tau)/tan(2*theta) + Derivative(dphi(tau), tau) + 2.0*dphi(tau)*dr(tau)/r, 0)\n",
    "du_3 = sp.Eq(u_3.diff(),0)\n",
    "du_3"
   ]
  },
  {
   "cell_type": "code",
   "execution_count": 39,
   "id": "dd457007",
   "metadata": {},
   "outputs": [],
   "source": [
    "vv = dsolve_system([dt,dx,dy,dz,du_0,du_1,du_2,du_3])"
   ]
  },
  {
   "cell_type": "code",
   "execution_count": 40,
   "id": "dac9f2d6",
   "metadata": {},
   "outputs": [
    {
     "data": {
      "image/png": "[encoded data removed]",
      "text/latex": [
       "$\\displaystyle \\frac{d}{d \\tau} t{\\left(\\tau \\right)} = \\operatorname{u_{0}}{\\left(\\tau \\right)}$"
      ],
      "text/plain": [
       "d               \n",
       "──(t(τ)) = u₀(τ)\n",
       "dτ              "
      ]
     },
     "metadata": {},
     "output_type": "display_data"
    },
    {
     "data": {
      "image/png": "[encoded data removed]",
      "text/latex": [
       "$\\displaystyle \\frac{d}{d \\tau} r{\\left(\\tau \\right)} = \\operatorname{u_{1}}{\\left(\\tau \\right)}$"
      ],
      "text/plain": [
       "d               \n",
       "──(r(τ)) = u₁(τ)\n",
       "dτ              "
      ]
     },
     "metadata": {},
     "output_type": "display_data"
    },
    {
     "data": {
      "image/png": "[encoded data removed]",
      "text/latex": [
       "$\\displaystyle 1 = \\operatorname{u_{2}}{\\left(\\tau \\right)}$"
      ],
      "text/plain": [
       "1 = u₂(τ)"
      ]
     },
     "metadata": {},
     "output_type": "display_data"
    },
    {
     "data": {
      "image/png": "[encoded data removed]",
      "text/latex": [
       "$\\displaystyle 1 = \\operatorname{u_{3}}{\\left(\\tau \\right)}$"
      ],
      "text/plain": [
       "1 = u₃(τ)"
      ]
     },
     "metadata": {},
     "output_type": "display_data"
    },
    {
     "data": {
      "image/png": "[encoded data removed]",
      "text/latex": [
       "$\\displaystyle \\frac{d}{d \\tau} \\operatorname{u_{0}}{\\left(\\tau \\right)} = 0$"
      ],
      "text/plain": [
       "d            \n",
       "──(u₀(τ)) = 0\n",
       "dτ           "
      ]
     },
     "metadata": {},
     "output_type": "display_data"
    },
    {
     "data": {
      "image/png": "[encoded data removed]",
      "text/latex": [
       "$\\displaystyle \\frac{d}{d \\tau} \\operatorname{u_{1}}{\\left(\\tau \\right)} = 0$"
      ],
      "text/plain": [
       "d            \n",
       "──(u₁(τ)) = 0\n",
       "dτ           "
      ]
     },
     "metadata": {},
     "output_type": "display_data"
    },
    {
     "data": {
      "image/png": "[encoded data removed]",
      "text/latex": [
       "$\\displaystyle \\frac{d}{d \\tau} \\operatorname{u_{2}}{\\left(\\tau \\right)} = 0$"
      ],
      "text/plain": [
       "d            \n",
       "──(u₂(τ)) = 0\n",
       "dτ           "
      ]
     },
     "metadata": {},
     "output_type": "display_data"
    },
    {
     "data": {
      "image/png": "[encoded data removed]",
      "text/latex": [
       "$\\displaystyle \\frac{d}{d \\tau} \\operatorname{u_{3}}{\\left(\\tau \\right)} = 0$"
      ],
      "text/plain": [
       "d            \n",
       "──(u₃(τ)) = 0\n",
       "dτ           "
      ]
     },
     "metadata": {},
     "output_type": "display_data"
    }
   ],
   "source": [
    "for f  in [dt,dr,dtheta,dphi,du_0,du_1,du_2,du_3]:\n",
    "    display(f)"
   ]
  },
  {
   "cell_type": "code",
   "execution_count": 41,
   "id": "b73b77b4",
   "metadata": {},
   "outputs": [
    {
     "data": {
      "image/png": "[encoded data removed]",
      "text/latex": [
       "$\\displaystyle t{\\left(\\tau \\right)} = C_{1} + C_{2} \\tau$"
      ],
      "text/plain": [
       "t(τ) = C₁ + C₂⋅τ"
      ]
     },
     "metadata": {},
     "output_type": "display_data"
    },
    {
     "data": {
      "image/png": "[encoded data removed]",
      "text/latex": [
       "$\\displaystyle x{\\left(\\tau \\right)} = C_{3} + C_{4} \\tau$"
      ],
      "text/plain": [
       "x(τ) = C₃ + C₄⋅τ"
      ]
     },
     "metadata": {},
     "output_type": "display_data"
    },
    {
     "data": {
      "image/png": "[encoded data removed]",
      "text/latex": [
       "$\\displaystyle y{\\left(\\tau \\right)} = C_{5} + C_{6} \\tau$"
      ],
      "text/plain": [
       "y(τ) = C₅ + C₆⋅τ"
      ]
     },
     "metadata": {},
     "output_type": "display_data"
    },
    {
     "data": {
      "image/png": "[encoded data removed]",
      "text/latex": [
       "$\\displaystyle z{\\left(\\tau \\right)} = C_{7} + C_{8} \\tau$"
      ],
      "text/plain": [
       "z(τ) = C₇ + C₈⋅τ"
      ]
     },
     "metadata": {},
     "output_type": "display_data"
    },
    {
     "data": {
      "image/png": "[encoded data removed]",
      "text/latex": [
       "$\\displaystyle \\operatorname{u_{0}}{\\left(\\tau \\right)} = C_{2}$"
      ],
      "text/plain": [
       "u₀(τ) = C₂"
      ]
     },
     "metadata": {},
     "output_type": "display_data"
    },
    {
     "data": {
      "image/png": "[encoded data removed]",
      "text/latex": [
       "$\\displaystyle \\operatorname{u_{1}}{\\left(\\tau \\right)} = C_{4}$"
      ],
      "text/plain": [
       "u₁(τ) = C₄"
      ]
     },
     "metadata": {},
     "output_type": "display_data"
    },
    {
     "data": {
      "image/png": "[encoded data removed]",
      "text/latex": [
       "$\\displaystyle \\operatorname{u_{2}}{\\left(\\tau \\right)} = C_{6}$"
      ],
      "text/plain": [
       "u₂(τ) = C₆"
      ]
     },
     "metadata": {},
     "output_type": "display_data"
    },
    {
     "data": {
      "image/png": "[encoded data removed]",
      "text/latex": [
       "$\\displaystyle \\operatorname{u_{3}}{\\left(\\tau \\right)} = C_{8}$"
      ],
      "text/plain": [
       "u₃(τ) = C₈"
      ]
     },
     "metadata": {},
     "output_type": "display_data"
    }
   ],
   "source": [
    "for f in vv[0]:\n",
    "    display(f)"
   ]
  },
  {
   "cell_type": "code",
   "execution_count": null,
   "id": "7ba5bdda",
   "metadata": {},
   "outputs": [],
   "source": []
  }
 ],
 "metadata": {
  "kernelspec": {
   "display_name": "Python 3",
   "language": "python",
   "name": "python3"
  },
  "language_info": {
   "codemirror_mode": {
    "name": "ipython",
    "version": 3
   },
   "file_extension": ".py",
   "mimetype": "text/x-python",
   "name": "python",
   "nbconvert_exporter": "python",
   "pygments_lexer": "ipython3",
   "version": "3.8.5"
  }
 },
 "nbformat": 4,
 "nbformat_minor": 5
}
