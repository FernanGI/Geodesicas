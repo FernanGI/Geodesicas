{
 "cells": [
  {
   "cell_type": "code",
   "execution_count": 1,
   "id": "0a10f6d9",
   "metadata": {},
   "outputs": [],
   "source": [
    "import sympy  as sp\n",
    "from sympy import *\n",
    "import numpy as np\n",
    "#Para resolver sistemas de ecuaciones diferencials \n",
    "from sympy.solvers.ode.systems import dsolve_system\n",
    "from IPython.display import display, Math\n",
    "\n",
    "from libreria_geometria import componentes_tensor_riemann, componentes_tensor_curvatura, componentes_tensor_ricci, curvatura_escalar"
   ]
  },
  {
   "cell_type": "code",
   "execution_count": 2,
   "id": "fe9798dc",
   "metadata": {},
   "outputs": [],
   "source": [
    "sp.interactive.printing.init_printing(use_latex=True)"
   ]
  },
  {
   "cell_type": "code",
   "execution_count": 5,
   "id": "031337be",
   "metadata": {},
   "outputs": [],
   "source": [
    "#Declaración de las variables que vamos a usar\n",
    "x, y= sp.symbols('x y')\n",
    "#Vector con las variables que vamos a usar \n",
    "variables = [x,y]"
   ]
  },
  {
   "cell_type": "code",
   "execution_count": 6,
   "id": "777b6190",
   "metadata": {},
   "outputs": [
    {
     "data": {
      "image/png": "[encoded data removed]",
      "text/latex": [
       "$\\displaystyle \\left[\\begin{matrix}\\frac{1}{y^{2}} & 0\\\\0 & \\frac{1}{y^{2}}\\end{matrix}\\right]$"
      ],
      "text/plain": [
       "⎡1     ⎤\n",
       "⎢──  0 ⎥\n",
       "⎢ 2    ⎥\n",
       "⎢y     ⎥\n",
       "⎢      ⎥\n",
       "⎢    1 ⎥\n",
       "⎢0   ──⎥\n",
       "⎢     2⎥\n",
       "⎣    y ⎦"
      ]
     },
     "execution_count": 6,
     "metadata": {},
     "output_type": "execute_result"
    }
   ],
   "source": [
    "#Expreso la métrica en forma matricial \n",
    "g = sp.Matrix([[1/y**2,0],[0,1/y**2]])\n",
    "g"
   ]
  },
  {
   "cell_type": "code",
   "execution_count": 5,
   "id": "72cd9581",
   "metadata": {},
   "outputs": [
    {
     "data": {
      "image/png": "[encoded data removed]",
      "text/latex": [
       "$\\displaystyle \\left[\\begin{matrix}y^{2} & 0\\\\0 & y^{2}\\end{matrix}\\right]$"
      ],
      "text/plain": [
       "⎡ 2    ⎤\n",
       "⎢y   0 ⎥\n",
       "⎢      ⎥\n",
       "⎢     2⎥\n",
       "⎣0   y ⎦"
      ]
     },
     "execution_count": 5,
     "metadata": {},
     "output_type": "execute_result"
    }
   ],
   "source": [
    "#Esto es para poder hacerlo en python y no en sympy que es horrible\n",
    "g = [[1/y**2,0],[0,1/y**2]]\n",
    "\n",
    "#SOLO SIRVE PARA MATRICES DIAGONALES \n",
    "g_inv = [[i for i in v] for v in g]\n",
    "for i in range(len(g_inv)):\n",
    "    for j in range(len(g_inv)):\n",
    "        if g_inv[i][j]!= 0:\n",
    "            g_inv[i][i]= g_inv[i][i]**-1\n",
    "#Para ver bonita la matriz inversa \n",
    "g_inv_sp  = Matrix(g_inv)\n",
    "g_inv_sp\n",
    "        "
   ]
  },
  {
   "cell_type": "code",
   "execution_count": 6,
   "id": "c1ea5bf6",
   "metadata": {},
   "outputs": [
    {
     "data": {
      "image/png": "[encoded data removed]",
      "text/latex": [
       "$\\displaystyle \\left[ \\left[ \\left[ 0, \\  0\\right], \\  \\left[ 0, \\  0\\right]\\right], \\  \\left[ \\left[ - \\frac{2}{y^{3}}, \\  0\\right], \\  \\left[ 0, \\  - \\frac{2}{y^{3}}\\right]\\right]\\right]$"
      ],
      "text/plain": [
       "⎡                  ⎡⎡-2    ⎤  ⎡   -2 ⎤⎤⎤\n",
       "⎢[[0, 0], [0, 0]], ⎢⎢───, 0⎥, ⎢0, ───⎥⎥⎥\n",
       "⎢                  ⎢⎢  3   ⎥  ⎢     3⎥⎥⎥\n",
       "⎣                  ⎣⎣ y    ⎦  ⎣    y ⎦⎦⎦"
      ]
     },
     "execution_count": 6,
     "metadata": {},
     "output_type": "execute_result"
    }
   ],
   "source": [
    "#Este vector va a contener la matriz g derivada respecto de cada la variable\n",
    "#Por ejemplo derivadas_variable[0] es la derivada de toda la matriz respecto de t\n",
    "#            derivadas_variable[1] es la derivada de toda la matriz respecto de x\n",
    "#Y derivadas_variable[1][0][0] es la derivad parcial de g_{0,0} respecto x\n",
    "# y así sucesivamente \n",
    "derivadas_variable = []\n",
    "\n",
    "for variable in variables: \n",
    "    derivada_variable = [[0 for i in variables] for j in variables]\n",
    "    for i in range(len(variables)):\n",
    "        for j in range(len(variables)): \n",
    "            funcion = g[i][j]\n",
    "            #Para no hacer la derivada de un número \n",
    "            if type(funcion) == sp.core.mul.Mul or type(funcion) == sp.core.power.Pow: \n",
    "                derivada_variable[i][j] = simplify(funcion.diff(variable))\n",
    "                \n",
    "    derivadas_variable.append(derivada_variable)\n",
    "derivadas_variable"
   ]
  },
  {
   "cell_type": "code",
   "execution_count": 7,
   "id": "2669cc9d",
   "metadata": {},
   "outputs": [],
   "source": [
    "\n",
    "\n",
    "#Esta matriz va a tener los simbolos de chistoffle \n",
    "#Por ejemplo, simbolo_chirtoffle[2][0][1] sería \\gamma^y_{t,x}\n",
    "simbolos_chistoffle = [[[0 for j in variables] for i in variables] for m in variables]\n",
    "\n",
    "\n",
    "for m in range(len(variables)):\n",
    "    for i in range(len(variables)):\n",
    "        for j in range(len(variables)):\n",
    "            simbolo = 0\n",
    "            #El sumatorio respecto del indice libre l \n",
    "            for l in range(len(variables)):\n",
    "                #Para evitar hacer una multiplicación por 0 \n",
    "                if  g_inv[m][l] != 0: \n",
    "                    simbolo =simbolo + g_inv[m][l]*(derivadas_variable[j][i][l]+derivadas_variable[i][j][l]-derivadas_variable[l][i][j])\n",
    "            #Aquí multiplico  por el 1/2 que hemos sacado de factor común \n",
    "            simbolo =1/2*simbolo\n",
    "            simbolos_chistoffle[m][i][j] = simplify(simbolo)"
   ]
  },
  {
   "cell_type": "code",
   "execution_count": 10,
   "id": "39bf8e92",
   "metadata": {},
   "outputs": [
    {
     "data": {
      "text/latex": [
       "$\\displaystyle \\Gamma^x_{x,x} = 0$"
      ],
      "text/plain": [
       "<IPython.core.display.Math object>"
      ]
     },
     "metadata": {},
     "output_type": "display_data"
    },
    {
     "data": {
      "text/latex": [
       "$\\displaystyle \\Gamma^x_{x,y} = - \\frac{1.0}{y}$"
      ],
      "text/plain": [
       "<IPython.core.display.Math object>"
      ]
     },
     "metadata": {},
     "output_type": "display_data"
    },
    {
     "data": {
      "text/latex": [
       "$\\displaystyle \\Gamma^x_{y,x} = - \\frac{1.0}{y}$"
      ],
      "text/plain": [
       "<IPython.core.display.Math object>"
      ]
     },
     "metadata": {},
     "output_type": "display_data"
    },
    {
     "data": {
      "text/latex": [
       "$\\displaystyle \\Gamma^x_{y,y} = 0$"
      ],
      "text/plain": [
       "<IPython.core.display.Math object>"
      ]
     },
     "metadata": {},
     "output_type": "display_data"
    },
    {
     "data": {
      "text/latex": [
       "$\\displaystyle \\Gamma^y_{x,x} = \\frac{1.0}{y}$"
      ],
      "text/plain": [
       "<IPython.core.display.Math object>"
      ]
     },
     "metadata": {},
     "output_type": "display_data"
    },
    {
     "data": {
      "text/latex": [
       "$\\displaystyle \\Gamma^y_{x,y} = 0$"
      ],
      "text/plain": [
       "<IPython.core.display.Math object>"
      ]
     },
     "metadata": {},
     "output_type": "display_data"
    },
    {
     "data": {
      "text/latex": [
       "$\\displaystyle \\Gamma^y_{y,x} = 0$"
      ],
      "text/plain": [
       "<IPython.core.display.Math object>"
      ]
     },
     "metadata": {},
     "output_type": "display_data"
    },
    {
     "data": {
      "text/latex": [
       "$\\displaystyle \\Gamma^y_{y,y} = - \\frac{1.0}{y}$"
      ],
      "text/plain": [
       "<IPython.core.display.Math object>"
      ]
     },
     "metadata": {},
     "output_type": "display_data"
    }
   ],
   "source": [
    "for i in range(len(simbolos_chistoffle)):\n",
    "    for j in range(len(simbolos_chistoffle)):\n",
    "        for k in range(len(simbolos_chistoffle)):\n",
    "            display(Math(f'\\Gamma^{variables[i]}_{{{variables[j]},{variables[k]}}} = ' +latex(simbolos_chistoffle[i][j][k])))"
   ]
  },
  {
   "cell_type": "code",
   "execution_count": 11,
   "id": "71133660",
   "metadata": {},
   "outputs": [],
   "source": [
    "#Variable para poder derivar \n",
    "tau = sp.symbols(\"tau\")\n",
    "\n",
    "#Defino las derivadas, esto para poder resolverlo \n",
    "dx = sp.Function(\"dx\")(tau)\n",
    "dy = sp.Function('dy')(tau) \n",
    "\n",
    "#Quitamos dz\n",
    "variables_derivadas = [dx,dy]\n"
   ]
  },
  {
   "cell_type": "code",
   "execution_count": 12,
   "id": "7cc925a2",
   "metadata": {},
   "outputs": [],
   "source": [
    "geodesicas = [i.diff(tau) for i in variables_derivadas]\n",
    "\n",
    "for variable in range(len(variables)): \n",
    "    for i in range(len(variables)):\n",
    "        for j in range(len(variables)):\n",
    "            geodesicas[variable] = geodesicas[variable] +simplify( simbolos_chistoffle[variable][i][j]*variables_derivadas[i]*variables_derivadas[j])\n",
    "    geodesicas[variable] = sp.Eq(geodesicas[variable],0)\n",
    "    \n"
   ]
  },
  {
   "cell_type": "code",
   "execution_count": 13,
   "id": "20d8a4f9",
   "metadata": {},
   "outputs": [
    {
     "data": {
      "image/png": "[encoded data removed]",
      "text/latex": [
       "$\\displaystyle \\frac{d}{d \\tau} \\operatorname{dx}{\\left(\\tau \\right)} - \\frac{2.0 \\operatorname{dx}{\\left(\\tau \\right)} \\operatorname{dy}{\\left(\\tau \\right)}}{y} = 0$"
      ],
      "text/plain": [
       "d           2.0⋅dx(τ)⋅dy(τ)    \n",
       "──(dx(τ)) - ─────────────── = 0\n",
       "dτ                 y           "
      ]
     },
     "metadata": {},
     "output_type": "display_data"
    },
    {
     "data": {
      "image/png": "[encoded data removed]",
      "text/latex": [
       "$\\displaystyle \\frac{d}{d \\tau} \\operatorname{dy}{\\left(\\tau \\right)} + \\frac{1.0 \\operatorname{dx}^{2}{\\left(\\tau \\right)}}{y} - \\frac{1.0 \\operatorname{dy}^{2}{\\left(\\tau \\right)}}{y} = 0$"
      ],
      "text/plain": [
       "                  2        2       \n",
       "d           1.0⋅dx (τ)   dy (τ)    \n",
       "──(dy(τ)) + ────────── - ────── = 0\n",
       "dτ              y          y       "
      ]
     },
     "metadata": {},
     "output_type": "display_data"
    }
   ],
   "source": [
    "for v in geodesicas: \n",
    "    display(v)"
   ]
  },
  {
   "cell_type": "code",
   "execution_count": 52,
   "id": "d45e5a4e",
   "metadata": {},
   "outputs": [],
   "source": [
    "x = sp.Function('x')(tau)\n",
    "y = sp.Function('y')(tau)"
   ]
  },
  {
   "cell_type": "code",
   "execution_count": 53,
   "id": "3518b9f9",
   "metadata": {},
   "outputs": [],
   "source": [
    "u_0 =  sp.Function('u_0')(tau)\n",
    "u_1 = sp.Function(\"u_1\")(tau)"
   ]
  },
  {
   "cell_type": "code",
   "execution_count": 54,
   "id": "86667ba2",
   "metadata": {},
   "outputs": [
    {
     "data": {
      "image/png": "[encoded data removed]",
      "text/latex": [
       "$\\displaystyle \\frac{d}{d \\tau} x{\\left(\\tau \\right)} = \\operatorname{u_{0}}{\\left(\\tau \\right)}$"
      ],
      "text/plain": [
       "d               \n",
       "──(x(τ)) = u₀(τ)\n",
       "dτ              "
      ]
     },
     "execution_count": 54,
     "metadata": {},
     "output_type": "execute_result"
    }
   ],
   "source": [
    "dx = sp.Eq(x.diff(tau),u_0)\n",
    "dx"
   ]
  },
  {
   "cell_type": "code",
   "execution_count": 55,
   "id": "4fdcb131",
   "metadata": {},
   "outputs": [
    {
     "data": {
      "image/png": "[encoded data removed]",
      "text/latex": [
       "$\\displaystyle \\frac{d}{d \\tau} y{\\left(\\tau \\right)} = \\operatorname{u_{1}}{\\left(\\tau \\right)}$"
      ],
      "text/plain": [
       "d               \n",
       "──(y(τ)) = u₁(τ)\n",
       "dτ              "
      ]
     },
     "execution_count": 55,
     "metadata": {},
     "output_type": "execute_result"
    }
   ],
   "source": [
    "dy = sp.Eq(y.diff(tau),u_1)\n",
    "dy"
   ]
  },
  {
   "cell_type": "code",
   "execution_count": 56,
   "id": "9db0e538",
   "metadata": {},
   "outputs": [
    {
     "data": {
      "image/png": "[encoded data removed]",
      "text/latex": [
       "$\\displaystyle \\frac{d}{d \\tau} \\operatorname{u_{0}}{\\left(\\tau \\right)} = \\frac{2 \\operatorname{u_{0}}{\\left(\\tau \\right)} \\operatorname{u_{1}}{\\left(\\tau \\right)}}{y{\\left(\\tau \\right)}}$"
      ],
      "text/plain": [
       "d           2⋅u₀(τ)⋅u₁(τ)\n",
       "──(u₀(τ)) = ─────────────\n",
       "dτ               y(τ)    "
      ]
     },
     "execution_count": 56,
     "metadata": {},
     "output_type": "execute_result"
    }
   ],
   "source": [
    "du_0 = sp.Eq(u_0.diff(tau),2*u_0*u_1/y)\n",
    "du_0"
   ]
  },
  {
   "cell_type": "code",
   "execution_count": 57,
   "id": "946950bc",
   "metadata": {},
   "outputs": [
    {
     "data": {
      "image/png": "[encoded data removed]",
      "text/latex": [
       "$\\displaystyle \\frac{d}{d \\tau} \\operatorname{u_{1}}{\\left(\\tau \\right)} = \\frac{- \\operatorname{u_{0}}^{2}{\\left(\\tau \\right)} + \\operatorname{u_{1}}^{2}{\\left(\\tau \\right)}}{y{\\left(\\tau \\right)}}$"
      ],
      "text/plain": [
       "                2        2   \n",
       "d           - u₀ (τ) + u₁ (τ)\n",
       "──(u₁(τ)) = ─────────────────\n",
       "dτ                 y(τ)      "
      ]
     },
     "execution_count": 57,
     "metadata": {},
     "output_type": "execute_result"
    }
   ],
   "source": [
    "du_1 = sp.Eq(u_1.diff(tau),(-u_0**2+u_1**2)/y )\n",
    "du_1"
   ]
  },
  {
   "cell_type": "code",
   "execution_count": 58,
   "id": "132f3623",
   "metadata": {},
   "outputs": [
    {
     "ename": "TypeError",
     "evalue": "'x' object is not callable",
     "output_type": "error",
     "traceback": [
      "\u001b[0;31m---------------------------------------------------------------------------\u001b[0m",
      "\u001b[0;31mTypeError\u001b[0m                                 Traceback (most recent call last)",
      "\u001b[0;32m<ipython-input-58-f35ecc374c98>\u001b[0m in \u001b[0;36m<module>\u001b[0;34m\u001b[0m\n\u001b[1;32m      1\u001b[0m dsolve_system([dx,dy,du_0,du_1],\n\u001b[0;32m----> 2\u001b[0;31m               \u001b[0mics\u001b[0m\u001b[0;34m=\u001b[0m\u001b[0;34m{\u001b[0m\u001b[0mx\u001b[0m\u001b[0;34m(\u001b[0m\u001b[0;36m0\u001b[0m\u001b[0;34m)\u001b[0m\u001b[0;34m:\u001b[0m\u001b[0;36m10\u001b[0m\u001b[0;34m,\u001b[0m\u001b[0my\u001b[0m\u001b[0;34m(\u001b[0m\u001b[0;36m0\u001b[0m\u001b[0;34m)\u001b[0m\u001b[0;34m:\u001b[0m\u001b[0;36m20\u001b[0m\u001b[0;34m,\u001b[0m\u001b[0mu_0\u001b[0m\u001b[0;34m(\u001b[0m\u001b[0;36m0\u001b[0m\u001b[0;34m)\u001b[0m\u001b[0;34m:\u001b[0m\u001b[0;36m5\u001b[0m\u001b[0;34m,\u001b[0m\u001b[0mu_1\u001b[0m\u001b[0;34m(\u001b[0m\u001b[0;36m0\u001b[0m\u001b[0;34m)\u001b[0m\u001b[0;34m:\u001b[0m\u001b[0;36m20\u001b[0m\u001b[0;34m}\u001b[0m\u001b[0;34m,\u001b[0m\u001b[0;34m\u001b[0m\u001b[0;34m\u001b[0m\u001b[0m\n\u001b[0m\u001b[1;32m      3\u001b[0m               t = tau)\n",
      "\u001b[0;31mTypeError\u001b[0m: 'x' object is not callable"
     ]
    }
   ],
   "source": [
    "dsolve_system([dx,dy,du_0,du_1],\n",
    "              ics={x(0):10,y(0):20,u_0(0):5,u_1(0):20},\n",
    "              t = tau)"
   ]
  },
  {
   "cell_type": "code",
   "execution_count": 37,
   "id": "812ba529",
   "metadata": {},
   "outputs": [
    {
     "data": {
      "image/png": "[encoded data removed]",
      "text/latex": [
       "$\\displaystyle \\frac{d}{d \\tau} x{\\left(\\tau \\right)} = \\operatorname{u_{0}}{\\left(\\tau \\right)}$"
      ],
      "text/plain": [
       "d               \n",
       "──(x(τ)) = u₀(τ)\n",
       "dτ              "
      ]
     },
     "metadata": {},
     "output_type": "display_data"
    },
    {
     "data": {
      "image/png": "[encoded data removed]",
      "text/latex": [
       "$\\displaystyle \\frac{d}{d \\tau} y{\\left(\\tau \\right)} = \\operatorname{u_{1}}{\\left(\\tau \\right)}$"
      ],
      "text/plain": [
       "d               \n",
       "──(y(τ)) = u₁(τ)\n",
       "dτ              "
      ]
     },
     "metadata": {},
     "output_type": "display_data"
    },
    {
     "data": {
      "image/png": "[encoded data removed]",
      "text/latex": [
       "$\\displaystyle \\frac{d}{d \\tau} \\operatorname{u_{0}}{\\left(\\tau \\right)} = \\frac{2 \\operatorname{u_{0}}{\\left(\\tau \\right)} \\operatorname{u_{1}}{\\left(\\tau \\right)}}{y{\\left(\\tau \\right)}}$"
      ],
      "text/plain": [
       "d           2⋅u₀(τ)⋅u₁(τ)\n",
       "──(u₀(τ)) = ─────────────\n",
       "dτ               y(τ)    "
      ]
     },
     "metadata": {},
     "output_type": "display_data"
    },
    {
     "data": {
      "image/png": "[encoded data removed]",
      "text/latex": [
       "$\\displaystyle \\frac{d}{d \\tau} \\operatorname{u_{1}}{\\left(\\tau \\right)} = \\frac{- \\operatorname{u_{0}}^{2}{\\left(\\tau \\right)} + \\operatorname{u_{1}}^{2}{\\left(\\tau \\right)}}{y{\\left(\\tau \\right)}}$"
      ],
      "text/plain": [
       "                2        2   \n",
       "d           - u₀ (τ) + u₁ (τ)\n",
       "──(u₁(τ)) = ─────────────────\n",
       "dτ                 y(τ)      "
      ]
     },
     "metadata": {},
     "output_type": "display_data"
    }
   ],
   "source": [
    "display(dx)\n",
    "display(dy)\n",
    "display(du_0)\n",
    "display(du_1)"
   ]
  },
  {
   "cell_type": "code",
   "execution_count": 9,
   "id": "cfed7ff2",
   "metadata": {},
   "outputs": [
    {
     "data": {
      "image/png": "[encoded data removed]",
      "text/latex": [
       "$\\displaystyle \\left[ \\left[ f{\\left(x \\right)} = - C_{1} e^{- x} + C_{2} e^{x}, \\  g{\\left(x \\right)} = C_{1} e^{- x} + C_{2} e^{x}\\right]\\right]$"
      ],
      "text/plain": [
       "⎡⎡             -x       x             -x       x⎤⎤\n",
       "⎣⎣f(x) = - C₁⋅ℯ   + C₂⋅ℯ , g(x) = C₁⋅ℯ   + C₂⋅ℯ ⎦⎦"
      ]
     },
     "execution_count": 9,
     "metadata": {},
     "output_type": "execute_result"
    }
   ],
   "source": [
    "f, g = symbols(\"f g\", cls=Function)\n",
    "\n",
    "x,y = symbols(\"x y\")\n",
    "eqs = [Eq(f(x).diff(x), g(x)), Eq(g(x).diff(x), f(x))]\n",
    "\n",
    "dsolve_system(eqs)"
   ]
  },
  {
   "cell_type": "code",
   "execution_count": 51,
   "id": "28513537",
   "metadata": {},
   "outputs": [
    {
     "data": {
      "image/png": "[encoded data removed]",
      "text/latex": [
       "$\\displaystyle \\frac{d}{d x} f{\\left(x \\right)} = g{\\left(x \\right)}$"
      ],
      "text/plain": [
       "d              \n",
       "──(f(x)) = g(x)\n",
       "dx             "
      ]
     },
     "execution_count": 51,
     "metadata": {},
     "output_type": "execute_result"
    }
   ],
   "source": [
    "Eq(f(x).diff(x), g(x))"
   ]
  },
  {
   "cell_type": "code",
   "execution_count": 20,
   "id": "a6d0fdc5",
   "metadata": {},
   "outputs": [
    {
     "data": {
      "image/png": "[encoded data removed]",
      "text/latex": [
       "$\\displaystyle g{\\left(x,y \\right)} \\frac{\\partial^{2}}{\\partial y\\partial x} f{\\left(x,y \\right)} + \\frac{\\partial}{\\partial x} f{\\left(x,y \\right)} \\frac{\\partial}{\\partial y} g{\\left(x,y \\right)}$"
      ],
      "text/plain": [
       "           2                                    \n",
       "          ∂              ∂           ∂          \n",
       "g(x, y)⋅─────(f(x, y)) + ──(f(x, y))⋅──(g(x, y))\n",
       "        ∂y ∂x            ∂x          ∂y         "
      ]
     },
     "execution_count": 20,
     "metadata": {},
     "output_type": "execute_result"
    }
   ],
   "source": [
    "(g(x,y)*(f(x,y).diff(x))).diff(y)"
   ]
  },
  {
   "cell_type": "markdown",
   "id": "5b134b7a",
   "metadata": {},
   "source": [
    "### Tensor curvatura de Riemann"
   ]
  },
  {
   "cell_type": "code",
   "execution_count": 24,
   "id": "da7686d7",
   "metadata": {},
   "outputs": [
    {
     "data": {
      "text/latex": [
       "$\\displaystyle R^{x}_{{x,y,y}} = - \\frac{1.0}{y^{2}}$"
      ],
      "text/plain": [
       "<IPython.core.display.Math object>"
      ]
     },
     "metadata": {},
     "output_type": "display_data"
    },
    {
     "data": {
      "text/latex": [
       "$\\displaystyle R^{x}_{{y,x,y}} = \\frac{1.0}{y^{2}}$"
      ],
      "text/plain": [
       "<IPython.core.display.Math object>"
      ]
     },
     "metadata": {},
     "output_type": "display_data"
    },
    {
     "data": {
      "text/latex": [
       "$\\displaystyle R^{y}_{{x,y,x}} = \\frac{1.0}{y^{2}}$"
      ],
      "text/plain": [
       "<IPython.core.display.Math object>"
      ]
     },
     "metadata": {},
     "output_type": "display_data"
    },
    {
     "data": {
      "text/latex": [
       "$\\displaystyle R^{y}_{{y,x,x}} = - \\frac{1.0}{y^{2}}$"
      ],
      "text/plain": [
       "<IPython.core.display.Math object>"
      ]
     },
     "metadata": {},
     "output_type": "display_data"
    }
   ],
   "source": [
    "R = componentes_tensor_riemann(g, variables)\n",
    "for l in range(len(variables)):\n",
    "    for i in range(len(variables)):\n",
    "        for j in range(len(variables)):\n",
    "            for k in range(len(variables)):\n",
    "                if R[l][i][j][k] != 0:        \n",
    "                    display(Math(f'R^{{{variables[l]}}}_{{{{{variables[i]},{variables[j]},{variables[k]}}}}} = ' +latex(sp.simplify(R[l][i][j][k]))))"
   ]
  },
  {
   "cell_type": "markdown",
   "id": "86586a24",
   "metadata": {},
   "source": [
    "### Tensor Curvatura"
   ]
  },
  {
   "cell_type": "code",
   "execution_count": 25,
   "id": "ce4063ff",
   "metadata": {},
   "outputs": [
    {
     "data": {
      "text/latex": [
       "$\\displaystyle R_{{x,y,x,y}} = \\frac{1.0}{y^{4}}$"
      ],
      "text/plain": [
       "<IPython.core.display.Math object>"
      ]
     },
     "metadata": {},
     "output_type": "display_data"
    },
    {
     "data": {
      "text/latex": [
       "$\\displaystyle R_{{x,y,y,x}} = - \\frac{1.0}{y^{4}}$"
      ],
      "text/plain": [
       "<IPython.core.display.Math object>"
      ]
     },
     "metadata": {},
     "output_type": "display_data"
    },
    {
     "data": {
      "text/latex": [
       "$\\displaystyle R_{{y,x,x,y}} = - \\frac{1.0}{y^{4}}$"
      ],
      "text/plain": [
       "<IPython.core.display.Math object>"
      ]
     },
     "metadata": {},
     "output_type": "display_data"
    },
    {
     "data": {
      "text/latex": [
       "$\\displaystyle R_{{y,x,y,x}} = \\frac{1.0}{y^{4}}$"
      ],
      "text/plain": [
       "<IPython.core.display.Math object>"
      ]
     },
     "metadata": {},
     "output_type": "display_data"
    }
   ],
   "source": [
    "R = componentes_tensor_curvatura(g,variables)\n",
    "for l in range(len(variables)):\n",
    "    for i in range(len(variables)):\n",
    "        for j in range(len(variables)):\n",
    "            for k in range(len(variables)):\n",
    "                if R[l][i][j][k] != 0:        \n",
    "                    display(Math(f'R_{{{{{variables[l]},{variables[i]},{variables[j]},{variables[k]}}}}} = ' +latex(R[l][i][j][k])))"
   ]
  },
  {
   "cell_type": "markdown",
   "id": "32116cea",
   "metadata": {},
   "source": [
    "### Componentes del tensor de Ricci"
   ]
  },
  {
   "cell_type": "code",
   "execution_count": 26,
   "id": "145f6c14",
   "metadata": {},
   "outputs": [
    {
     "data": {
      "text/latex": [
       "$\\displaystyle R_{{x,x}} = - \\frac{1.0}{y^{2}}$"
      ],
      "text/plain": [
       "<IPython.core.display.Math object>"
      ]
     },
     "metadata": {},
     "output_type": "display_data"
    },
    {
     "data": {
      "text/latex": [
       "$\\displaystyle R_{{y,y}} = - \\frac{1.0}{y^{2}}$"
      ],
      "text/plain": [
       "<IPython.core.display.Math object>"
      ]
     },
     "metadata": {},
     "output_type": "display_data"
    }
   ],
   "source": [
    "Ricci_curv = componentes_tensor_ricci(g,variables)\n",
    "for i in range(len(variables)):\n",
    "    for j in range(len(variables)):\n",
    "        if Ricci_curv[i][j] != 0:        \n",
    "            display(Math(f'R_{{{{{variables[i]},{variables[j]}}}}} = '+latex(Ricci_curv[i][j])))\n",
    "            "
   ]
  },
  {
   "cell_type": "markdown",
   "id": "93a5d251",
   "metadata": {},
   "source": [
    "### Curvatura esclar"
   ]
  },
  {
   "cell_type": "code",
   "execution_count": 8,
   "id": "0a40a043",
   "metadata": {},
   "outputs": [
    {
     "data": {
      "image/png": "[encoded data removed]",
      "text/latex": [
       "$\\displaystyle -2.0$"
      ],
      "text/plain": [
       "-2.00000000000000"
      ]
     },
     "execution_count": 8,
     "metadata": {},
     "output_type": "execute_result"
    }
   ],
   "source": [
    "curvatura_escalar(g,variables)"
   ]
  },
  {
   "cell_type": "code",
   "execution_count": null,
   "id": "8bf3ce35",
   "metadata": {},
   "outputs": [],
   "source": []
  }
 ],
 "metadata": {
  "kernelspec": {
   "display_name": "Python 3",
   "language": "python",
   "name": "python3"
  },
  "language_info": {
   "codemirror_mode": {
    "name": "ipython",
    "version": 3
   },
   "file_extension": ".py",
   "mimetype": "text/x-python",
   "name": "python",
   "nbconvert_exporter": "python",
   "pygments_lexer": "ipython3",
   "version": "3.8.5"
  }
 },
 "nbformat": 4,
 "nbformat_minor": 5
}
