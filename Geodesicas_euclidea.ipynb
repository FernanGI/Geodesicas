{
 "cells": [
  {
   "cell_type": "code",
   "execution_count": 1,
   "id": "0a10f6d9",
   "metadata": {},
   "outputs": [],
   "source": [
    "import sympy  as sp\n",
    "from sympy import *\n",
    "import numpy as np\n",
    "#Para resolver sistemas de ecuaciones diferencials \n",
    "from sympy.solvers.ode.systems import dsolve_system"
   ]
  },
  {
   "cell_type": "code",
   "execution_count": 2,
   "id": "fe9798dc",
   "metadata": {},
   "outputs": [],
   "source": [
    "sp.interactive.printing.init_printing(use_latex=True)"
   ]
  },
  {
   "cell_type": "code",
   "execution_count": 3,
   "id": "031337be",
   "metadata": {},
   "outputs": [],
   "source": [
    "#Declaración de las variables que vamos a usar\n",
    "t, x, y, z = sp.symbols('t x y z')\n",
    "#Vector con las variables que vamos a usar \n",
    "variables = [t,x,y,z]"
   ]
  },
  {
   "cell_type": "code",
   "execution_count": 5,
   "id": "777b6190",
   "metadata": {},
   "outputs": [
    {
     "data": {
      "image/png": "[encoded data removed]",
      "text/latex": [
       "$\\displaystyle \\left[\\begin{matrix}1 & 0 & 0 & 0\\\\0 & 1 & 0 & 0\\\\0 & 0 & 1 & 0\\\\0 & 0 & 0 & 1\\end{matrix}\\right]$"
      ],
      "text/plain": [
       "⎡1  0  0  0⎤\n",
       "⎢          ⎥\n",
       "⎢0  1  0  0⎥\n",
       "⎢          ⎥\n",
       "⎢0  0  1  0⎥\n",
       "⎢          ⎥\n",
       "⎣0  0  0  1⎦"
      ]
     },
     "execution_count": 5,
     "metadata": {},
     "output_type": "execute_result"
    }
   ],
   "source": [
    "#Expreso la métrica en forma matricial \n",
    "g = [\n",
    "    [1,0,0,0],\n",
    "    [0,1,0,0],\n",
    "     [0,0,1,0],\n",
    "     [0,0,0,1]]\n",
    "sp.Matrix(g)\n"
   ]
  },
  {
   "cell_type": "code",
   "execution_count": 15,
   "id": "70a4aad8",
   "metadata": {},
   "outputs": [],
   "source": [
    "g_inv = g\n",
    "            "
   ]
  },
  {
   "cell_type": "code",
   "execution_count": 13,
   "id": "c1ea5bf6",
   "metadata": {},
   "outputs": [
    {
     "data": {
      "image/png": "[encoded data removed]",
      "text/latex": [
       "$\\displaystyle \\left[ \\left[ \\left[ 0, \\  0, \\  0, \\  0\\right], \\  \\left[ 0, \\  0, \\  0, \\  0\\right], \\  \\left[ 0, \\  0, \\  0, \\  0\\right], \\  \\left[ 0, \\  0, \\  0, \\  0\\right]\\right], \\  \\left[ \\left[ 0, \\  0, \\  0, \\  0\\right], \\  \\left[ 0, \\  0, \\  0, \\  0\\right], \\  \\left[ 0, \\  0, \\  0, \\  0\\right], \\  \\left[ 0, \\  0, \\  0, \\  0\\right]\\right], \\  \\left[ \\left[ 0, \\  0, \\  0, \\  0\\right], \\  \\left[ 0, \\  0, \\  0, \\  0\\right], \\  \\left[ 0, \\  0, \\  0, \\  0\\right], \\  \\left[ 0, \\  0, \\  0, \\  0\\right]\\right], \\  \\left[ \\left[ 0, \\  0, \\  0, \\  0\\right], \\  \\left[ 0, \\  0, \\  0, \\  0\\right], \\  \\left[ 0, \\  0, \\  0, \\  0\\right], \\  \\left[ 0, \\  0, \\  0, \\  0\\right]\\right]\\right]$"
      ],
      "text/plain": [
       "[[[0, 0, 0, 0], [0, 0, 0, 0], [0, 0, 0, 0], [0, 0, 0, 0]], [[0, 0, 0, 0], [0, \n",
       "0, 0, 0], [0, 0, 0, 0], [0, 0, 0, 0]], [[0, 0, 0, 0], [0, 0, 0, 0], [0, 0, 0, \n",
       "0], [0, 0, 0, 0]], [[0, 0, 0, 0], [0, 0, 0, 0], [0, 0, 0, 0], [0, 0, 0, 0]]]"
      ]
     },
     "execution_count": 13,
     "metadata": {},
     "output_type": "execute_result"
    }
   ],
   "source": [
    "#Este vector va a contener la matriz g derivada respecto de cada la variable\n",
    "#Por ejemplo derivadas_variable[0] es la derivada de toda la matriz respecto de t\n",
    "#            derivadas_variable[1] es la derivada de toda la matriz respecto de x\n",
    "#Y derivadas_variable[1][0][0] es la derivad parcial de g_{0,0} respecto x\n",
    "# y así sucesivamente \n",
    "derivadas_variable = []\n",
    "\n",
    "for variable in variables: \n",
    "    derivada_variable = [[0 for i in variables] for j in variables]\n",
    "    for i in range(len(variables)):\n",
    "        for j in range(len(variables)): \n",
    "            func = g[i][j]\n",
    "            #Para no hacer la derivada de un número \n",
    "            if type(func) == sp.core.mul.Mul or type(func) == sp.core.power.Pow: \n",
    "                derivada_variable[i][j] = simplify(func.diff(variable))\n",
    "                \n",
    "    derivadas_variable.append(derivada_variable)\n",
    "derivadas_variable"
   ]
  },
  {
   "cell_type": "code",
   "execution_count": 16,
   "id": "2669cc9d",
   "metadata": {},
   "outputs": [],
   "source": [
    "simbolos_chistoffle = [[[0 for j in variables] for i in variables] for m in variables]\n",
    "\n",
    "\n",
    "for m in range(len(variables)):\n",
    "    for i in range(len(variables)):\n",
    "        for j in range(len(variables)):\n",
    "            simbolo = 0\n",
    "            #El sumatorio respecto del indice libre l \n",
    "            for l in range(len(variables)):\n",
    "                #Para evitar hacer una multiplicación por 0 \n",
    "                if  g_inv[m][l] != 0: \n",
    "                    simbolo =simbolo + g_inv[m][l]*(derivadas_variable[j][i][l]+derivadas_variable[i][j][l]-derivadas_variable[l][i][j])\n",
    "            simbolo =1/2*simbolo\n",
    "            simbolos_chistoffle[m][i][j] = simplify(simbolo)"
   ]
  },
  {
   "cell_type": "code",
   "execution_count": 17,
   "id": "71133660",
   "metadata": {},
   "outputs": [],
   "source": [
    "#Variable para poder derivar \n",
    "tau = sp.symbols(\"tau\")\n",
    "\n",
    "#Defino las derivadas, esto para poder resolverlo \n",
    "dt = sp.Function('dt')(tau)\n",
    "dx = sp.Function(\"dx\")(tau)\n",
    "dy = sp.Function('dy')(tau) \n",
    "dz =  sp.Function('dz')(tau)\n",
    "\n",
    "#Quitamos dz\n",
    "variables_derivadas = [dt,dx,dy,dz]\n"
   ]
  },
  {
   "cell_type": "code",
   "execution_count": 18,
   "id": "7cc925a2",
   "metadata": {},
   "outputs": [],
   "source": [
    "#Esto va a con\n",
    "geodesicas = [i.diff(tau) for i in variables_derivadas]\n",
    "\n",
    "for variable in range(len(variables)): \n",
    "    for i in range(len(variables)):\n",
    "        for j in range(len(variables)):\n",
    "            geodesicas[variable] = geodesicas[variable] +simplify( simbolos_chistoffle[variable][i][j]*variables_derivadas[i]*variables_derivadas[j])\n",
    "    geodesicas[variable] = sp.Eq(geodesicas[variable],0)\n",
    "    \n"
   ]
  },
  {
   "cell_type": "code",
   "execution_count": 23,
   "id": "20d8a4f9",
   "metadata": {},
   "outputs": [
    {
     "data": {
      "image/png": "[encoded data removed]",
      "text/latex": [
       "$\\displaystyle \\frac{d}{d \\tau} \\operatorname{dt}{\\left(\\tau \\right)} = 0$"
      ],
      "text/plain": [
       "d            \n",
       "──(dt(τ)) = 0\n",
       "dτ           "
      ]
     },
     "metadata": {},
     "output_type": "display_data"
    },
    {
     "data": {
      "image/png": "[encoded data removed]",
      "text/latex": [
       "$\\displaystyle \\frac{d}{d \\tau} \\operatorname{dx}{\\left(\\tau \\right)} = 0$"
      ],
      "text/plain": [
       "d            \n",
       "──(dx(τ)) = 0\n",
       "dτ           "
      ]
     },
     "metadata": {},
     "output_type": "display_data"
    },
    {
     "data": {
      "image/png": "[encoded data removed]",
      "text/latex": [
       "$\\displaystyle \\frac{d}{d \\tau} \\operatorname{dy}{\\left(\\tau \\right)} = 0$"
      ],
      "text/plain": [
       "d            \n",
       "──(dy(τ)) = 0\n",
       "dτ           "
      ]
     },
     "metadata": {},
     "output_type": "display_data"
    },
    {
     "data": {
      "image/png": "[encoded data removed]",
      "text/latex": [
       "$\\displaystyle \\frac{d}{d \\tau} \\operatorname{dz}{\\left(\\tau \\right)} = 0$"
      ],
      "text/plain": [
       "d            \n",
       "──(dz(τ)) = 0\n",
       "dτ           "
      ]
     },
     "metadata": {},
     "output_type": "display_data"
    }
   ],
   "source": [
    "for v in geodesicas: \n",
    "    display(v)"
   ]
  },
  {
   "cell_type": "code",
   "execution_count": 24,
   "id": "d45e5a4e",
   "metadata": {},
   "outputs": [],
   "source": [
    "t = sp.Function('t')(tau)\n",
    "x = sp.Function('x')(tau)\n",
    "y = sp.Function('y')(tau)"
   ]
  },
  {
   "cell_type": "code",
   "execution_count": 25,
   "id": "3518b9f9",
   "metadata": {},
   "outputs": [],
   "source": [
    "u_0 =  sp.Function('u_0')(tau)\n",
    "u_1 = sp.Function(\"u_1\")(tau)\n",
    "u_2 = sp.Function(\"u_2\")(tau)"
   ]
  },
  {
   "cell_type": "code",
   "execution_count": 26,
   "id": "86667ba2",
   "metadata": {},
   "outputs": [
    {
     "data": {
      "image/png": "[encoded data removed]",
      "text/latex": [
       "$\\displaystyle \\frac{d}{d \\tau} t{\\left(\\tau \\right)} = \\operatorname{u_{0}}{\\left(\\tau \\right)}$"
      ],
      "text/plain": [
       "d               \n",
       "──(t(τ)) = u₀(τ)\n",
       "dτ              "
      ]
     },
     "execution_count": 26,
     "metadata": {},
     "output_type": "execute_result"
    }
   ],
   "source": [
    "dt = sp.Eq(t.diff(),u_0)\n",
    "dt"
   ]
  },
  {
   "cell_type": "code",
   "execution_count": 27,
   "id": "4fdcb131",
   "metadata": {},
   "outputs": [
    {
     "data": {
      "image/png": "[encoded data removed]",
      "text/latex": [
       "$\\displaystyle \\frac{d}{d \\tau} x{\\left(\\tau \\right)} = \\operatorname{u_{1}}{\\left(\\tau \\right)}$"
      ],
      "text/plain": [
       "d               \n",
       "──(x(τ)) = u₁(τ)\n",
       "dτ              "
      ]
     },
     "execution_count": 27,
     "metadata": {},
     "output_type": "execute_result"
    }
   ],
   "source": [
    "dx = sp.Eq(x.diff(),u_1)\n",
    "dx"
   ]
  },
  {
   "cell_type": "code",
   "execution_count": 28,
   "id": "76059756",
   "metadata": {},
   "outputs": [
    {
     "data": {
      "image/png": "[encoded data removed]",
      "text/latex": [
       "$\\displaystyle \\frac{d}{d \\tau} y{\\left(\\tau \\right)} = \\operatorname{u_{2}}{\\left(\\tau \\right)}$"
      ],
      "text/plain": [
       "d               \n",
       "──(y(τ)) = u₂(τ)\n",
       "dτ              "
      ]
     },
     "execution_count": 28,
     "metadata": {},
     "output_type": "execute_result"
    }
   ],
   "source": [
    "dy = sp.Eq(y.diff(),u_2)\n",
    "dy"
   ]
  },
  {
   "cell_type": "code",
   "execution_count": 36,
   "id": "9db0e538",
   "metadata": {},
   "outputs": [
    {
     "data": {
      "image/png": "[encoded data removed]",
      "text/latex": [
       "$\\displaystyle \\frac{d}{d \\tau} \\operatorname{u_{0}}{\\left(\\tau \\right)} = 0$"
      ],
      "text/plain": [
       "d            \n",
       "──(u₀(τ)) = 0\n",
       "dτ           "
      ]
     },
     "execution_count": 36,
     "metadata": {},
     "output_type": "execute_result"
    }
   ],
   "source": [
    "du_0 = sp.Eq(u_0.diff(),0)\n",
    "du_0"
   ]
  },
  {
   "cell_type": "code",
   "execution_count": 37,
   "id": "946950bc",
   "metadata": {},
   "outputs": [
    {
     "data": {
      "image/png": "[encoded data removed]",
      "text/latex": [
       "$\\displaystyle \\frac{d}{d \\tau} \\operatorname{u_{1}}{\\left(\\tau \\right)} = 0$"
      ],
      "text/plain": [
       "d            \n",
       "──(u₁(τ)) = 0\n",
       "dτ           "
      ]
     },
     "execution_count": 37,
     "metadata": {},
     "output_type": "execute_result"
    }
   ],
   "source": [
    "du_1 = sp.Eq(u_1.diff(),0)\n",
    "du_1"
   ]
  },
  {
   "cell_type": "code",
   "execution_count": 38,
   "id": "f73ec28a",
   "metadata": {},
   "outputs": [
    {
     "data": {
      "image/png": "[encoded data removed]",
      "text/latex": [
       "$\\displaystyle \\frac{d}{d \\tau} \\operatorname{u_{2}}{\\left(\\tau \\right)} = 0$"
      ],
      "text/plain": [
       "d            \n",
       "──(u₂(τ)) = 0\n",
       "dτ           "
      ]
     },
     "execution_count": 38,
     "metadata": {},
     "output_type": "execute_result"
    }
   ],
   "source": [
    "du_2 = sp.Eq(u_2.diff(),0)\n",
    "du_2"
   ]
  },
  {
   "cell_type": "code",
   "execution_count": 39,
   "id": "dd457007",
   "metadata": {},
   "outputs": [
    {
     "data": {
      "image/png": "[encoded data removed]",
      "text/latex": [
       "$\\displaystyle \\left[ \\left[ t{\\left(\\tau \\right)} = C_{1} + C_{2} \\tau, \\  x{\\left(\\tau \\right)} = C_{3} + C_{4} \\tau, \\  y{\\left(\\tau \\right)} = C_{5} + C_{6} \\tau, \\  \\operatorname{u_{0}}{\\left(\\tau \\right)} = C_{2}, \\  \\operatorname{u_{1}}{\\left(\\tau \\right)} = C_{4}, \\  \\operatorname{u_{2}}{\\left(\\tau \\right)} = C_{6}\\right]\\right]$"
      ],
      "text/plain": [
       "[[t(τ) = C₁ + C₂⋅τ, x(τ) = C₃ + C₄⋅τ, y(τ) = C₅ + C₆⋅τ, u₀(τ) = C₂, u₁(τ) = C₄\n",
       ", u₂(τ) = C₆]]"
      ]
     },
     "execution_count": 39,
     "metadata": {},
     "output_type": "execute_result"
    }
   ],
   "source": [
    "dsolve_system([dt,dx,dy,du_0,du_1,du_2])"
   ]
  },
  {
   "cell_type": "code",
   "execution_count": null,
   "id": "ac5f1af6",
   "metadata": {},
   "outputs": [],
   "source": []
  }
 ],
 "metadata": {
  "kernelspec": {
   "display_name": "Python 3",
   "language": "python",
   "name": "python3"
  },
  "language_info": {
   "codemirror_mode": {
    "name": "ipython",
    "version": 3
   },
   "file_extension": ".py",
   "mimetype": "text/x-python",
   "name": "python",
   "nbconvert_exporter": "python",
   "pygments_lexer": "ipython3",
   "version": "3.8.5"
  }
 },
 "nbformat": 4,
 "nbformat_minor": 5
}
